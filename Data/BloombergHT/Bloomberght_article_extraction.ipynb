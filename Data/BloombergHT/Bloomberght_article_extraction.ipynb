{
 "cells": [
  {
   "cell_type": "code",
   "execution_count": null,
   "id": "ad3c0a2e-5bf8-4731-b7e3-eddbc452bef5",
   "metadata": {},
   "outputs": [],
   "source": []
  },
  {
   "cell_type": "code",
   "execution_count": null,
   "id": "d9523c84-0707-4eb0-a515-31ce291dfe1f",
   "metadata": {},
   "outputs": [],
   "source": []
  },
  {
   "cell_type": "code",
   "execution_count": null,
   "id": "6d8d2fe1-fe93-4b81-a945-3e2224c6d0fe",
   "metadata": {},
   "outputs": [],
   "source": []
  },
  {
   "cell_type": "code",
   "execution_count": null,
   "id": "9ec892a0-1cb3-43d9-8b4d-5d3da3b3fa96",
   "metadata": {},
   "outputs": [],
   "source": []
  },
  {
   "cell_type": "code",
   "execution_count": null,
   "id": "ae48f2d3-c033-4839-9d27-98ecc75f2ef0",
   "metadata": {},
   "outputs": [],
   "source": []
  },
  {
   "cell_type": "code",
   "execution_count": null,
   "id": "341a591e-4765-4e62-ac62-83b4171f7fa1",
   "metadata": {},
   "outputs": [],
   "source": [
    "import requests\n",
    "import json\n",
    "import time\n",
    "import os\n",
    "from bs4 import BeautifulSoup\n",
    "from concurrent.futures import ThreadPoolExecutor, as_completed\n",
    "from tqdm import tqdm\n",
    "\n",
    "# === CONFIGURATION ===\n",
    "INPUT_FILE = \"bloomberght_2011_2025_links_with_wayback.json\"\n",
    "OUTPUT_FILE = \"bloomberght_articles_enriched.json\"\n",
    "TEMP_FILE = \"bloomberght_articles_partial.json\"\n",
    "MAX_RETRIES = 2\n",
    "SLEEP_BETWEEN_REQUESTS = 0.5\n",
    "SAVE_EVERY = 1000\n",
    "NUM_THREADS = 20\n",
    "\n",
    "# === Load input file ===\n",
    "with open(INPUT_FILE, \"r\", encoding=\"utf-8\") as f:\n",
    "    data = json.load(f)\n",
    "\n",
    "# === Resume if temp file exists ===\n",
    "enriched_data = []\n",
    "start_index = 0\n",
    "\n",
    "if os.path.exists(TEMP_FILE):\n",
    "    with open(TEMP_FILE, \"r\", encoding=\"utf-8\") as f:\n",
    "        enriched_data = json.load(f)\n",
    "        start_index = len(enriched_data)\n",
    "    print(f\"🔁 Resuming from index {start_index}...\")\n",
    "\n",
    "# === User-Agent header ===\n",
    "headers = {\n",
    "    \"User-Agent\": \"Mozilla/5.0 (compatible; ArticleScraper/1.0)\"\n",
    "}\n",
    "\n",
    "# === Scraping function ===\n",
    "def scrape_article(entry):\n",
    "    url = entry[\"wayback_raw_url\"]\n",
    "    for _ in range(MAX_RETRIES):\n",
    "        try:\n",
    "            response = requests.get(url, headers=headers, timeout=15)\n",
    "            if response.status_code == 200:\n",
    "                soup = BeautifulSoup(response.text, \"html.parser\")\n",
    "\n",
    "                title = soup.select_one(\"h1\")\n",
    "                sub = soup.select_one(\".amp-r-margin\")\n",
    "                time_tag = soup.select_one(\".article-time\")\n",
    "                paragraphs = soup.find_all(\"p\")\n",
    "\n",
    "                return {\n",
    "                    \"title\": title.get_text(strip=True) if title else \"\",\n",
    "                    \"subarticle\": sub.get_text(strip=True) if sub else \"\",\n",
    "                    \"article_time\": time_tag.get_text(strip=True) if time_tag else \"\",\n",
    "                    \"article_body\": \"\\n\".join(p.get_text(strip=True) for p in paragraphs)\n",
    "                }\n",
    "        except Exception:\n",
    "            pass\n",
    "        time.sleep(SLEEP_BETWEEN_REQUESTS)\n",
    "\n",
    "    return {\n",
    "        \"title\": \"\",\n",
    "        \"subarticle\": \"\",\n",
    "        \"article_time\": \"\",\n",
    "        \"article_body\": \"\"\n",
    "    }\n",
    "\n",
    "# === Multithreaded execution ===\n",
    "to_process = data[start_index:start_index+1000]\n",
    "with ThreadPoolExecutor(max_workers=NUM_THREADS) as executor:\n",
    "    futures = {executor.submit(scrape_article, entry): i for i, entry in enumerate(to_process)}\n",
    "    temp_batch = []\n",
    "\n",
    "    for count, future in enumerate(tqdm(as_completed(futures), total=len(futures), desc=\"Scraping\")):\n",
    "        index = futures[future]\n",
    "        entry = to_process[index]\n",
    "        result = future.result()\n",
    "        full_entry = {**entry, **result}\n",
    "        enriched_data.append(full_entry)\n",
    "        temp_batch.append(full_entry)\n",
    "\n",
    "        # Save every 1000 entries\n",
    "        if len(enriched_data) % SAVE_EVERY == 0:\n",
    "            with open(TEMP_FILE, \"w\", encoding=\"utf-8\") as f:\n",
    "                json.dump(enriched_data, f, ensure_ascii=False, indent=2)\n",
    "            print(f\"💾 Saved 1000 more entries (i.e. up to entry #{start_index + len(enriched_data)}) to the file...\")\n",
    "\n",
    "# === Final save ===\n",
    "with open(OUTPUT_FILE, \"w\", encoding=\"utf-8\") as f:\n",
    "    json.dump(enriched_data, f, ensure_ascii=False, indent=2)\n",
    "\n",
    "print(f\"\\n✅ Done! Final enriched dataset saved to: {OUTPUT_FILE}\")\n"
   ]
  },
  {
   "cell_type": "code",
   "execution_count": null,
   "id": "9e81aad8-d8d2-4269-af44-1480214847f3",
   "metadata": {},
   "outputs": [],
   "source": []
  },
  {
   "cell_type": "code",
   "execution_count": null,
   "id": "c3b69f2c-c909-4a2d-b8b0-ad7831b60fc1",
   "metadata": {},
   "outputs": [],
   "source": []
  },
  {
   "cell_type": "code",
   "execution_count": null,
   "id": "f1404a6b-3432-499a-bd10-a65b98d95bb9",
   "metadata": {},
   "outputs": [],
   "source": []
  },
  {
   "cell_type": "code",
   "execution_count": null,
   "id": "61387b9f-9af7-4d4c-bd05-63aedacf50e6",
   "metadata": {},
   "outputs": [],
   "source": []
  },
  {
   "cell_type": "code",
   "execution_count": null,
   "id": "a734ad6e-928b-40f9-9427-5af71a461cce",
   "metadata": {},
   "outputs": [],
   "source": []
  },
  {
   "cell_type": "code",
   "execution_count": null,
   "id": "9b5868a4-e4cc-4b59-8585-10fb13b602ee",
   "metadata": {},
   "outputs": [],
   "source": []
  },
  {
   "cell_type": "code",
   "execution_count": 1,
   "id": "70cc495c-67cf-4a97-8516-c238b56d3c16",
   "metadata": {},
   "outputs": [
    {
     "name": "stdout",
     "output_type": "stream",
     "text": [
      "🔁 Resuming from index 1000...\n"
     ]
    },
    {
     "name": "stderr",
     "output_type": "stream",
     "text": [
      "Scraping (XPath):   0%|                                                        | 1003/464680 [00:37<8:05:21, 15.92it/s]"
     ]
    },
    {
     "name": "stdout",
     "output_type": "stream",
     "text": [
      "💾 Saved 1000 more entries (up to #3000) to the file...\n"
     ]
    },
    {
     "name": "stderr",
     "output_type": "stream",
     "text": [
      "Scraping (XPath):   0%|▏                                                       | 2011/464680 [01:18<3:32:36, 36.27it/s]"
     ]
    },
    {
     "name": "stdout",
     "output_type": "stream",
     "text": [
      "💾 Saved 1000 more entries (up to #4000) to the file...\n"
     ]
    },
    {
     "name": "stderr",
     "output_type": "stream",
     "text": [
      "Scraping (XPath):   1%|▎                                                       | 3009/464680 [01:56<5:02:07, 25.47it/s]"
     ]
    },
    {
     "name": "stdout",
     "output_type": "stream",
     "text": [
      "💾 Saved 1000 more entries (up to #5000) to the file...\n"
     ]
    },
    {
     "name": "stderr",
     "output_type": "stream",
     "text": [
      "Scraping (XPath):   1%|▍                                                       | 4007/464680 [02:38<6:10:37, 20.72it/s]"
     ]
    },
    {
     "name": "stdout",
     "output_type": "stream",
     "text": [
      "💾 Saved 1000 more entries (up to #6000) to the file...\n"
     ]
    },
    {
     "name": "stderr",
     "output_type": "stream",
     "text": [
      "Scraping (XPath):   1%|▌                                                       | 5000/464680 [03:20<5:56:02, 21.52it/s]"
     ]
    },
    {
     "name": "stdout",
     "output_type": "stream",
     "text": [
      "💾 Saved 1000 more entries (up to #7000) to the file...\n"
     ]
    },
    {
     "name": "stderr",
     "output_type": "stream",
     "text": [
      "Scraping (XPath):   1%|▋                                                       | 6019/464680 [04:00<3:59:50, 31.87it/s]"
     ]
    },
    {
     "name": "stdout",
     "output_type": "stream",
     "text": [
      "💾 Saved 1000 more entries (up to #8000) to the file...\n"
     ]
    },
    {
     "name": "stderr",
     "output_type": "stream",
     "text": [
      "Scraping (XPath):   2%|▊                                                       | 7021/464680 [04:38<3:28:25, 36.60it/s]"
     ]
    },
    {
     "name": "stdout",
     "output_type": "stream",
     "text": [
      "💾 Saved 1000 more entries (up to #9000) to the file...\n"
     ]
    },
    {
     "name": "stderr",
     "output_type": "stream",
     "text": [
      "Scraping (XPath):   2%|▉                                                       | 8011/464680 [05:17<4:14:30, 29.91it/s]"
     ]
    },
    {
     "name": "stdout",
     "output_type": "stream",
     "text": [
      "💾 Saved 1000 more entries (up to #10000) to the file...\n"
     ]
    },
    {
     "name": "stderr",
     "output_type": "stream",
     "text": [
      "Scraping (XPath):   2%|█                                                       | 9026/464680 [06:05<3:08:42, 40.24it/s]"
     ]
    },
    {
     "name": "stdout",
     "output_type": "stream",
     "text": [
      "💾 Saved 1000 more entries (up to #11000) to the file...\n"
     ]
    },
    {
     "name": "stderr",
     "output_type": "stream",
     "text": [
      "Scraping (XPath):   2%|█▏                                                     | 10038/464680 [06:35<2:38:41, 47.75it/s]"
     ]
    },
    {
     "name": "stdout",
     "output_type": "stream",
     "text": [
      "💾 Saved 1000 more entries (up to #12000) to the file...\n"
     ]
    },
    {
     "name": "stderr",
     "output_type": "stream",
     "text": [
      "Scraping (XPath):   2%|█▎                                                     | 11037/464680 [07:06<2:47:08, 45.24it/s]"
     ]
    },
    {
     "name": "stdout",
     "output_type": "stream",
     "text": [
      "💾 Saved 1000 more entries (up to #13000) to the file...\n"
     ]
    },
    {
     "name": "stderr",
     "output_type": "stream",
     "text": [
      "Scraping (XPath):   3%|█▍                                                     | 12020/464680 [07:37<4:09:05, 30.29it/s]"
     ]
    },
    {
     "name": "stdout",
     "output_type": "stream",
     "text": [
      "💾 Saved 1000 more entries (up to #14000) to the file...\n"
     ]
    },
    {
     "name": "stderr",
     "output_type": "stream",
     "text": [
      "Scraping (XPath):   3%|█▌                                                     | 13028/464680 [08:06<3:20:52, 37.47it/s]"
     ]
    },
    {
     "name": "stdout",
     "output_type": "stream",
     "text": [
      "💾 Saved 1000 more entries (up to #15000) to the file...\n"
     ]
    },
    {
     "name": "stderr",
     "output_type": "stream",
     "text": [
      "Scraping (XPath):   3%|█▋                                                     | 14049/464680 [08:33<2:25:19, 51.68it/s]"
     ]
    },
    {
     "name": "stdout",
     "output_type": "stream",
     "text": [
      "💾 Saved 1000 more entries (up to #16000) to the file...\n"
     ]
    },
    {
     "name": "stderr",
     "output_type": "stream",
     "text": [
      "Scraping (XPath):   3%|█▊                                                     | 15042/464680 [09:17<2:45:03, 45.40it/s]"
     ]
    },
    {
     "name": "stdout",
     "output_type": "stream",
     "text": [
      "💾 Saved 1000 more entries (up to #17000) to the file...\n"
     ]
    },
    {
     "name": "stderr",
     "output_type": "stream",
     "text": [
      "Scraping (XPath):   3%|█▉                                                     | 16043/464680 [09:56<3:13:38, 38.61it/s]"
     ]
    },
    {
     "name": "stdout",
     "output_type": "stream",
     "text": [
      "💾 Saved 1000 more entries (up to #18000) to the file...\n"
     ]
    },
    {
     "name": "stderr",
     "output_type": "stream",
     "text": [
      "Scraping (XPath):   4%|██                                                     | 17036/464680 [10:36<3:34:32, 34.78it/s]"
     ]
    },
    {
     "name": "stdout",
     "output_type": "stream",
     "text": [
      "💾 Saved 1000 more entries (up to #19000) to the file...\n"
     ]
    },
    {
     "name": "stderr",
     "output_type": "stream",
     "text": [
      "Scraping (XPath):   4%|██▏                                                    | 18032/464680 [11:14<4:13:30, 29.36it/s]"
     ]
    },
    {
     "name": "stdout",
     "output_type": "stream",
     "text": [
      "💾 Saved 1000 more entries (up to #20000) to the file...\n"
     ]
    },
    {
     "name": "stderr",
     "output_type": "stream",
     "text": [
      "Scraping (XPath):   4%|██▎                                                    | 19038/464680 [11:55<3:40:58, 33.61it/s]"
     ]
    },
    {
     "name": "stdout",
     "output_type": "stream",
     "text": [
      "💾 Saved 1000 more entries (up to #21000) to the file...\n"
     ]
    },
    {
     "name": "stderr",
     "output_type": "stream",
     "text": [
      "Scraping (XPath):   4%|██▎                                                    | 20057/464680 [12:30<2:52:37, 42.93it/s]"
     ]
    },
    {
     "name": "stdout",
     "output_type": "stream",
     "text": [
      "💾 Saved 1000 more entries (up to #22000) to the file...\n"
     ]
    },
    {
     "name": "stderr",
     "output_type": "stream",
     "text": [
      "Scraping (XPath):   5%|██▍                                                    | 21030/464680 [13:03<4:58:57, 24.73it/s]"
     ]
    },
    {
     "name": "stdout",
     "output_type": "stream",
     "text": [
      "💾 Saved 1000 more entries (up to #23000) to the file...\n"
     ]
    },
    {
     "name": "stderr",
     "output_type": "stream",
     "text": [
      "Scraping (XPath):   5%|██▌                                                    | 22075/464680 [13:39<2:10:24, 56.56it/s]"
     ]
    },
    {
     "name": "stdout",
     "output_type": "stream",
     "text": [
      "💾 Saved 1000 more entries (up to #24000) to the file...\n"
     ]
    },
    {
     "name": "stderr",
     "output_type": "stream",
     "text": [
      "Scraping (XPath):   5%|██▋                                                    | 23094/464680 [14:09<2:22:55, 51.49it/s]"
     ]
    },
    {
     "name": "stdout",
     "output_type": "stream",
     "text": [
      "💾 Saved 1000 more entries (up to #25000) to the file...\n"
     ]
    },
    {
     "name": "stderr",
     "output_type": "stream",
     "text": [
      "Scraping (XPath):   5%|██▊                                                    | 24118/464680 [14:33<1:43:43, 70.79it/s]"
     ]
    },
    {
     "name": "stdout",
     "output_type": "stream",
     "text": [
      "💾 Saved 1000 more entries (up to #26000) to the file...\n"
     ]
    },
    {
     "name": "stderr",
     "output_type": "stream",
     "text": [
      "Scraping (XPath):   5%|██▉                                                    | 25047/464680 [15:30<3:29:00, 35.06it/s]"
     ]
    },
    {
     "name": "stdout",
     "output_type": "stream",
     "text": [
      "💾 Saved 1000 more entries (up to #27000) to the file...\n"
     ]
    },
    {
     "name": "stderr",
     "output_type": "stream",
     "text": [
      "Scraping (XPath):   6%|███                                                    | 26037/464680 [16:02<4:23:14, 27.77it/s]"
     ]
    },
    {
     "name": "stdout",
     "output_type": "stream",
     "text": [
      "💾 Saved 1000 more entries (up to #28000) to the file...\n"
     ]
    },
    {
     "name": "stderr",
     "output_type": "stream",
     "text": [
      "Scraping (XPath):   6%|███▏                                                   | 27060/464680 [16:37<3:29:26, 34.82it/s]"
     ]
    },
    {
     "name": "stdout",
     "output_type": "stream",
     "text": [
      "💾 Saved 1000 more entries (up to #29000) to the file...\n"
     ]
    },
    {
     "name": "stderr",
     "output_type": "stream",
     "text": [
      "Scraping (XPath):   6%|███▎                                                  | 28001/464680 [17:42<34:03:12,  3.56it/s]"
     ]
    },
    {
     "name": "stdout",
     "output_type": "stream",
     "text": [
      "💾 Saved 1000 more entries (up to #30000) to the file...\n"
     ]
    },
    {
     "name": "stderr",
     "output_type": "stream",
     "text": [
      "Scraping (XPath):   6%|███▎                                                  | 29000/464680 [19:00<34:35:57,  3.50it/s]"
     ]
    },
    {
     "name": "stdout",
     "output_type": "stream",
     "text": [
      "💾 Saved 1000 more entries (up to #31000) to the file...\n"
     ]
    },
    {
     "name": "stderr",
     "output_type": "stream",
     "text": [
      "Scraping (XPath):   6%|███▌                                                   | 30033/464680 [20:05<5:35:36, 21.59it/s]"
     ]
    },
    {
     "name": "stdout",
     "output_type": "stream",
     "text": [
      "💾 Saved 1000 more entries (up to #32000) to the file...\n"
     ]
    },
    {
     "name": "stderr",
     "output_type": "stream",
     "text": [
      "Scraping (XPath):   7%|███▋                                                   | 31033/464680 [21:01<5:16:13, 22.86it/s]"
     ]
    },
    {
     "name": "stdout",
     "output_type": "stream",
     "text": [
      "💾 Saved 1000 more entries (up to #33000) to the file...\n"
     ]
    },
    {
     "name": "stderr",
     "output_type": "stream",
     "text": [
      "Scraping (XPath):   7%|███▊                                                   | 32067/464680 [21:35<2:37:24, 45.80it/s]"
     ]
    },
    {
     "name": "stdout",
     "output_type": "stream",
     "text": [
      "💾 Saved 1000 more entries (up to #34000) to the file...\n"
     ]
    },
    {
     "name": "stderr",
     "output_type": "stream",
     "text": [
      "Scraping (XPath):   7%|███▉                                                   | 33115/464680 [22:05<1:53:02, 63.63it/s]"
     ]
    },
    {
     "name": "stdout",
     "output_type": "stream",
     "text": [
      "💾 Saved 1000 more entries (up to #35000) to the file...\n"
     ]
    },
    {
     "name": "stderr",
     "output_type": "stream",
     "text": [
      "Scraping (XPath):   7%|████                                                   | 34080/464680 [22:31<2:29:20, 48.05it/s]"
     ]
    },
    {
     "name": "stdout",
     "output_type": "stream",
     "text": [
      "💾 Saved 1000 more entries (up to #36000) to the file...\n"
     ]
    },
    {
     "name": "stderr",
     "output_type": "stream",
     "text": [
      "Scraping (XPath):   8%|████▏                                                  | 35060/464680 [22:58<3:04:02, 38.90it/s]"
     ]
    },
    {
     "name": "stdout",
     "output_type": "stream",
     "text": [
      "💾 Saved 1000 more entries (up to #37000) to the file...\n"
     ]
    },
    {
     "name": "stderr",
     "output_type": "stream",
     "text": [
      "Scraping (XPath):   8%|████▎                                                  | 36087/464680 [23:30<2:34:02, 46.37it/s]"
     ]
    },
    {
     "name": "stdout",
     "output_type": "stream",
     "text": [
      "💾 Saved 1000 more entries (up to #38000) to the file...\n"
     ]
    },
    {
     "name": "stderr",
     "output_type": "stream",
     "text": [
      "Scraping (XPath):   8%|████▎                                                 | 37000/464680 [24:03<19:05:59,  6.22it/s]"
     ]
    },
    {
     "name": "stdout",
     "output_type": "stream",
     "text": [
      "💾 Saved 1000 more entries (up to #39000) to the file...\n"
     ]
    },
    {
     "name": "stderr",
     "output_type": "stream",
     "text": [
      "Scraping (XPath):   8%|████▍                                                 | 38000/464680 [24:35<19:02:14,  6.23it/s]"
     ]
    },
    {
     "name": "stdout",
     "output_type": "stream",
     "text": [
      "💾 Saved 1000 more entries (up to #40000) to the file...\n"
     ]
    },
    {
     "name": "stderr",
     "output_type": "stream",
     "text": [
      "Scraping (XPath):   8%|████▌                                                  | 39074/464680 [25:13<3:00:30, 39.30it/s]"
     ]
    },
    {
     "name": "stdout",
     "output_type": "stream",
     "text": [
      "💾 Saved 1000 more entries (up to #41000) to the file...\n"
     ]
    },
    {
     "name": "stderr",
     "output_type": "stream",
     "text": [
      "Scraping (XPath):   9%|████▋                                                  | 40082/464680 [25:49<2:50:30, 41.51it/s]"
     ]
    },
    {
     "name": "stdout",
     "output_type": "stream",
     "text": [
      "💾 Saved 1000 more entries (up to #42000) to the file...\n"
     ]
    },
    {
     "name": "stderr",
     "output_type": "stream",
     "text": [
      "Scraping (XPath):   9%|████▊                                                  | 41064/464680 [26:21<3:19:12, 35.44it/s]"
     ]
    },
    {
     "name": "stdout",
     "output_type": "stream",
     "text": [
      "💾 Saved 1000 more entries (up to #43000) to the file...\n"
     ]
    },
    {
     "name": "stderr",
     "output_type": "stream",
     "text": [
      "Scraping (XPath):   9%|████▉                                                  | 42071/464680 [26:55<3:16:44, 35.80it/s]"
     ]
    },
    {
     "name": "stdout",
     "output_type": "stream",
     "text": [
      "💾 Saved 1000 more entries (up to #44000) to the file...\n"
     ]
    },
    {
     "name": "stderr",
     "output_type": "stream",
     "text": [
      "Scraping (XPath):   9%|████▉                                                 | 43002/464680 [27:32<23:27:30,  4.99it/s]"
     ]
    },
    {
     "name": "stdout",
     "output_type": "stream",
     "text": [
      "💾 Saved 1000 more entries (up to #45000) to the file...\n"
     ]
    },
    {
     "name": "stderr",
     "output_type": "stream",
     "text": [
      "Scraping (XPath):   9%|█████▏                                                 | 44060/464680 [28:12<3:33:41, 32.81it/s]"
     ]
    },
    {
     "name": "stdout",
     "output_type": "stream",
     "text": [
      "💾 Saved 1000 more entries (up to #46000) to the file...\n"
     ]
    },
    {
     "name": "stderr",
     "output_type": "stream",
     "text": [
      "Scraping (XPath):  10%|█████▎                                                 | 45092/464680 [28:44<2:44:09, 42.60it/s]"
     ]
    },
    {
     "name": "stdout",
     "output_type": "stream",
     "text": [
      "💾 Saved 1000 more entries (up to #47000) to the file...\n"
     ]
    },
    {
     "name": "stderr",
     "output_type": "stream",
     "text": [
      "Scraping (XPath):  10%|█████▍                                                 | 46084/464680 [29:23<2:56:28, 39.53it/s]"
     ]
    },
    {
     "name": "stdout",
     "output_type": "stream",
     "text": [
      "💾 Saved 1000 more entries (up to #48000) to the file...\n"
     ]
    },
    {
     "name": "stderr",
     "output_type": "stream",
     "text": [
      "Scraping (XPath):  10%|█████▌                                                 | 47093/464680 [29:55<2:43:52, 42.47it/s]"
     ]
    },
    {
     "name": "stdout",
     "output_type": "stream",
     "text": [
      "💾 Saved 1000 more entries (up to #49000) to the file...\n"
     ]
    },
    {
     "name": "stderr",
     "output_type": "stream",
     "text": [
      "Scraping (XPath):  10%|█████▋                                                 | 48090/464680 [30:28<2:55:55, 39.46it/s]"
     ]
    },
    {
     "name": "stdout",
     "output_type": "stream",
     "text": [
      "💾 Saved 1000 more entries (up to #50000) to the file...\n"
     ]
    },
    {
     "name": "stderr",
     "output_type": "stream",
     "text": [
      "Scraping (XPath):  11%|█████▊                                                 | 49119/464680 [30:57<2:22:20, 48.66it/s]"
     ]
    },
    {
     "name": "stdout",
     "output_type": "stream",
     "text": [
      "💾 Saved 1000 more entries (up to #51000) to the file...\n"
     ]
    },
    {
     "name": "stderr",
     "output_type": "stream",
     "text": [
      "Scraping (XPath):  11%|█████▉                                                 | 50117/464680 [31:30<2:26:21, 47.21it/s]"
     ]
    },
    {
     "name": "stdout",
     "output_type": "stream",
     "text": [
      "💾 Saved 1000 more entries (up to #52000) to the file...\n"
     ]
    },
    {
     "name": "stderr",
     "output_type": "stream",
     "text": [
      "Scraping (XPath):  11%|██████                                                 | 51069/464680 [32:32<3:55:23, 29.28it/s]"
     ]
    },
    {
     "name": "stdout",
     "output_type": "stream",
     "text": [
      "💾 Saved 1000 more entries (up to #53000) to the file...\n"
     ]
    },
    {
     "name": "stderr",
     "output_type": "stream",
     "text": [
      "Scraping (XPath):  11%|█████▉                                               | 52000/464680 [34:19<164:49:05,  1.44s/it]"
     ]
    },
    {
     "name": "stdout",
     "output_type": "stream",
     "text": [
      "💾 Saved 1000 more entries (up to #54000) to the file...\n"
     ]
    },
    {
     "name": "stderr",
     "output_type": "stream",
     "text": [
      "Scraping (XPath):  11%|██████▎                                                | 53032/464680 [36:09<7:59:59, 14.29it/s]"
     ]
    },
    {
     "name": "stdout",
     "output_type": "stream",
     "text": [
      "💾 Saved 1000 more entries (up to #55000) to the file...\n"
     ]
    },
    {
     "name": "stderr",
     "output_type": "stream",
     "text": [
      "Scraping (XPath):  12%|██████▍                                                | 54061/464680 [37:55<4:36:52, 24.72it/s]"
     ]
    },
    {
     "name": "stdout",
     "output_type": "stream",
     "text": [
      "💾 Saved 1000 more entries (up to #56000) to the file...\n"
     ]
    },
    {
     "name": "stderr",
     "output_type": "stream",
     "text": [
      "Scraping (XPath):  12%|██████▌                                                | 55029/464680 [39:36<7:57:49, 14.29it/s]"
     ]
    },
    {
     "name": "stdout",
     "output_type": "stream",
     "text": [
      "💾 Saved 1000 more entries (up to #57000) to the file...\n"
     ]
    },
    {
     "name": "stderr",
     "output_type": "stream",
     "text": [
      "Scraping (XPath):  12%|██████▋                                                | 56032/464680 [41:12<8:24:23, 13.50it/s]"
     ]
    },
    {
     "name": "stdout",
     "output_type": "stream",
     "text": [
      "💾 Saved 1000 more entries (up to #58000) to the file...\n"
     ]
    },
    {
     "name": "stderr",
     "output_type": "stream",
     "text": [
      "Scraping (XPath):  12%|██████▊                                                | 57032/464680 [43:10<8:22:27, 13.52it/s]"
     ]
    },
    {
     "name": "stdout",
     "output_type": "stream",
     "text": [
      "💾 Saved 1000 more entries (up to #59000) to the file...\n"
     ]
    },
    {
     "name": "stderr",
     "output_type": "stream",
     "text": [
      "Scraping (XPath):  12%|██████▊                                                | 58036/464680 [45:20<7:31:05, 15.02it/s]"
     ]
    },
    {
     "name": "stdout",
     "output_type": "stream",
     "text": [
      "💾 Saved 1000 more entries (up to #60000) to the file...\n"
     ]
    },
    {
     "name": "stderr",
     "output_type": "stream",
     "text": [
      "Scraping (XPath):  13%|██████▉                                                | 59061/464680 [46:54<5:37:04, 20.06it/s]"
     ]
    },
    {
     "name": "stdout",
     "output_type": "stream",
     "text": [
      "💾 Saved 1000 more entries (up to #61000) to the file...\n"
     ]
    },
    {
     "name": "stderr",
     "output_type": "stream",
     "text": [
      "Scraping (XPath):  13%|███████                                                | 60064/464680 [47:51<4:47:31, 23.45it/s]"
     ]
    },
    {
     "name": "stdout",
     "output_type": "stream",
     "text": [
      "💾 Saved 1000 more entries (up to #62000) to the file...\n"
     ]
    },
    {
     "name": "stderr",
     "output_type": "stream",
     "text": [
      "Scraping (XPath):  13%|███████                                               | 61001/464680 [49:27<62:38:45,  1.79it/s]"
     ]
    },
    {
     "name": "stdout",
     "output_type": "stream",
     "text": [
      "💾 Saved 1000 more entries (up to #63000) to the file...\n"
     ]
    },
    {
     "name": "stderr",
     "output_type": "stream",
     "text": [
      "Scraping (XPath):  13%|███████▏                                              | 62000/464680 [51:26<93:23:36,  1.20it/s]"
     ]
    },
    {
     "name": "stdout",
     "output_type": "stream",
     "text": [
      "💾 Saved 1000 more entries (up to #64000) to the file...\n"
     ]
    },
    {
     "name": "stderr",
     "output_type": "stream",
     "text": [
      "Scraping (XPath):  14%|███████▍                                               | 63087/464680 [52:55<4:16:09, 26.13it/s]"
     ]
    },
    {
     "name": "stdout",
     "output_type": "stream",
     "text": [
      "💾 Saved 1000 more entries (up to #65000) to the file...\n"
     ]
    },
    {
     "name": "stderr",
     "output_type": "stream",
     "text": [
      "Scraping (XPath):  14%|███████▌                                               | 64117/464680 [53:54<3:11:10, 34.92it/s]"
     ]
    },
    {
     "name": "stdout",
     "output_type": "stream",
     "text": [
      "💾 Saved 1000 more entries (up to #66000) to the file...\n"
     ]
    },
    {
     "name": "stderr",
     "output_type": "stream",
     "text": [
      "Scraping (XPath):  14%|███████▌                                              | 65000/464680 [55:11<62:48:16,  1.77it/s]"
     ]
    },
    {
     "name": "stdout",
     "output_type": "stream",
     "text": [
      "💾 Saved 1000 more entries (up to #67000) to the file...\n"
     ]
    },
    {
     "name": "stderr",
     "output_type": "stream",
     "text": [
      "Scraping (XPath):  14%|███████▋                                              | 66003/464680 [56:03<36:44:10,  3.01it/s]"
     ]
    },
    {
     "name": "stdout",
     "output_type": "stream",
     "text": [
      "💾 Saved 1000 more entries (up to #68000) to the file...\n"
     ]
    },
    {
     "name": "stderr",
     "output_type": "stream",
     "text": [
      "Scraping (XPath):  14%|███████▉                                               | 67078/464680 [57:15<4:33:39, 24.21it/s]"
     ]
    },
    {
     "name": "stdout",
     "output_type": "stream",
     "text": [
      "💾 Saved 1000 more entries (up to #69000) to the file...\n"
     ]
    },
    {
     "name": "stderr",
     "output_type": "stream",
     "text": [
      "Scraping (XPath):  15%|████████                                               | 68045/464680 [58:50<7:36:54, 14.47it/s]"
     ]
    },
    {
     "name": "stdout",
     "output_type": "stream",
     "text": [
      "💾 Saved 1000 more entries (up to #70000) to the file...\n"
     ]
    },
    {
     "name": "stderr",
     "output_type": "stream",
     "text": [
      "Scraping (XPath):  15%|███████▉                                             | 69062/464680 [1:00:40<5:57:32, 18.44it/s]"
     ]
    },
    {
     "name": "stdout",
     "output_type": "stream",
     "text": [
      "💾 Saved 1000 more entries (up to #71000) to the file...\n"
     ]
    },
    {
     "name": "stderr",
     "output_type": "stream",
     "text": [
      "Scraping (XPath):  15%|███████▉                                             | 70102/464680 [1:02:29<3:59:00, 27.51it/s]"
     ]
    },
    {
     "name": "stdout",
     "output_type": "stream",
     "text": [
      "💾 Saved 1000 more entries (up to #72000) to the file...\n"
     ]
    },
    {
     "name": "stderr",
     "output_type": "stream",
     "text": [
      "Scraping (XPath):  15%|███████▉                                            | 71000/464680 [1:03:50<63:13:33,  1.73it/s]"
     ]
    },
    {
     "name": "stdout",
     "output_type": "stream",
     "text": [
      "💾 Saved 1000 more entries (up to #73000) to the file...\n"
     ]
    },
    {
     "name": "stderr",
     "output_type": "stream",
     "text": [
      "Scraping (XPath):  16%|████████▏                                            | 72123/464680 [1:04:47<3:34:46, 30.46it/s]"
     ]
    },
    {
     "name": "stdout",
     "output_type": "stream",
     "text": [
      "💾 Saved 1000 more entries (up to #74000) to the file...\n"
     ]
    },
    {
     "name": "stderr",
     "output_type": "stream",
     "text": [
      "Scraping (XPath):  16%|████████▎                                            | 73057/464680 [1:06:21<6:39:39, 16.33it/s]"
     ]
    },
    {
     "name": "stdout",
     "output_type": "stream",
     "text": [
      "💾 Saved 1000 more entries (up to #75000) to the file...\n"
     ]
    },
    {
     "name": "stderr",
     "output_type": "stream",
     "text": [
      "Scraping (XPath):  16%|████████▎                                           | 74000/464680 [1:08:14<65:27:48,  1.66it/s]"
     ]
    },
    {
     "name": "stdout",
     "output_type": "stream",
     "text": [
      "💾 Saved 1000 more entries (up to #76000) to the file...\n"
     ]
    },
    {
     "name": "stderr",
     "output_type": "stream",
     "text": [
      "Scraping (XPath):  16%|████████▌                                            | 75061/464680 [1:09:53<6:55:02, 15.65it/s]"
     ]
    },
    {
     "name": "stdout",
     "output_type": "stream",
     "text": [
      "💾 Saved 1000 more entries (up to #77000) to the file...\n"
     ]
    },
    {
     "name": "stderr",
     "output_type": "stream",
     "text": [
      "Scraping (XPath):  16%|████████▋                                            | 76128/464680 [1:11:00<3:39:05, 29.56it/s]"
     ]
    },
    {
     "name": "stdout",
     "output_type": "stream",
     "text": [
      "💾 Saved 1000 more entries (up to #78000) to the file...\n"
     ]
    },
    {
     "name": "stderr",
     "output_type": "stream",
     "text": [
      "Scraping (XPath):  17%|████████▊                                            | 77104/464680 [1:12:27<4:26:03, 24.28it/s]"
     ]
    },
    {
     "name": "stdout",
     "output_type": "stream",
     "text": [
      "💾 Saved 1000 more entries (up to #79000) to the file...\n"
     ]
    },
    {
     "name": "stderr",
     "output_type": "stream",
     "text": [
      "Scraping (XPath):  17%|████████▉                                            | 78075/464680 [1:14:06<5:45:04, 18.67it/s]"
     ]
    },
    {
     "name": "stdout",
     "output_type": "stream",
     "text": [
      "💾 Saved 1000 more entries (up to #80000) to the file...\n"
     ]
    },
    {
     "name": "stderr",
     "output_type": "stream",
     "text": [
      "Scraping (XPath):  17%|█████████                                            | 79096/464680 [1:15:16<4:46:54, 22.40it/s]"
     ]
    },
    {
     "name": "stdout",
     "output_type": "stream",
     "text": [
      "💾 Saved 1000 more entries (up to #81000) to the file...\n"
     ]
    },
    {
     "name": "stderr",
     "output_type": "stream",
     "text": [
      "Scraping (XPath):  17%|█████████▏                                           | 80093/464680 [1:16:45<4:55:57, 21.66it/s]"
     ]
    },
    {
     "name": "stdout",
     "output_type": "stream",
     "text": [
      "💾 Saved 1000 more entries (up to #82000) to the file...\n"
     ]
    },
    {
     "name": "stderr",
     "output_type": "stream",
     "text": [
      "Scraping (XPath):  17%|████████▉                                          | 81000/464680 [1:24:00<187:23:39,  1.76s/it]"
     ]
    },
    {
     "name": "stdout",
     "output_type": "stream",
     "text": [
      "💾 Saved 1000 more entries (up to #83000) to the file...\n"
     ]
    },
    {
     "name": "stderr",
     "output_type": "stream",
     "text": [
      "Scraping (XPath):  18%|█████████▍                                           | 82219/464680 [1:25:42<2:25:21, 43.85it/s]"
     ]
    },
    {
     "name": "stdout",
     "output_type": "stream",
     "text": [
      "💾 Saved 1000 more entries (up to #84000) to the file...\n"
     ]
    },
    {
     "name": "stderr",
     "output_type": "stream",
     "text": [
      "Scraping (XPath):  18%|█████████▍                                           | 83184/464680 [1:26:09<2:47:00, 38.07it/s]"
     ]
    },
    {
     "name": "stdout",
     "output_type": "stream",
     "text": [
      "💾 Saved 1000 more entries (up to #85000) to the file...\n"
     ]
    },
    {
     "name": "stderr",
     "output_type": "stream",
     "text": [
      "Scraping (XPath):  18%|█████████▌                                           | 84355/464680 [1:26:42<1:39:19, 63.82it/s]"
     ]
    },
    {
     "name": "stdout",
     "output_type": "stream",
     "text": [
      "💾 Saved 1000 more entries (up to #86000) to the file...\n"
     ]
    },
    {
     "name": "stderr",
     "output_type": "stream",
     "text": [
      "Scraping (XPath):  18%|█████████▌                                          | 85000/464680 [1:27:04<48:50:13,  2.16it/s]"
     ]
    },
    {
     "name": "stdout",
     "output_type": "stream",
     "text": [
      "💾 Saved 1000 more entries (up to #87000) to the file...\n"
     ]
    },
    {
     "name": "stderr",
     "output_type": "stream",
     "text": [
      "Scraping (XPath):  19%|█████████▊                                           | 86225/464680 [1:27:33<2:19:35, 45.19it/s]"
     ]
    },
    {
     "name": "stdout",
     "output_type": "stream",
     "text": [
      "💾 Saved 1000 more entries (up to #88000) to the file...\n"
     ]
    },
    {
     "name": "stderr",
     "output_type": "stream",
     "text": [
      "Scraping (XPath):  19%|█████████▉                                           | 87233/464680 [1:28:06<2:19:56, 44.95it/s]"
     ]
    },
    {
     "name": "stdout",
     "output_type": "stream",
     "text": [
      "💾 Saved 1000 more entries (up to #89000) to the file...\n"
     ]
    },
    {
     "name": "stderr",
     "output_type": "stream",
     "text": [
      "Scraping (XPath):  19%|██████████                                           | 88216/464680 [1:28:37<2:28:24, 42.28it/s]"
     ]
    },
    {
     "name": "stdout",
     "output_type": "stream",
     "text": [
      "💾 Saved 1000 more entries (up to #90000) to the file...\n"
     ]
    },
    {
     "name": "stderr",
     "output_type": "stream",
     "text": [
      "Scraping (XPath):  19%|██████████▏                                          | 89230/464680 [1:29:12<2:20:05, 44.67it/s]"
     ]
    },
    {
     "name": "stdout",
     "output_type": "stream",
     "text": [
      "💾 Saved 1000 more entries (up to #91000) to the file...\n"
     ]
    },
    {
     "name": "stderr",
     "output_type": "stream",
     "text": [
      "Scraping (XPath):  19%|██████████▎                                          | 90236/464680 [1:29:43<2:31:29, 41.20it/s]"
     ]
    },
    {
     "name": "stdout",
     "output_type": "stream",
     "text": [
      "💾 Saved 1000 more entries (up to #92000) to the file...\n"
     ]
    },
    {
     "name": "stderr",
     "output_type": "stream",
     "text": [
      "Scraping (XPath):  20%|██████████▍                                          | 91269/464680 [1:30:15<2:03:16, 50.48it/s]"
     ]
    },
    {
     "name": "stdout",
     "output_type": "stream",
     "text": [
      "💾 Saved 1000 more entries (up to #93000) to the file...\n"
     ]
    },
    {
     "name": "stderr",
     "output_type": "stream",
     "text": [
      "Scraping (XPath):  20%|██████████▌                                          | 92354/464680 [1:30:46<1:42:48, 60.36it/s]"
     ]
    },
    {
     "name": "stdout",
     "output_type": "stream",
     "text": [
      "💾 Saved 1000 more entries (up to #94000) to the file...\n"
     ]
    },
    {
     "name": "stderr",
     "output_type": "stream",
     "text": [
      "Scraping (XPath):  20%|██████████▋                                          | 93288/464680 [1:31:10<1:59:50, 51.65it/s]"
     ]
    },
    {
     "name": "stdout",
     "output_type": "stream",
     "text": [
      "💾 Saved 1000 more entries (up to #95000) to the file...\n"
     ]
    },
    {
     "name": "stderr",
     "output_type": "stream",
     "text": [
      "Scraping (XPath):  20%|██████████▊                                          | 94256/464680 [1:31:38<2:11:16, 47.03it/s]"
     ]
    },
    {
     "name": "stdout",
     "output_type": "stream",
     "text": [
      "💾 Saved 1000 more entries (up to #96000) to the file...\n"
     ]
    },
    {
     "name": "stderr",
     "output_type": "stream",
     "text": [
      "Scraping (XPath):  21%|██████████▉                                          | 95376/464680 [1:32:01<1:37:39, 63.03it/s]"
     ]
    },
    {
     "name": "stdout",
     "output_type": "stream",
     "text": [
      "💾 Saved 1000 more entries (up to #97000) to the file...\n"
     ]
    },
    {
     "name": "stderr",
     "output_type": "stream",
     "text": [
      "Scraping (XPath):  21%|██████████▉                                          | 96185/464680 [1:32:29<2:52:51, 35.53it/s]"
     ]
    },
    {
     "name": "stdout",
     "output_type": "stream",
     "text": [
      "💾 Saved 1000 more entries (up to #98000) to the file...\n"
     ]
    },
    {
     "name": "stderr",
     "output_type": "stream",
     "text": [
      "Scraping (XPath):  21%|███████████                                          | 97409/464680 [1:32:58<1:34:04, 65.07it/s]"
     ]
    },
    {
     "name": "stdout",
     "output_type": "stream",
     "text": [
      "💾 Saved 1000 more entries (up to #99000) to the file...\n"
     ]
    },
    {
     "name": "stderr",
     "output_type": "stream",
     "text": [
      "Scraping (XPath):  21%|███████████▏                                         | 98295/464680 [1:33:21<2:01:19, 50.33it/s]"
     ]
    },
    {
     "name": "stdout",
     "output_type": "stream",
     "text": [
      "💾 Saved 1000 more entries (up to #100000) to the file...\n"
     ]
    },
    {
     "name": "stderr",
     "output_type": "stream",
     "text": [
      "Scraping (XPath):  21%|███████████▎                                         | 99311/464680 [1:33:50<1:56:01, 52.49it/s]"
     ]
    },
    {
     "name": "stdout",
     "output_type": "stream",
     "text": [
      "💾 Saved 1000 more entries (up to #101000) to the file...\n"
     ]
    },
    {
     "name": "stderr",
     "output_type": "stream",
     "text": [
      "Scraping (XPath):  22%|██████████▉                                        | 100000/464680 [1:34:37<97:35:26,  1.04it/s]"
     ]
    },
    {
     "name": "stdout",
     "output_type": "stream",
     "text": [
      "💾 Saved 1000 more entries (up to #102000) to the file...\n"
     ]
    },
    {
     "name": "stderr",
     "output_type": "stream",
     "text": [
      "Scraping (XPath):  22%|███████████▎                                        | 101204/464680 [1:35:05<2:39:37, 37.95it/s]"
     ]
    },
    {
     "name": "stdout",
     "output_type": "stream",
     "text": [
      "💾 Saved 1000 more entries (up to #103000) to the file...\n"
     ]
    },
    {
     "name": "stderr",
     "output_type": "stream",
     "text": [
      "Scraping (XPath):  22%|███████████▍                                        | 102274/464680 [1:35:38<2:09:14, 46.73it/s]"
     ]
    },
    {
     "name": "stdout",
     "output_type": "stream",
     "text": [
      "💾 Saved 1000 more entries (up to #104000) to the file...\n"
     ]
    },
    {
     "name": "stderr",
     "output_type": "stream",
     "text": [
      "Scraping (XPath):  22%|███████████▌                                        | 103184/464680 [1:36:11<2:50:51, 35.26it/s]"
     ]
    },
    {
     "name": "stdout",
     "output_type": "stream",
     "text": [
      "💾 Saved 1000 more entries (up to #105000) to the file...\n"
     ]
    },
    {
     "name": "stderr",
     "output_type": "stream",
     "text": [
      "Scraping (XPath):  22%|███████████▋                                        | 104243/464680 [1:36:46<2:22:25, 42.18it/s]"
     ]
    },
    {
     "name": "stdout",
     "output_type": "stream",
     "text": [
      "💾 Saved 1000 more entries (up to #106000) to the file...\n"
     ]
    },
    {
     "name": "stderr",
     "output_type": "stream",
     "text": [
      "Scraping (XPath):  23%|███████████▊                                        | 105240/464680 [1:37:15<2:23:59, 41.60it/s]"
     ]
    },
    {
     "name": "stdout",
     "output_type": "stream",
     "text": [
      "💾 Saved 1000 more entries (up to #107000) to the file...\n"
     ]
    },
    {
     "name": "stderr",
     "output_type": "stream",
     "text": [
      "Scraping (XPath):  23%|███████████▋                                       | 106002/464680 [1:37:54<81:23:14,  1.22it/s]"
     ]
    },
    {
     "name": "stdout",
     "output_type": "stream",
     "text": [
      "💾 Saved 1000 more entries (up to #108000) to the file...\n"
     ]
    },
    {
     "name": "stderr",
     "output_type": "stream",
     "text": [
      "Scraping (XPath):  23%|████████████                                        | 107320/464680 [1:38:27<1:58:13, 50.38it/s]"
     ]
    },
    {
     "name": "stdout",
     "output_type": "stream",
     "text": [
      "💾 Saved 1000 more entries (up to #109000) to the file...\n"
     ]
    },
    {
     "name": "stderr",
     "output_type": "stream",
     "text": [
      "Scraping (XPath):  23%|████████████▏                                       | 108461/464680 [1:38:55<1:34:28, 62.84it/s]"
     ]
    },
    {
     "name": "stdout",
     "output_type": "stream",
     "text": [
      "💾 Saved 1000 more entries (up to #110000) to the file...\n"
     ]
    },
    {
     "name": "stderr",
     "output_type": "stream",
     "text": [
      "Scraping (XPath):  24%|████████████▏                                       | 109459/464680 [1:39:17<1:46:21, 55.66it/s]"
     ]
    },
    {
     "name": "stdout",
     "output_type": "stream",
     "text": [
      "💾 Saved 1000 more entries (up to #111000) to the file...\n"
     ]
    },
    {
     "name": "stderr",
     "output_type": "stream",
     "text": [
      "Scraping (XPath):  24%|████████████▎                                       | 110171/464680 [1:39:50<3:48:40, 25.84it/s]"
     ]
    },
    {
     "name": "stdout",
     "output_type": "stream",
     "text": [
      "💾 Saved 1000 more entries (up to #112000) to the file...\n"
     ]
    },
    {
     "name": "stderr",
     "output_type": "stream",
     "text": [
      "Scraping (XPath):  24%|████████████▍                                       | 111241/464680 [1:40:42<2:49:47, 34.69it/s]"
     ]
    },
    {
     "name": "stdout",
     "output_type": "stream",
     "text": [
      "💾 Saved 1000 more entries (up to #113000) to the file...\n"
     ]
    },
    {
     "name": "stderr",
     "output_type": "stream",
     "text": [
      "Scraping (XPath):  24%|████████████▌                                       | 112438/464680 [1:41:09<1:36:39, 60.74it/s]"
     ]
    },
    {
     "name": "stdout",
     "output_type": "stream",
     "text": [
      "💾 Saved 1000 more entries (up to #114000) to the file...\n"
     ]
    },
    {
     "name": "stderr",
     "output_type": "stream",
     "text": [
      "Scraping (XPath):  24%|████████████▍                                      | 113002/464680 [1:41:34<62:52:55,  1.55it/s]"
     ]
    },
    {
     "name": "stdout",
     "output_type": "stream",
     "text": [
      "💾 Saved 1000 more entries (up to #115000) to the file...\n"
     ]
    },
    {
     "name": "stderr",
     "output_type": "stream",
     "text": [
      "Scraping (XPath):  25%|████████████▊                                       | 114413/464680 [1:41:59<1:41:56, 57.27it/s]"
     ]
    },
    {
     "name": "stdout",
     "output_type": "stream",
     "text": [
      "💾 Saved 1000 more entries (up to #116000) to the file...\n"
     ]
    },
    {
     "name": "stderr",
     "output_type": "stream",
     "text": [
      "Scraping (XPath):  25%|████████████▉                                       | 115127/464680 [1:42:33<5:17:23, 18.36it/s]"
     ]
    },
    {
     "name": "stdout",
     "output_type": "stream",
     "text": [
      "💾 Saved 1000 more entries (up to #117000) to the file...\n"
     ]
    },
    {
     "name": "stderr",
     "output_type": "stream",
     "text": [
      "Scraping (XPath):  25%|████████████▉                                       | 116122/464680 [1:43:53<5:25:19, 17.86it/s]"
     ]
    },
    {
     "name": "stdout",
     "output_type": "stream",
     "text": [
      "💾 Saved 1000 more entries (up to #118000) to the file...\n"
     ]
    },
    {
     "name": "stderr",
     "output_type": "stream",
     "text": [
      "Scraping (XPath):  25%|█████████████                                       | 117123/464680 [1:45:08<5:17:25, 18.25it/s]"
     ]
    },
    {
     "name": "stdout",
     "output_type": "stream",
     "text": [
      "💾 Saved 1000 more entries (up to #119000) to the file...\n"
     ]
    },
    {
     "name": "stderr",
     "output_type": "stream",
     "text": [
      "Scraping (XPath):  25%|█████████████▏                                      | 118121/464680 [1:46:21<5:21:47, 17.95it/s]"
     ]
    },
    {
     "name": "stdout",
     "output_type": "stream",
     "text": [
      "💾 Saved 1000 more entries (up to #120000) to the file...\n"
     ]
    },
    {
     "name": "stderr",
     "output_type": "stream",
     "text": [
      "Scraping (XPath):  26%|█████████████▎                                      | 119138/464680 [1:47:36<4:59:46, 19.21it/s]"
     ]
    },
    {
     "name": "stdout",
     "output_type": "stream",
     "text": [
      "💾 Saved 1000 more entries (up to #121000) to the file...\n"
     ]
    },
    {
     "name": "stderr",
     "output_type": "stream",
     "text": [
      "Scraping (XPath):  26%|█████████████▍                                      | 120138/464680 [1:48:49<5:02:25, 18.99it/s]"
     ]
    },
    {
     "name": "stdout",
     "output_type": "stream",
     "text": [
      "💾 Saved 1000 more entries (up to #122000) to the file...\n"
     ]
    },
    {
     "name": "stderr",
     "output_type": "stream",
     "text": [
      "Scraping (XPath):  26%|█████████████▌                                      | 121144/464680 [1:50:04<4:45:38, 20.04it/s]"
     ]
    },
    {
     "name": "stdout",
     "output_type": "stream",
     "text": [
      "💾 Saved 1000 more entries (up to #123000) to the file...\n"
     ]
    },
    {
     "name": "stderr",
     "output_type": "stream",
     "text": [
      "Scraping (XPath):  26%|█████████████▋                                      | 122121/464680 [1:51:22<5:27:17, 17.44it/s]"
     ]
    },
    {
     "name": "stdout",
     "output_type": "stream",
     "text": [
      "💾 Saved 1000 more entries (up to #124000) to the file...\n"
     ]
    },
    {
     "name": "stderr",
     "output_type": "stream",
     "text": [
      "Scraping (XPath):  26%|█████████████▏                                    | 123000/464680 [1:52:39<109:05:18,  1.15s/it]"
     ]
    },
    {
     "name": "stdout",
     "output_type": "stream",
     "text": [
      "💾 Saved 1000 more entries (up to #125000) to the file...\n"
     ]
    },
    {
     "name": "stderr",
     "output_type": "stream",
     "text": [
      "Scraping (XPath):  27%|█████████████▉                                      | 124125/464680 [1:53:52<5:10:11, 18.30it/s]"
     ]
    },
    {
     "name": "stdout",
     "output_type": "stream",
     "text": [
      "💾 Saved 1000 more entries (up to #126000) to the file...\n"
     ]
    },
    {
     "name": "stderr",
     "output_type": "stream",
     "text": [
      "Scraping (XPath):  27%|█████████████▍                                    | 125000/464680 [1:55:05<122:43:11,  1.30s/it]"
     ]
    },
    {
     "name": "stdout",
     "output_type": "stream",
     "text": [
      "💾 Saved 1000 more entries (up to #127000) to the file...\n"
     ]
    },
    {
     "name": "stderr",
     "output_type": "stream",
     "text": [
      "Scraping (XPath):  27%|██████████████                                      | 126139/464680 [1:56:12<4:44:12, 19.85it/s]"
     ]
    },
    {
     "name": "stdout",
     "output_type": "stream",
     "text": [
      "💾 Saved 1000 more entries (up to #128000) to the file...\n"
     ]
    },
    {
     "name": "stderr",
     "output_type": "stream",
     "text": [
      "Scraping (XPath):  27%|██████████████▏                                     | 127099/464680 [1:57:23<5:34:26, 16.82it/s]"
     ]
    },
    {
     "name": "stdout",
     "output_type": "stream",
     "text": [
      "💾 Saved 1000 more entries (up to #129000) to the file...\n"
     ]
    },
    {
     "name": "stderr",
     "output_type": "stream",
     "text": [
      "Scraping (XPath):  28%|██████████████▎                                     | 128074/464680 [1:58:49<7:01:44, 13.30it/s]"
     ]
    },
    {
     "name": "stdout",
     "output_type": "stream",
     "text": [
      "💾 Saved 1000 more entries (up to #130000) to the file...\n"
     ]
    },
    {
     "name": "stderr",
     "output_type": "stream",
     "text": [
      "Scraping (XPath):  28%|██████████████▍                                     | 129149/464680 [1:59:59<3:20:11, 27.93it/s]"
     ]
    },
    {
     "name": "stdout",
     "output_type": "stream",
     "text": [
      "💾 Saved 1000 more entries (up to #131000) to the file...\n"
     ]
    },
    {
     "name": "stderr",
     "output_type": "stream",
     "text": [
      "Scraping (XPath):  28%|██████████████▌                                     | 130125/464680 [2:01:05<3:55:06, 23.72it/s]"
     ]
    },
    {
     "name": "stdout",
     "output_type": "stream",
     "text": [
      "💾 Saved 1000 more entries (up to #132000) to the file...\n"
     ]
    },
    {
     "name": "stderr",
     "output_type": "stream",
     "text": [
      "Scraping (XPath):  28%|██████████████▍                                    | 131000/464680 [2:02:17<73:55:49,  1.25it/s]"
     ]
    },
    {
     "name": "stdout",
     "output_type": "stream",
     "text": [
      "💾 Saved 1000 more entries (up to #133000) to the file...\n"
     ]
    },
    {
     "name": "stderr",
     "output_type": "stream",
     "text": [
      "Scraping (XPath):  28%|██████████████▊                                     | 132213/464680 [2:03:28<2:26:25, 37.84it/s]"
     ]
    },
    {
     "name": "stdout",
     "output_type": "stream",
     "text": [
      "💾 Saved 1000 more entries (up to #134000) to the file...\n"
     ]
    },
    {
     "name": "stderr",
     "output_type": "stream",
     "text": [
      "Scraping (XPath):  29%|██████████████▉                                     | 133394/464680 [2:04:00<1:34:17, 58.56it/s]"
     ]
    },
    {
     "name": "stdout",
     "output_type": "stream",
     "text": [
      "💾 Saved 1000 more entries (up to #135000) to the file...\n"
     ]
    },
    {
     "name": "stderr",
     "output_type": "stream",
     "text": [
      "Scraping (XPath):  29%|███████████████                                     | 134184/464680 [2:04:58<2:57:23, 31.05it/s]"
     ]
    },
    {
     "name": "stdout",
     "output_type": "stream",
     "text": [
      "💾 Saved 1000 more entries (up to #136000) to the file...\n"
     ]
    },
    {
     "name": "stderr",
     "output_type": "stream",
     "text": [
      "Scraping (XPath):  29%|███████████████                                     | 135101/464680 [2:05:53<4:53:08, 18.74it/s]"
     ]
    },
    {
     "name": "stdout",
     "output_type": "stream",
     "text": [
      "💾 Saved 1000 more entries (up to #137000) to the file...\n"
     ]
    },
    {
     "name": "stderr",
     "output_type": "stream",
     "text": [
      "Scraping (XPath):  29%|███████████████▏                                    | 136120/464680 [2:06:56<4:12:59, 21.65it/s]"
     ]
    },
    {
     "name": "stdout",
     "output_type": "stream",
     "text": [
      "💾 Saved 1000 more entries (up to #138000) to the file...\n"
     ]
    },
    {
     "name": "stderr",
     "output_type": "stream",
     "text": [
      "Scraping (XPath):  30%|███████████████▎                                    | 137275/464680 [2:07:47<2:03:50, 44.06it/s]"
     ]
    },
    {
     "name": "stdout",
     "output_type": "stream",
     "text": [
      "💾 Saved 1000 more entries (up to #139000) to the file...\n"
     ]
    },
    {
     "name": "stderr",
     "output_type": "stream",
     "text": [
      "Scraping (XPath):  30%|███████████████▍                                    | 138251/464680 [2:08:32<2:12:26, 41.08it/s]"
     ]
    },
    {
     "name": "stdout",
     "output_type": "stream",
     "text": [
      "💾 Saved 1000 more entries (up to #140000) to the file...\n"
     ]
    },
    {
     "name": "stderr",
     "output_type": "stream",
     "text": [
      "Scraping (XPath):  30%|███████████████▌                                    | 139262/464680 [2:09:13<2:08:26, 42.23it/s]"
     ]
    },
    {
     "name": "stdout",
     "output_type": "stream",
     "text": [
      "💾 Saved 1000 more entries (up to #141000) to the file...\n"
     ]
    },
    {
     "name": "stderr",
     "output_type": "stream",
     "text": [
      "Scraping (XPath):  30%|███████████████▋                                    | 140191/464680 [2:09:51<2:48:12, 32.15it/s]"
     ]
    },
    {
     "name": "stdout",
     "output_type": "stream",
     "text": [
      "💾 Saved 1000 more entries (up to #142000) to the file...\n"
     ]
    },
    {
     "name": "stderr",
     "output_type": "stream",
     "text": [
      "Scraping (XPath):  30%|███████████████▊                                    | 141156/464680 [2:10:56<3:19:10, 27.07it/s]"
     ]
    },
    {
     "name": "stdout",
     "output_type": "stream",
     "text": [
      "💾 Saved 1000 more entries (up to #143000) to the file...\n"
     ]
    },
    {
     "name": "stderr",
     "output_type": "stream",
     "text": [
      "Scraping (XPath):  31%|███████████████▌                                   | 142000/464680 [2:11:36<73:31:55,  1.22it/s]"
     ]
    },
    {
     "name": "stdout",
     "output_type": "stream",
     "text": [
      "💾 Saved 1000 more entries (up to #144000) to the file...\n"
     ]
    },
    {
     "name": "stderr",
     "output_type": "stream",
     "text": [
      "Scraping (XPath):  31%|████████████████                                    | 143149/464680 [2:13:14<3:25:57, 26.02it/s]"
     ]
    },
    {
     "name": "stdout",
     "output_type": "stream",
     "text": [
      "💾 Saved 1000 more entries (up to #145000) to the file...\n"
     ]
    },
    {
     "name": "stderr",
     "output_type": "stream",
     "text": [
      "Scraping (XPath):  31%|████████████████▏                                   | 144146/464680 [2:14:24<3:30:04, 25.43it/s]"
     ]
    },
    {
     "name": "stdout",
     "output_type": "stream",
     "text": [
      "💾 Saved 1000 more entries (up to #146000) to the file...\n"
     ]
    },
    {
     "name": "stderr",
     "output_type": "stream",
     "text": [
      "Scraping (XPath):  31%|███████████████▉                                   | 145002/464680 [2:15:52<76:39:27,  1.16it/s]"
     ]
    },
    {
     "name": "stdout",
     "output_type": "stream",
     "text": [
      "💾 Saved 1000 more entries (up to #147000) to the file...\n"
     ]
    },
    {
     "name": "stderr",
     "output_type": "stream",
     "text": [
      "Scraping (XPath):  31%|████████████████▎                                   | 146135/464680 [2:16:58<3:56:49, 22.42it/s]"
     ]
    },
    {
     "name": "stdout",
     "output_type": "stream",
     "text": [
      "💾 Saved 1000 more entries (up to #148000) to the file...\n"
     ]
    },
    {
     "name": "stderr",
     "output_type": "stream",
     "text": [
      "Scraping (XPath):  32%|████████████████▍                                   | 147217/464680 [2:18:08<2:31:53, 34.83it/s]"
     ]
    },
    {
     "name": "stdout",
     "output_type": "stream",
     "text": [
      "💾 Saved 1000 more entries (up to #149000) to the file...\n"
     ]
    },
    {
     "name": "stderr",
     "output_type": "stream",
     "text": [
      "Scraping (XPath):  32%|████████████████▏                                  | 148000/464680 [2:18:53<51:11:57,  1.72it/s]"
     ]
    },
    {
     "name": "stdout",
     "output_type": "stream",
     "text": [
      "💾 Saved 1000 more entries (up to #150000) to the file...\n"
     ]
    },
    {
     "name": "stderr",
     "output_type": "stream",
     "text": [
      "Scraping (XPath):  32%|████████████████▋                                   | 149080/464680 [2:20:11<6:22:32, 13.75it/s]"
     ]
    },
    {
     "name": "stdout",
     "output_type": "stream",
     "text": [
      "💾 Saved 1000 more entries (up to #151000) to the file...\n"
     ]
    },
    {
     "name": "stderr",
     "output_type": "stream",
     "text": [
      "Scraping (XPath):  32%|████████████████▊                                   | 150108/464680 [2:21:33<5:08:33, 16.99it/s]"
     ]
    },
    {
     "name": "stdout",
     "output_type": "stream",
     "text": [
      "💾 Saved 1000 more entries (up to #152000) to the file...\n"
     ]
    },
    {
     "name": "stderr",
     "output_type": "stream",
     "text": [
      "Scraping (XPath):  32%|████████████████▌                                  | 151002/464680 [2:22:44<84:25:11,  1.03it/s]"
     ]
    },
    {
     "name": "stdout",
     "output_type": "stream",
     "text": [
      "💾 Saved 1000 more entries (up to #153000) to the file...\n"
     ]
    },
    {
     "name": "stderr",
     "output_type": "stream",
     "text": [
      "Scraping (XPath):  33%|█████████████████                                   | 152271/464680 [2:23:35<2:19:35, 37.30it/s]"
     ]
    },
    {
     "name": "stdout",
     "output_type": "stream",
     "text": [
      "💾 Saved 1000 more entries (up to #154000) to the file...\n"
     ]
    },
    {
     "name": "stderr",
     "output_type": "stream",
     "text": [
      "Scraping (XPath):  33%|█████████████████▏                                  | 153349/464680 [2:24:07<1:55:38, 44.87it/s]"
     ]
    },
    {
     "name": "stdout",
     "output_type": "stream",
     "text": [
      "💾 Saved 1000 more entries (up to #155000) to the file...\n"
     ]
    },
    {
     "name": "stderr",
     "output_type": "stream",
     "text": [
      "Scraping (XPath):  33%|█████████████████▎                                  | 154149/464680 [2:25:12<3:48:08, 22.69it/s]"
     ]
    },
    {
     "name": "stdout",
     "output_type": "stream",
     "text": [
      "💾 Saved 1000 more entries (up to #156000) to the file...\n"
     ]
    },
    {
     "name": "stderr",
     "output_type": "stream",
     "text": [
      "Scraping (XPath):  33%|█████████████████▍                                  | 155284/464680 [2:26:15<2:17:33, 37.49it/s]"
     ]
    },
    {
     "name": "stdout",
     "output_type": "stream",
     "text": [
      "💾 Saved 1000 more entries (up to #157000) to the file...\n"
     ]
    },
    {
     "name": "stderr",
     "output_type": "stream",
     "text": [
      "Scraping (XPath):  34%|█████████████████▍                                  | 156228/464680 [2:26:50<2:37:43, 32.59it/s]"
     ]
    },
    {
     "name": "stdout",
     "output_type": "stream",
     "text": [
      "💾 Saved 1000 more entries (up to #158000) to the file...\n"
     ]
    },
    {
     "name": "stderr",
     "output_type": "stream",
     "text": [
      "Scraping (XPath):  34%|█████████████████▌                                  | 157411/464680 [2:27:42<1:43:18, 49.58it/s]"
     ]
    },
    {
     "name": "stdout",
     "output_type": "stream",
     "text": [
      "💾 Saved 1000 more entries (up to #159000) to the file...\n"
     ]
    },
    {
     "name": "stderr",
     "output_type": "stream",
     "text": [
      "Scraping (XPath):  34%|█████████████████▊                                  | 158619/464680 [2:28:08<1:20:15, 63.56it/s]"
     ]
    },
    {
     "name": "stdout",
     "output_type": "stream",
     "text": [
      "💾 Saved 1000 more entries (up to #160000) to the file...\n"
     ]
    },
    {
     "name": "stderr",
     "output_type": "stream",
     "text": [
      "Scraping (XPath):  34%|█████████████████▊                                  | 159251/464680 [2:28:42<3:01:53, 27.99it/s]"
     ]
    },
    {
     "name": "stdout",
     "output_type": "stream",
     "text": [
      "💾 Saved 1000 more entries (up to #161000) to the file...\n"
     ]
    },
    {
     "name": "stderr",
     "output_type": "stream",
     "text": [
      "Scraping (XPath):  35%|█████████████████▉                                  | 160332/464680 [2:29:24<2:00:23, 42.14it/s]"
     ]
    },
    {
     "name": "stdout",
     "output_type": "stream",
     "text": [
      "💾 Saved 1000 more entries (up to #162000) to the file...\n"
     ]
    },
    {
     "name": "stderr",
     "output_type": "stream",
     "text": [
      "Scraping (XPath):  35%|██████████████████                                  | 161203/464680 [2:30:13<2:49:01, 29.92it/s]"
     ]
    },
    {
     "name": "stdout",
     "output_type": "stream",
     "text": [
      "💾 Saved 1000 more entries (up to #163000) to the file...\n"
     ]
    },
    {
     "name": "stderr",
     "output_type": "stream",
     "text": [
      "Scraping (XPath):  35%|█████████████████▊                                 | 162000/464680 [2:30:50<67:52:26,  1.24it/s]"
     ]
    },
    {
     "name": "stdout",
     "output_type": "stream",
     "text": [
      "💾 Saved 1000 more entries (up to #164000) to the file...\n"
     ]
    },
    {
     "name": "stderr",
     "output_type": "stream",
     "text": [
      "Scraping (XPath):  35%|██████████████████▎                                 | 163301/464680 [2:31:22<2:07:51, 39.29it/s]"
     ]
    },
    {
     "name": "stdout",
     "output_type": "stream",
     "text": [
      "💾 Saved 1000 more entries (up to #165000) to the file...\n"
     ]
    },
    {
     "name": "stderr",
     "output_type": "stream",
     "text": [
      "Scraping (XPath):  35%|██████████████████▍                                 | 164371/464680 [2:31:59<1:50:29, 45.30it/s]"
     ]
    },
    {
     "name": "stdout",
     "output_type": "stream",
     "text": [
      "💾 Saved 1000 more entries (up to #166000) to the file...\n"
     ]
    },
    {
     "name": "stderr",
     "output_type": "stream",
     "text": [
      "Scraping (XPath):  36%|██████████████████▍                                 | 165274/464680 [2:32:48<2:19:56, 35.66it/s]"
     ]
    },
    {
     "name": "stdout",
     "output_type": "stream",
     "text": [
      "💾 Saved 1000 more entries (up to #167000) to the file...\n"
     ]
    },
    {
     "name": "stderr",
     "output_type": "stream",
     "text": [
      "Scraping (XPath):  36%|██████████████████▌                                 | 166138/464680 [2:33:35<3:54:50, 21.19it/s]"
     ]
    },
    {
     "name": "stdout",
     "output_type": "stream",
     "text": [
      "💾 Saved 1000 more entries (up to #168000) to the file...\n"
     ]
    },
    {
     "name": "stderr",
     "output_type": "stream",
     "text": [
      "Scraping (XPath):  36%|██████████████████▋                                 | 167229/464680 [2:34:29<2:37:35, 31.46it/s]"
     ]
    },
    {
     "name": "stdout",
     "output_type": "stream",
     "text": [
      "💾 Saved 1000 more entries (up to #169000) to the file...\n"
     ]
    },
    {
     "name": "stderr",
     "output_type": "stream",
     "text": [
      "Scraping (XPath):  36%|██████████████████▊                                 | 168343/464680 [2:35:19<1:54:07, 43.28it/s]"
     ]
    },
    {
     "name": "stdout",
     "output_type": "stream",
     "text": [
      "💾 Saved 1000 more entries (up to #170000) to the file...\n"
     ]
    },
    {
     "name": "stderr",
     "output_type": "stream",
     "text": [
      "Scraping (XPath):  36%|██████████████████▉                                 | 169180/464680 [2:36:11<3:12:31, 25.58it/s]"
     ]
    },
    {
     "name": "stdout",
     "output_type": "stream",
     "text": [
      "💾 Saved 1000 more entries (up to #171000) to the file...\n"
     ]
    },
    {
     "name": "stderr",
     "output_type": "stream",
     "text": [
      "Scraping (XPath):  37%|███████████████████                                 | 170242/464680 [2:37:03<2:30:27, 32.62it/s]"
     ]
    },
    {
     "name": "stdout",
     "output_type": "stream",
     "text": [
      "💾 Saved 1000 more entries (up to #172000) to the file...\n"
     ]
    },
    {
     "name": "stderr",
     "output_type": "stream",
     "text": [
      "Scraping (XPath):  37%|███████████████████▏                                | 171179/464680 [2:38:05<3:07:35, 26.08it/s]"
     ]
    },
    {
     "name": "stdout",
     "output_type": "stream",
     "text": [
      "💾 Saved 1000 more entries (up to #173000) to the file...\n"
     ]
    },
    {
     "name": "stderr",
     "output_type": "stream",
     "text": [
      "Scraping (XPath):  37%|███████████████████▎                                | 172203/464680 [2:39:14<2:50:00, 28.67it/s]"
     ]
    },
    {
     "name": "stdout",
     "output_type": "stream",
     "text": [
      "💾 Saved 1000 more entries (up to #174000) to the file...\n"
     ]
    },
    {
     "name": "stderr",
     "output_type": "stream",
     "text": [
      "Scraping (XPath):  37%|███████████████████▍                                | 173275/464680 [2:40:05<2:19:06, 34.91it/s]"
     ]
    },
    {
     "name": "stdout",
     "output_type": "stream",
     "text": [
      "💾 Saved 1000 more entries (up to #175000) to the file...\n"
     ]
    },
    {
     "name": "stderr",
     "output_type": "stream",
     "text": [
      "Scraping (XPath):  37%|███████████████████▍                                | 174129/464680 [2:40:38<3:59:38, 20.21it/s]"
     ]
    },
    {
     "name": "stdout",
     "output_type": "stream",
     "text": [
      "💾 Saved 1000 more entries (up to #176000) to the file...\n"
     ]
    },
    {
     "name": "stderr",
     "output_type": "stream",
     "text": [
      "Scraping (XPath):  38%|███████████████████▋                                | 175431/464680 [2:41:26<1:37:21, 49.52it/s]"
     ]
    },
    {
     "name": "stdout",
     "output_type": "stream",
     "text": [
      "💾 Saved 1000 more entries (up to #177000) to the file...\n"
     ]
    },
    {
     "name": "stderr",
     "output_type": "stream",
     "text": [
      "Scraping (XPath):  38%|███████████████████▋                                | 176358/464680 [2:41:50<1:49:28, 43.89it/s]"
     ]
    },
    {
     "name": "stdout",
     "output_type": "stream",
     "text": [
      "💾 Saved 1000 more entries (up to #178000) to the file...\n"
     ]
    },
    {
     "name": "stderr",
     "output_type": "stream",
     "text": [
      "Scraping (XPath):  38%|███████████████████                               | 177000/464680 [2:43:15<114:16:23,  1.43s/it]"
     ]
    },
    {
     "name": "stdout",
     "output_type": "stream",
     "text": [
      "💾 Saved 1000 more entries (up to #179000) to the file...\n"
     ]
    },
    {
     "name": "stderr",
     "output_type": "stream",
     "text": [
      "Scraping (XPath):  38%|███████████████████▌                               | 178028/464680 [2:46:04<16:14:30,  4.90it/s]"
     ]
    },
    {
     "name": "stdout",
     "output_type": "stream",
     "text": [
      "💾 Saved 1000 more entries (up to #180000) to the file...\n"
     ]
    },
    {
     "name": "stderr",
     "output_type": "stream",
     "text": [
      "Scraping (XPath):  39%|███████████████████▋                               | 179038/464680 [2:49:58<12:49:26,  6.19it/s]"
     ]
    },
    {
     "name": "stdout",
     "output_type": "stream",
     "text": [
      "💾 Saved 1000 more entries (up to #181000) to the file...\n"
     ]
    },
    {
     "name": "stderr",
     "output_type": "stream",
     "text": [
      "Scraping (XPath):  39%|███████████████████▊                               | 180000/464680 [2:52:10<77:56:07,  1.01it/s]"
     ]
    },
    {
     "name": "stdout",
     "output_type": "stream",
     "text": [
      "💾 Saved 1000 more entries (up to #182000) to the file...\n"
     ]
    },
    {
     "name": "stderr",
     "output_type": "stream",
     "text": [
      "Scraping (XPath):  39%|███████████████████▍                              | 181000/464680 [2:54:17<102:03:50,  1.30s/it]"
     ]
    },
    {
     "name": "stdout",
     "output_type": "stream",
     "text": [
      "💾 Saved 1000 more entries (up to #183000) to the file...\n"
     ]
    },
    {
     "name": "stderr",
     "output_type": "stream",
     "text": [
      "Scraping (XPath):  39%|████████████████████▍                               | 182124/464680 [2:56:17<4:32:52, 17.26it/s]"
     ]
    },
    {
     "name": "stdout",
     "output_type": "stream",
     "text": [
      "💾 Saved 1000 more entries (up to #184000) to the file...\n"
     ]
    },
    {
     "name": "stderr",
     "output_type": "stream",
     "text": [
      "Scraping (XPath):  39%|███████████████████▋                              | 183000/464680 [2:57:43<114:04:23,  1.46s/it]"
     ]
    },
    {
     "name": "stdout",
     "output_type": "stream",
     "text": [
      "💾 Saved 1000 more entries (up to #185000) to the file...\n"
     ]
    },
    {
     "name": "stderr",
     "output_type": "stream",
     "text": [
      "Scraping (XPath):  40%|████████████████████▌                               | 184165/464680 [2:59:26<3:37:44, 21.47it/s]"
     ]
    },
    {
     "name": "stdout",
     "output_type": "stream",
     "text": [
      "💾 Saved 1000 more entries (up to #186000) to the file...\n"
     ]
    },
    {
     "name": "stderr",
     "output_type": "stream",
     "text": [
      "Scraping (XPath):  40%|████████████████████▋                               | 185153/464680 [3:00:26<3:49:46, 20.28it/s]"
     ]
    },
    {
     "name": "stdout",
     "output_type": "stream",
     "text": [
      "💾 Saved 1000 more entries (up to #187000) to the file...\n"
     ]
    },
    {
     "name": "stderr",
     "output_type": "stream",
     "text": [
      "Scraping (XPath):  40%|████████████████████▍                              | 186000/464680 [3:01:47<80:48:08,  1.04s/it]"
     ]
    },
    {
     "name": "stdout",
     "output_type": "stream",
     "text": [
      "💾 Saved 1000 more entries (up to #188000) to the file...\n"
     ]
    },
    {
     "name": "stderr",
     "output_type": "stream",
     "text": [
      "Scraping (XPath):  40%|████████████████████                              | 187000/464680 [3:03:21<107:07:54,  1.39s/it]"
     ]
    },
    {
     "name": "stdout",
     "output_type": "stream",
     "text": [
      "💾 Saved 1000 more entries (up to #189000) to the file...\n"
     ]
    },
    {
     "name": "stderr",
     "output_type": "stream",
     "text": [
      "Scraping (XPath):  40%|█████████████████████                               | 188153/464680 [3:05:04<4:00:54, 19.13it/s]"
     ]
    },
    {
     "name": "stdout",
     "output_type": "stream",
     "text": [
      "💾 Saved 1000 more entries (up to #190000) to the file...\n"
     ]
    },
    {
     "name": "stderr",
     "output_type": "stream",
     "text": [
      "Scraping (XPath):  41%|████████████████████▋                              | 189000/464680 [3:06:16<95:15:36,  1.24s/it]"
     ]
    },
    {
     "name": "stdout",
     "output_type": "stream",
     "text": [
      "💾 Saved 1000 more entries (up to #191000) to the file...\n"
     ]
    },
    {
     "name": "stderr",
     "output_type": "stream",
     "text": [
      "Scraping (XPath):  41%|█████████████████████▎                              | 190068/464680 [3:08:35<7:42:31,  9.90it/s]"
     ]
    },
    {
     "name": "stdout",
     "output_type": "stream",
     "text": [
      "💾 Saved 1000 more entries (up to #192000) to the file...\n"
     ]
    },
    {
     "name": "stderr",
     "output_type": "stream",
     "text": [
      "Scraping (XPath):  41%|█████████████████████▍                              | 191197/464680 [3:11:32<3:06:35, 24.43it/s]"
     ]
    },
    {
     "name": "stdout",
     "output_type": "stream",
     "text": [
      "💾 Saved 1000 more entries (up to #193000) to the file...\n"
     ]
    },
    {
     "name": "stderr",
     "output_type": "stream",
     "text": [
      "Scraping (XPath):  41%|████████████████████▋                             | 192000/464680 [3:13:09<189:18:37,  2.50s/it]"
     ]
    },
    {
     "name": "stdout",
     "output_type": "stream",
     "text": [
      "💾 Saved 1000 more entries (up to #194000) to the file...\n"
     ]
    },
    {
     "name": "stderr",
     "output_type": "stream",
     "text": [
      "Scraping (XPath):  42%|█████████████████████▋                              | 193273/464680 [3:14:35<2:24:13, 31.36it/s]"
     ]
    },
    {
     "name": "stdout",
     "output_type": "stream",
     "text": [
      "💾 Saved 1000 more entries (up to #195000) to the file...\n"
     ]
    },
    {
     "name": "stderr",
     "output_type": "stream",
     "text": [
      "Scraping (XPath):  42%|█████████████████████▋                              | 194087/464680 [3:17:05<6:21:48, 11.81it/s]"
     ]
    },
    {
     "name": "stdout",
     "output_type": "stream",
     "text": [
      "💾 Saved 1000 more entries (up to #196000) to the file...\n"
     ]
    },
    {
     "name": "stderr",
     "output_type": "stream",
     "text": [
      "Scraping (XPath):  42%|█████████████████████▊                              | 195204/464680 [3:18:19<3:01:04, 24.80it/s]"
     ]
    },
    {
     "name": "stdout",
     "output_type": "stream",
     "text": [
      "💾 Saved 1000 more entries (up to #197000) to the file...\n"
     ]
    },
    {
     "name": "stderr",
     "output_type": "stream",
     "text": [
      "Scraping (XPath):  42%|█████████████████████                             | 196001/464680 [3:20:01<109:43:56,  1.47s/it]"
     ]
    },
    {
     "name": "stdout",
     "output_type": "stream",
     "text": [
      "💾 Saved 1000 more entries (up to #198000) to the file...\n"
     ]
    },
    {
     "name": "stderr",
     "output_type": "stream",
     "text": [
      "Scraping (XPath):  42%|██████████████████████                              | 197167/464680 [3:21:35<3:30:14, 21.21it/s]"
     ]
    },
    {
     "name": "stdout",
     "output_type": "stream",
     "text": [
      "💾 Saved 1000 more entries (up to #199000) to the file...\n"
     ]
    },
    {
     "name": "stderr",
     "output_type": "stream",
     "text": [
      "Scraping (XPath):  43%|██████████████████████▏                             | 198231/464680 [3:22:49<2:49:55, 26.13it/s]"
     ]
    },
    {
     "name": "stdout",
     "output_type": "stream",
     "text": [
      "💾 Saved 1000 more entries (up to #200000) to the file...\n"
     ]
    },
    {
     "name": "stderr",
     "output_type": "stream",
     "text": [
      "Scraping (XPath):  43%|██████████████████████▎                             | 199242/464680 [3:23:39<2:40:27, 27.57it/s]"
     ]
    },
    {
     "name": "stdout",
     "output_type": "stream",
     "text": [
      "💾 Saved 1000 more entries (up to #201000) to the file...\n"
     ]
    },
    {
     "name": "stderr",
     "output_type": "stream",
     "text": [
      "Scraping (XPath):  43%|██████████████████████▍                             | 200157/464680 [3:24:56<3:57:25, 18.57it/s]"
     ]
    },
    {
     "name": "stdout",
     "output_type": "stream",
     "text": [
      "💾 Saved 1000 more entries (up to #202000) to the file...\n"
     ]
    },
    {
     "name": "stderr",
     "output_type": "stream",
     "text": [
      "Scraping (XPath):  43%|█████████████████████▋                            | 201000/464680 [3:26:32<112:53:31,  1.54s/it]"
     ]
    },
    {
     "name": "stdout",
     "output_type": "stream",
     "text": [
      "💾 Saved 1000 more entries (up to #203000) to the file...\n"
     ]
    },
    {
     "name": "stderr",
     "output_type": "stream",
     "text": [
      "Scraping (XPath):  44%|██████████████████████▋                             | 202193/464680 [3:27:38<3:15:59, 22.32it/s]"
     ]
    },
    {
     "name": "stdout",
     "output_type": "stream",
     "text": [
      "💾 Saved 1000 more entries (up to #204000) to the file...\n"
     ]
    },
    {
     "name": "stderr",
     "output_type": "stream",
     "text": [
      "Scraping (XPath):  44%|█████████████████████▊                            | 203000/464680 [3:29:15<230:38:02,  3.17s/it]"
     ]
    },
    {
     "name": "stdout",
     "output_type": "stream",
     "text": [
      "💾 Saved 1000 more entries (up to #205000) to the file...\n"
     ]
    },
    {
     "name": "stderr",
     "output_type": "stream",
     "text": [
      "Scraping (XPath):  44%|██████████████████████▊                             | 204322/464680 [3:30:41<2:16:26, 31.80it/s]"
     ]
    },
    {
     "name": "stdout",
     "output_type": "stream",
     "text": [
      "💾 Saved 1000 more entries (up to #206000) to the file...\n"
     ]
    },
    {
     "name": "stderr",
     "output_type": "stream",
     "text": [
      "Scraping (XPath):  44%|██████████████████████▉                             | 205065/464680 [3:31:37<8:49:51,  8.17it/s]"
     ]
    },
    {
     "name": "stdout",
     "output_type": "stream",
     "text": [
      "💾 Saved 1000 more entries (up to #207000) to the file...\n"
     ]
    },
    {
     "name": "stderr",
     "output_type": "stream",
     "text": [
      "Scraping (XPath):  44%|██████████████████████▌                            | 206000/464680 [3:33:14<99:12:33,  1.38s/it]"
     ]
    },
    {
     "name": "stdout",
     "output_type": "stream",
     "text": [
      "💾 Saved 1000 more entries (up to #208000) to the file...\n"
     ]
    },
    {
     "name": "stderr",
     "output_type": "stream",
     "text": [
      "Scraping (XPath):  45%|███████████████████████▏                            | 207151/464680 [3:35:21<4:01:52, 17.74it/s]"
     ]
    },
    {
     "name": "stdout",
     "output_type": "stream",
     "text": [
      "💾 Saved 1000 more entries (up to #209000) to the file...\n"
     ]
    },
    {
     "name": "stderr",
     "output_type": "stream",
     "text": [
      "Scraping (XPath):  45%|███████████████████████▎                            | 208055/464680 [3:37:08<9:45:48,  7.30it/s]"
     ]
    },
    {
     "name": "stdout",
     "output_type": "stream",
     "text": [
      "💾 Saved 1000 more entries (up to #210000) to the file...\n"
     ]
    },
    {
     "name": "stderr",
     "output_type": "stream",
     "text": [
      "Scraping (XPath):  45%|███████████████████████▍                            | 209056/464680 [3:40:20<9:46:03,  7.27it/s]"
     ]
    },
    {
     "name": "stdout",
     "output_type": "stream",
     "text": [
      "💾 Saved 1000 more entries (up to #211000) to the file...\n"
     ]
    },
    {
     "name": "stderr",
     "output_type": "stream",
     "text": [
      "Scraping (XPath):  45%|███████████████████████▌                            | 210057/464680 [3:43:48<9:01:57,  7.83it/s]"
     ]
    },
    {
     "name": "stdout",
     "output_type": "stream",
     "text": [
      "💾 Saved 1000 more entries (up to #212000) to the file...\n"
     ]
    },
    {
     "name": "stderr",
     "output_type": "stream",
     "text": [
      "Scraping (XPath):  45%|███████████████████████▋                            | 211224/464680 [3:46:12<2:50:53, 24.72it/s]"
     ]
    },
    {
     "name": "stdout",
     "output_type": "stream",
     "text": [
      "💾 Saved 1000 more entries (up to #213000) to the file...\n"
     ]
    },
    {
     "name": "stderr",
     "output_type": "stream",
     "text": [
      "Scraping (XPath):  46%|███████████████████████▋                            | 212073/464680 [3:47:46<7:38:25,  9.18it/s]"
     ]
    },
    {
     "name": "stdout",
     "output_type": "stream",
     "text": [
      "💾 Saved 1000 more entries (up to #214000) to the file...\n"
     ]
    },
    {
     "name": "stderr",
     "output_type": "stream",
     "text": [
      "Scraping (XPath):  46%|███████████████████████▍                           | 213000/464680 [3:49:37<92:10:07,  1.32s/it]"
     ]
    },
    {
     "name": "stdout",
     "output_type": "stream",
     "text": [
      "💾 Saved 1000 more entries (up to #215000) to the file...\n"
     ]
    },
    {
     "name": "stderr",
     "output_type": "stream",
     "text": [
      "Scraping (XPath):  46%|███████████████████████                           | 214000/464680 [3:52:48<184:25:17,  2.65s/it]"
     ]
    },
    {
     "name": "stdout",
     "output_type": "stream",
     "text": [
      "💾 Saved 1000 more entries (up to #216000) to the file...\n"
     ]
    },
    {
     "name": "stderr",
     "output_type": "stream",
     "text": [
      "Scraping (XPath):  46%|███████████████████████▌                           | 215001/464680 [3:54:30<98:24:23,  1.42s/it]"
     ]
    },
    {
     "name": "stdout",
     "output_type": "stream",
     "text": [
      "💾 Saved 1000 more entries (up to #217000) to the file...\n"
     ]
    },
    {
     "name": "stderr",
     "output_type": "stream",
     "text": [
      "Scraping (XPath):  47%|████████████████████████▏                           | 216116/464680 [3:56:00<5:05:37, 13.55it/s]"
     ]
    },
    {
     "name": "stdout",
     "output_type": "stream",
     "text": [
      "💾 Saved 1000 more entries (up to #218000) to the file...\n"
     ]
    },
    {
     "name": "stderr",
     "output_type": "stream",
     "text": [
      "Scraping (XPath):  47%|████████████████████████▎                           | 217113/464680 [3:57:46<5:07:58, 13.40it/s]"
     ]
    },
    {
     "name": "stdout",
     "output_type": "stream",
     "text": [
      "💾 Saved 1000 more entries (up to #219000) to the file...\n"
     ]
    },
    {
     "name": "stderr",
     "output_type": "stream",
     "text": [
      "Scraping (XPath):  47%|████████████████████████▍                           | 218236/464680 [3:59:07<2:49:42, 24.20it/s]"
     ]
    },
    {
     "name": "stdout",
     "output_type": "stream",
     "text": [
      "💾 Saved 1000 more entries (up to #220000) to the file...\n"
     ]
    },
    {
     "name": "stderr",
     "output_type": "stream",
     "text": [
      "Scraping (XPath):  47%|████████████████████████▌                           | 219130/464680 [3:59:58<4:28:02, 15.27it/s]"
     ]
    },
    {
     "name": "stdout",
     "output_type": "stream",
     "text": [
      "💾 Saved 1000 more entries (up to #221000) to the file...\n"
     ]
    },
    {
     "name": "stderr",
     "output_type": "stream",
     "text": [
      "Scraping (XPath):  47%|████████████████████████▋                           | 220095/464680 [4:01:36<5:56:59, 11.42it/s]"
     ]
    },
    {
     "name": "stdout",
     "output_type": "stream",
     "text": [
      "💾 Saved 1000 more entries (up to #222000) to the file...\n"
     ]
    },
    {
     "name": "stderr",
     "output_type": "stream",
     "text": [
      "Scraping (XPath):  48%|███████████████████████▊                          | 221001/464680 [4:04:01<116:41:17,  1.72s/it]"
     ]
    },
    {
     "name": "stdout",
     "output_type": "stream",
     "text": [
      "💾 Saved 1000 more entries (up to #223000) to the file...\n"
     ]
    },
    {
     "name": "stderr",
     "output_type": "stream",
     "text": [
      "Scraping (XPath):  48%|████████████████████████▊                           | 222056/464680 [4:07:10<9:40:09,  6.97it/s]"
     ]
    },
    {
     "name": "stdout",
     "output_type": "stream",
     "text": [
      "💾 Saved 1000 more entries (up to #224000) to the file...\n"
     ]
    },
    {
     "name": "stderr",
     "output_type": "stream",
     "text": [
      "Scraping (XPath):  48%|████████████████████████▉                           | 223167/464680 [4:09:16<3:41:57, 18.14it/s]"
     ]
    },
    {
     "name": "stdout",
     "output_type": "stream",
     "text": [
      "💾 Saved 1000 more entries (up to #225000) to the file...\n"
     ]
    },
    {
     "name": "stderr",
     "output_type": "stream",
     "text": [
      "Scraping (XPath):  48%|████████████████████████                          | 224000/464680 [4:11:00<117:04:01,  1.75s/it]"
     ]
    },
    {
     "name": "stdout",
     "output_type": "stream",
     "text": [
      "💾 Saved 1000 more entries (up to #226000) to the file...\n"
     ]
    },
    {
     "name": "stderr",
     "output_type": "stream",
     "text": [
      "Scraping (XPath):  48%|█████████████████████████▏                          | 225141/464680 [4:12:56<4:23:29, 15.15it/s]"
     ]
    },
    {
     "name": "stdout",
     "output_type": "stream",
     "text": [
      "💾 Saved 1000 more entries (up to #227000) to the file...\n"
     ]
    },
    {
     "name": "stderr",
     "output_type": "stream",
     "text": [
      "Scraping (XPath):  49%|████████████████████████▎                         | 226001/464680 [4:14:15<115:39:32,  1.74s/it]"
     ]
    },
    {
     "name": "stdout",
     "output_type": "stream",
     "text": [
      "💾 Saved 1000 more entries (up to #228000) to the file...\n"
     ]
    },
    {
     "name": "stderr",
     "output_type": "stream",
     "text": [
      "Scraping (XPath):  49%|█████████████████████████▍                          | 227248/464680 [4:15:57<2:39:36, 24.79it/s]"
     ]
    },
    {
     "name": "stdout",
     "output_type": "stream",
     "text": [
      "💾 Saved 1000 more entries (up to #229000) to the file...\n"
     ]
    },
    {
     "name": "stderr",
     "output_type": "stream",
     "text": [
      "Scraping (XPath):  49%|█████████████████████████▌                          | 228132/464680 [4:17:18<4:34:42, 14.35it/s]"
     ]
    },
    {
     "name": "stdout",
     "output_type": "stream",
     "text": [
      "💾 Saved 1000 more entries (up to #230000) to the file...\n"
     ]
    },
    {
     "name": "stderr",
     "output_type": "stream",
     "text": [
      "Scraping (XPath):  49%|█████████████████████████▋                          | 229141/464680 [4:19:23<4:14:28, 15.43it/s]"
     ]
    },
    {
     "name": "stdout",
     "output_type": "stream",
     "text": [
      "💾 Saved 1000 more entries (up to #231000) to the file...\n"
     ]
    },
    {
     "name": "stderr",
     "output_type": "stream",
     "text": [
      "Scraping (XPath):  49%|████████████████████████▋                         | 230000/464680 [4:21:29<117:43:21,  1.81s/it]"
     ]
    },
    {
     "name": "stdout",
     "output_type": "stream",
     "text": [
      "💾 Saved 1000 more entries (up to #232000) to the file...\n"
     ]
    },
    {
     "name": "stderr",
     "output_type": "stream",
     "text": [
      "Scraping (XPath):  50%|█████████████████████████▊                          | 231075/464680 [4:23:17<7:33:32,  8.58it/s]"
     ]
    },
    {
     "name": "stdout",
     "output_type": "stream",
     "text": [
      "💾 Saved 1000 more entries (up to #233000) to the file...\n"
     ]
    },
    {
     "name": "stderr",
     "output_type": "stream",
     "text": [
      "Scraping (XPath):  50%|█████████████████████████▍                         | 232001/464680 [4:25:29<82:19:45,  1.27s/it]"
     ]
    },
    {
     "name": "stdout",
     "output_type": "stream",
     "text": [
      "💾 Saved 1000 more entries (up to #234000) to the file...\n"
     ]
    },
    {
     "name": "stderr",
     "output_type": "stream",
     "text": [
      "Scraping (XPath):  50%|██████████████████████████                          | 233266/464680 [4:26:33<2:35:08, 24.86it/s]"
     ]
    },
    {
     "name": "stdout",
     "output_type": "stream",
     "text": [
      "💾 Saved 1000 more entries (up to #235000) to the file...\n"
     ]
    },
    {
     "name": "stderr",
     "output_type": "stream",
     "text": [
      "Scraping (XPath):  50%|██████████████████████████▏                         | 234238/464680 [4:27:23<2:48:26, 22.80it/s]"
     ]
    },
    {
     "name": "stdout",
     "output_type": "stream",
     "text": [
      "💾 Saved 1000 more entries (up to #236000) to the file...\n"
     ]
    },
    {
     "name": "stderr",
     "output_type": "stream",
     "text": [
      "Scraping (XPath):  51%|██████████████████████████▎                         | 235272/464680 [4:28:22<2:29:27, 25.58it/s]"
     ]
    },
    {
     "name": "stdout",
     "output_type": "stream",
     "text": [
      "💾 Saved 1000 more entries (up to #237000) to the file...\n"
     ]
    },
    {
     "name": "stderr",
     "output_type": "stream",
     "text": [
      "Scraping (XPath):  51%|██████████████████████████▍                         | 236138/464680 [4:29:37<4:20:26, 14.63it/s]"
     ]
    },
    {
     "name": "stdout",
     "output_type": "stream",
     "text": [
      "💾 Saved 1000 more entries (up to #238000) to the file...\n"
     ]
    },
    {
     "name": "stderr",
     "output_type": "stream",
     "text": [
      "Scraping (XPath):  51%|██████████████████████████▌                         | 237094/464680 [4:31:34<6:01:25, 10.50it/s]"
     ]
    },
    {
     "name": "stdout",
     "output_type": "stream",
     "text": [
      "💾 Saved 1000 more entries (up to #239000) to the file...\n"
     ]
    },
    {
     "name": "stderr",
     "output_type": "stream",
     "text": [
      "Scraping (XPath):  51%|██████████████████████████▋                         | 238348/464680 [4:33:22<2:04:50, 30.21it/s]"
     ]
    },
    {
     "name": "stdout",
     "output_type": "stream",
     "text": [
      "💾 Saved 1000 more entries (up to #240000) to the file...\n"
     ]
    },
    {
     "name": "stderr",
     "output_type": "stream",
     "text": [
      "Scraping (XPath):  51%|██████████████████████████▊                         | 239306/464680 [4:34:57<2:16:40, 27.48it/s]"
     ]
    },
    {
     "name": "stdout",
     "output_type": "stream",
     "text": [
      "💾 Saved 1000 more entries (up to #241000) to the file...\n"
     ]
    },
    {
     "name": "stderr",
     "output_type": "stream",
     "text": [
      "Scraping (XPath):  52%|██████████████████████████▎                        | 240000/464680 [4:35:48<92:16:04,  1.48s/it]"
     ]
    },
    {
     "name": "stdout",
     "output_type": "stream",
     "text": [
      "💾 Saved 1000 more entries (up to #242000) to the file...\n"
     ]
    },
    {
     "name": "stderr",
     "output_type": "stream",
     "text": [
      "Scraping (XPath):  52%|██████████████████████████▉                         | 241172/464680 [4:37:21<5:20:42, 11.62it/s]"
     ]
    },
    {
     "name": "stdout",
     "output_type": "stream",
     "text": [
      "💾 Saved 1000 more entries (up to #243000) to the file...\n"
     ]
    },
    {
     "name": "stderr",
     "output_type": "stream",
     "text": [
      "Scraping (XPath):  52%|███████████████████████████                         | 242230/464680 [4:38:48<2:48:30, 22.00it/s]"
     ]
    },
    {
     "name": "stdout",
     "output_type": "stream",
     "text": [
      "💾 Saved 1000 more entries (up to #244000) to the file...\n"
     ]
    },
    {
     "name": "stderr",
     "output_type": "stream",
     "text": [
      "Scraping (XPath):  52%|███████████████████████████▏                        | 243291/464680 [4:39:49<2:18:41, 26.60it/s]"
     ]
    },
    {
     "name": "stdout",
     "output_type": "stream",
     "text": [
      "💾 Saved 1000 more entries (up to #245000) to the file...\n"
     ]
    },
    {
     "name": "stderr",
     "output_type": "stream",
     "text": [
      "Scraping (XPath):  53%|███████████████████████████▎                        | 244155/464680 [4:40:48<3:58:06, 15.44it/s]"
     ]
    },
    {
     "name": "stdout",
     "output_type": "stream",
     "text": [
      "💾 Saved 1000 more entries (up to #246000) to the file...\n"
     ]
    },
    {
     "name": "stderr",
     "output_type": "stream",
     "text": [
      "Scraping (XPath):  53%|███████████████████████████▍                        | 245404/464680 [4:42:14<1:53:23, 32.23it/s]"
     ]
    },
    {
     "name": "stdout",
     "output_type": "stream",
     "text": [
      "💾 Saved 1000 more entries (up to #247000) to the file...\n"
     ]
    },
    {
     "name": "stderr",
     "output_type": "stream",
     "text": [
      "Scraping (XPath):  53%|███████████████████████████▌                        | 246499/464680 [4:43:04<1:40:12, 36.29it/s]"
     ]
    },
    {
     "name": "stdout",
     "output_type": "stream",
     "text": [
      "💾 Saved 1000 more entries (up to #248000) to the file...\n"
     ]
    },
    {
     "name": "stderr",
     "output_type": "stream",
     "text": [
      "Scraping (XPath):  53%|███████████████████████████▋                        | 247225/464680 [4:43:47<2:52:33, 21.00it/s]"
     ]
    },
    {
     "name": "stdout",
     "output_type": "stream",
     "text": [
      "💾 Saved 1000 more entries (up to #249000) to the file...\n"
     ]
    },
    {
     "name": "stderr",
     "output_type": "stream",
     "text": [
      "Scraping (XPath):  53%|███████████████████████████▏                       | 248001/464680 [4:45:33<96:03:59,  1.60s/it]"
     ]
    },
    {
     "name": "stdout",
     "output_type": "stream",
     "text": [
      "💾 Saved 1000 more entries (up to #250000) to the file...\n"
     ]
    },
    {
     "name": "stderr",
     "output_type": "stream",
     "text": [
      "Scraping (XPath):  54%|███████████████████████████▎                       | 249000/464680 [4:46:41<89:11:35,  1.49s/it]"
     ]
    },
    {
     "name": "stdout",
     "output_type": "stream",
     "text": [
      "💾 Saved 1000 more entries (up to #251000) to the file...\n"
     ]
    },
    {
     "name": "stderr",
     "output_type": "stream",
     "text": [
      "Scraping (XPath):  54%|██████████████████████████▉                       | 250000/464680 [4:48:55<129:04:52,  2.16s/it]"
     ]
    },
    {
     "name": "stdout",
     "output_type": "stream",
     "text": [
      "💾 Saved 1000 more entries (up to #252000) to the file...\n"
     ]
    },
    {
     "name": "stderr",
     "output_type": "stream",
     "text": [
      "Scraping (XPath):  54%|███████████████████████████                       | 251000/464680 [4:50:29<121:17:46,  2.04s/it]"
     ]
    },
    {
     "name": "stdout",
     "output_type": "stream",
     "text": [
      "💾 Saved 1000 more entries (up to #253000) to the file...\n"
     ]
    },
    {
     "name": "stderr",
     "output_type": "stream",
     "text": [
      "Scraping (XPath):  54%|████████████████████████████▏                       | 252098/464680 [4:52:21<5:53:44, 10.02it/s]"
     ]
    },
    {
     "name": "stdout",
     "output_type": "stream",
     "text": [
      "💾 Saved 1000 more entries (up to #254000) to the file...\n"
     ]
    },
    {
     "name": "stderr",
     "output_type": "stream",
     "text": [
      "Scraping (XPath):  54%|███████████████████████████▏                      | 253000/464680 [4:54:44<109:34:43,  1.86s/it]"
     ]
    },
    {
     "name": "stdout",
     "output_type": "stream",
     "text": [
      "💾 Saved 1000 more entries (up to #255000) to the file...\n"
     ]
    },
    {
     "name": "stderr",
     "output_type": "stream",
     "text": [
      "Scraping (XPath):  55%|████████████████████████████▍                       | 254273/464680 [4:56:54<2:23:41, 24.41it/s]"
     ]
    },
    {
     "name": "stdout",
     "output_type": "stream",
     "text": [
      "💾 Saved 1000 more entries (up to #256000) to the file...\n"
     ]
    },
    {
     "name": "stderr",
     "output_type": "stream",
     "text": [
      "Scraping (XPath):  55%|███████████████████████████▉                       | 255000/464680 [4:57:47<82:11:50,  1.41s/it]"
     ]
    },
    {
     "name": "stdout",
     "output_type": "stream",
     "text": [
      "💾 Saved 1000 more entries (up to #257000) to the file...\n"
     ]
    },
    {
     "name": "stderr",
     "output_type": "stream",
     "text": [
      "Scraping (XPath):  55%|████████████████████████████▋                       | 256272/464680 [4:58:28<2:24:22, 24.06it/s]"
     ]
    },
    {
     "name": "stdout",
     "output_type": "stream",
     "text": [
      "💾 Saved 1000 more entries (up to #258000) to the file...\n"
     ]
    },
    {
     "name": "stderr",
     "output_type": "stream",
     "text": [
      "Scraping (XPath):  55%|████████████████████████████▊                       | 257274/464680 [4:59:18<2:21:48, 24.38it/s]"
     ]
    },
    {
     "name": "stdout",
     "output_type": "stream",
     "text": [
      "💾 Saved 1000 more entries (up to #259000) to the file...\n"
     ]
    },
    {
     "name": "stderr",
     "output_type": "stream",
     "text": [
      "Scraping (XPath):  56%|████████████████████████████▉                       | 258123/464680 [5:00:42<4:42:15, 12.20it/s]"
     ]
    },
    {
     "name": "stdout",
     "output_type": "stream",
     "text": [
      "💾 Saved 1000 more entries (up to #260000) to the file...\n"
     ]
    },
    {
     "name": "stderr",
     "output_type": "stream",
     "text": [
      "Scraping (XPath):  56%|████████████████████████████▉                       | 259100/464680 [5:02:52<5:51:14,  9.75it/s]"
     ]
    },
    {
     "name": "stdout",
     "output_type": "stream",
     "text": [
      "💾 Saved 1000 more entries (up to #261000) to the file...\n"
     ]
    },
    {
     "name": "stderr",
     "output_type": "stream",
     "text": [
      "Scraping (XPath):  56%|█████████████████████████████▏                      | 260341/464680 [5:04:05<2:04:34, 27.34it/s]"
     ]
    },
    {
     "name": "stdout",
     "output_type": "stream",
     "text": [
      "💾 Saved 1000 more entries (up to #262000) to the file...\n"
     ]
    },
    {
     "name": "stderr",
     "output_type": "stream",
     "text": [
      "Scraping (XPath):  56%|█████████████████████████████▏                      | 261264/464680 [5:04:56<2:30:21, 22.55it/s]"
     ]
    },
    {
     "name": "stdout",
     "output_type": "stream",
     "text": [
      "💾 Saved 1000 more entries (up to #263000) to the file...\n"
     ]
    },
    {
     "name": "stderr",
     "output_type": "stream",
     "text": [
      "Scraping (XPath):  56%|█████████████████████████████▎                      | 262393/464680 [5:05:49<1:50:46, 30.43it/s]"
     ]
    },
    {
     "name": "stdout",
     "output_type": "stream",
     "text": [
      "💾 Saved 1000 more entries (up to #264000) to the file...\n"
     ]
    },
    {
     "name": "stderr",
     "output_type": "stream",
     "text": [
      "Scraping (XPath):  57%|█████████████████████████████▍                      | 263160/464680 [5:06:44<3:42:35, 15.09it/s]"
     ]
    },
    {
     "name": "stdout",
     "output_type": "stream",
     "text": [
      "💾 Saved 1000 more entries (up to #265000) to the file...\n"
     ]
    },
    {
     "name": "stderr",
     "output_type": "stream",
     "text": [
      "Scraping (XPath):  57%|████████████████████████████▉                      | 264040/464680 [5:08:37<12:46:55,  4.36it/s]"
     ]
    },
    {
     "name": "stdout",
     "output_type": "stream",
     "text": [
      "💾 Saved 1000 more entries (up to #266000) to the file...\n"
     ]
    },
    {
     "name": "stderr",
     "output_type": "stream",
     "text": [
      "Scraping (XPath):  57%|█████████████████████████████▋                      | 265432/464680 [5:11:11<1:58:26, 28.04it/s]"
     ]
    },
    {
     "name": "stdout",
     "output_type": "stream",
     "text": [
      "💾 Saved 1000 more entries (up to #267000) to the file...\n"
     ]
    },
    {
     "name": "stderr",
     "output_type": "stream",
     "text": [
      "Scraping (XPath):  57%|█████████████████████████████▊                      | 266464/464680 [5:12:06<1:51:11, 29.71it/s]"
     ]
    },
    {
     "name": "stdout",
     "output_type": "stream",
     "text": [
      "💾 Saved 1000 more entries (up to #268000) to the file...\n"
     ]
    },
    {
     "name": "stderr",
     "output_type": "stream",
     "text": [
      "Scraping (XPath):  57%|████████████████████████████▋                     | 267000/464680 [5:12:52<104:49:42,  1.91s/it]"
     ]
    },
    {
     "name": "stdout",
     "output_type": "stream",
     "text": [
      "💾 Saved 1000 more entries (up to #269000) to the file...\n"
     ]
    },
    {
     "name": "stderr",
     "output_type": "stream",
     "text": [
      "Scraping (XPath):  58%|██████████████████████████████                      | 268223/464680 [5:13:48<3:00:49, 18.11it/s]"
     ]
    },
    {
     "name": "stdout",
     "output_type": "stream",
     "text": [
      "💾 Saved 1000 more entries (up to #270000) to the file...\n"
     ]
    },
    {
     "name": "stderr",
     "output_type": "stream",
     "text": [
      "Scraping (XPath):  58%|██████████████████████████████                      | 269125/464680 [5:15:17<4:49:08, 11.27it/s]"
     ]
    },
    {
     "name": "stdout",
     "output_type": "stream",
     "text": [
      "💾 Saved 1000 more entries (up to #271000) to the file...\n"
     ]
    },
    {
     "name": "stderr",
     "output_type": "stream",
     "text": [
      "Scraping (XPath):  58%|█████████████████████████████                     | 270000/464680 [5:17:41<117:02:19,  2.16s/it]"
     ]
    },
    {
     "name": "stdout",
     "output_type": "stream",
     "text": [
      "💾 Saved 1000 more entries (up to #272000) to the file...\n"
     ]
    },
    {
     "name": "stderr",
     "output_type": "stream",
     "text": [
      "Scraping (XPath):  58%|██████████████████████████████▎                     | 271333/464680 [5:18:53<2:17:34, 23.42it/s]"
     ]
    },
    {
     "name": "stdout",
     "output_type": "stream",
     "text": [
      "💾 Saved 1000 more entries (up to #273000) to the file...\n"
     ]
    },
    {
     "name": "stderr",
     "output_type": "stream",
     "text": [
      "Scraping (XPath):  59%|██████████████████████████████▍                     | 272339/464680 [5:19:46<2:10:52, 24.49it/s]"
     ]
    },
    {
     "name": "stdout",
     "output_type": "stream",
     "text": [
      "💾 Saved 1000 more entries (up to #274000) to the file...\n"
     ]
    },
    {
     "name": "stderr",
     "output_type": "stream",
     "text": [
      "Scraping (XPath):  59%|██████████████████████████████▌                     | 273450/464680 [5:21:44<1:58:34, 26.88it/s]"
     ]
    },
    {
     "name": "stdout",
     "output_type": "stream",
     "text": [
      "💾 Saved 1000 more entries (up to #275000) to the file...\n"
     ]
    },
    {
     "name": "stderr",
     "output_type": "stream",
     "text": [
      "Scraping (XPath):  59%|█████████████████████████████▍                    | 274000/464680 [5:23:32<118:46:18,  2.24s/it]"
     ]
    },
    {
     "name": "stdout",
     "output_type": "stream",
     "text": [
      "💾 Saved 1000 more entries (up to #276000) to the file...\n"
     ]
    },
    {
     "name": "stderr",
     "output_type": "stream",
     "text": [
      "Scraping (XPath):  59%|█████████████████████████████▌                    | 275000/464680 [5:25:26<158:31:09,  3.01s/it]"
     ]
    },
    {
     "name": "stdout",
     "output_type": "stream",
     "text": [
      "💾 Saved 1000 more entries (up to #277000) to the file...\n"
     ]
    },
    {
     "name": "stderr",
     "output_type": "stream",
     "text": [
      "Scraping (XPath):  59%|█████████████████████████████▋                    | 276000/464680 [5:26:22<113:35:03,  2.17s/it]"
     ]
    },
    {
     "name": "stdout",
     "output_type": "stream",
     "text": [
      "💾 Saved 1000 more entries (up to #278000) to the file...\n"
     ]
    },
    {
     "name": "stderr",
     "output_type": "stream",
     "text": [
      "Scraping (XPath):  60%|███████████████████████████████                     | 277513/464680 [5:27:13<1:39:08, 31.46it/s]"
     ]
    },
    {
     "name": "stdout",
     "output_type": "stream",
     "text": [
      "💾 Saved 1000 more entries (up to #279000) to the file...\n"
     ]
    },
    {
     "name": "stderr",
     "output_type": "stream",
     "text": [
      "Scraping (XPath):  60%|███████████████████████████████▏                    | 278181/464680 [5:27:58<3:29:35, 14.83it/s]"
     ]
    },
    {
     "name": "stdout",
     "output_type": "stream",
     "text": [
      "💾 Saved 1000 more entries (up to #280000) to the file...\n"
     ]
    },
    {
     "name": "stderr",
     "output_type": "stream",
     "text": [
      "Scraping (XPath):  60%|███████████████████████████████▏                    | 279153/464680 [5:29:49<4:00:37, 12.85it/s]"
     ]
    },
    {
     "name": "stdout",
     "output_type": "stream",
     "text": [
      "💾 Saved 1000 more entries (up to #281000) to the file...\n"
     ]
    },
    {
     "name": "stderr",
     "output_type": "stream",
     "text": [
      "Scraping (XPath):  60%|███████████████████████████████▎                    | 280280/464680 [5:31:45<2:34:21, 19.91it/s]"
     ]
    },
    {
     "name": "stdout",
     "output_type": "stream",
     "text": [
      "💾 Saved 1000 more entries (up to #282000) to the file...\n"
     ]
    },
    {
     "name": "stderr",
     "output_type": "stream",
     "text": [
      "Scraping (XPath):  60%|██████████████████████████████▊                    | 281000/464680 [5:32:50<90:32:14,  1.77s/it]"
     ]
    },
    {
     "name": "stdout",
     "output_type": "stream",
     "text": [
      "💾 Saved 1000 more entries (up to #283000) to the file...\n"
     ]
    },
    {
     "name": "stderr",
     "output_type": "stream",
     "text": [
      "Scraping (XPath):  61%|██████████████████████████████▎                   | 282000/464680 [5:33:47<124:55:52,  2.46s/it]"
     ]
    },
    {
     "name": "stdout",
     "output_type": "stream",
     "text": [
      "💾 Saved 1000 more entries (up to #284000) to the file...\n"
     ]
    },
    {
     "name": "stderr",
     "output_type": "stream",
     "text": [
      "Scraping (XPath):  61%|███████████████████████████████▋                    | 283430/464680 [5:34:33<1:52:31, 26.85it/s]"
     ]
    },
    {
     "name": "stdout",
     "output_type": "stream",
     "text": [
      "💾 Saved 1000 more entries (up to #285000) to the file...\n"
     ]
    },
    {
     "name": "stderr",
     "output_type": "stream",
     "text": [
      "Scraping (XPath):  61%|███████████████████████████████▊                    | 284172/464680 [5:35:35<3:40:10, 13.66it/s]"
     ]
    },
    {
     "name": "stdout",
     "output_type": "stream",
     "text": [
      "💾 Saved 1000 more entries (up to #286000) to the file...\n"
     ]
    },
    {
     "name": "stderr",
     "output_type": "stream",
     "text": [
      "Scraping (XPath):  61%|██████████████████████████████▋                   | 285000/464680 [5:37:37<119:02:55,  2.39s/it]"
     ]
    },
    {
     "name": "stdout",
     "output_type": "stream",
     "text": [
      "💾 Saved 1000 more entries (up to #287000) to the file...\n"
     ]
    },
    {
     "name": "stderr",
     "output_type": "stream",
     "text": [
      "Scraping (XPath):  62%|████████████████████████████████                    | 286294/464680 [5:39:01<2:20:33, 21.15it/s]"
     ]
    },
    {
     "name": "stdout",
     "output_type": "stream",
     "text": [
      "💾 Saved 1000 more entries (up to #288000) to the file...\n"
     ]
    },
    {
     "name": "stderr",
     "output_type": "stream",
     "text": [
      "Scraping (XPath):  62%|████████████████████████████████▏                   | 287379/464680 [5:40:06<2:02:39, 24.09it/s]"
     ]
    },
    {
     "name": "stdout",
     "output_type": "stream",
     "text": [
      "💾 Saved 1000 more entries (up to #289000) to the file...\n"
     ]
    },
    {
     "name": "stderr",
     "output_type": "stream",
     "text": [
      "Scraping (XPath):  62%|████████████████████████████████▎                   | 288353/464680 [5:41:10<2:06:19, 23.26it/s]"
     ]
    },
    {
     "name": "stdout",
     "output_type": "stream",
     "text": [
      "💾 Saved 1000 more entries (up to #290000) to the file...\n"
     ]
    },
    {
     "name": "stderr",
     "output_type": "stream",
     "text": [
      "Scraping (XPath):  62%|████████████████████████████████▍                   | 289477/464680 [5:42:07<1:44:41, 27.89it/s]"
     ]
    },
    {
     "name": "stdout",
     "output_type": "stream",
     "text": [
      "💾 Saved 1000 more entries (up to #291000) to the file...\n"
     ]
    },
    {
     "name": "stderr",
     "output_type": "stream",
     "text": [
      "Scraping (XPath):  63%|████████████████████████████████▌                   | 290548/464680 [5:42:58<1:36:32, 30.06it/s]"
     ]
    },
    {
     "name": "stdout",
     "output_type": "stream",
     "text": [
      "💾 Saved 1000 more entries (up to #292000) to the file...\n"
     ]
    },
    {
     "name": "stderr",
     "output_type": "stream",
     "text": [
      "Scraping (XPath):  63%|████████████████████████████████▌                   | 291317/464680 [5:43:40<2:11:25, 21.99it/s]"
     ]
    },
    {
     "name": "stdout",
     "output_type": "stream",
     "text": [
      "💾 Saved 1000 more entries (up to #293000) to the file...\n"
     ]
    },
    {
     "name": "stderr",
     "output_type": "stream",
     "text": [
      "Scraping (XPath):  63%|████████████████████████████████▋                   | 292217/464680 [5:45:01<3:03:01, 15.70it/s]"
     ]
    },
    {
     "name": "stdout",
     "output_type": "stream",
     "text": [
      "💾 Saved 1000 more entries (up to #294000) to the file...\n"
     ]
    },
    {
     "name": "stderr",
     "output_type": "stream",
     "text": [
      "Scraping (XPath):  63%|████████████████████████████████▊                   | 293361/464680 [5:45:56<1:50:52, 25.75it/s]"
     ]
    },
    {
     "name": "stdout",
     "output_type": "stream",
     "text": [
      "💾 Saved 1000 more entries (up to #295000) to the file...\n"
     ]
    },
    {
     "name": "stderr",
     "output_type": "stream",
     "text": [
      "Scraping (XPath):  63%|████████████████████████████████▉                   | 294341/464680 [5:46:56<1:54:38, 24.76it/s]"
     ]
    },
    {
     "name": "stdout",
     "output_type": "stream",
     "text": [
      "💾 Saved 1000 more entries (up to #296000) to the file...\n"
     ]
    },
    {
     "name": "stderr",
     "output_type": "stream",
     "text": [
      "Scraping (XPath):  64%|█████████████████████████████████                   | 295328/464680 [5:47:53<1:58:23, 23.84it/s]"
     ]
    },
    {
     "name": "stdout",
     "output_type": "stream",
     "text": [
      "💾 Saved 1000 more entries (up to #297000) to the file...\n"
     ]
    },
    {
     "name": "stderr",
     "output_type": "stream",
     "text": [
      "Scraping (XPath):  64%|█████████████████████████████████▏                  | 296490/464680 [5:48:58<1:26:53, 32.26it/s]"
     ]
    },
    {
     "name": "stdout",
     "output_type": "stream",
     "text": [
      "💾 Saved 1000 more entries (up to #298000) to the file...\n"
     ]
    },
    {
     "name": "stderr",
     "output_type": "stream",
     "text": [
      "Scraping (XPath):  64%|█████████████████████████████████▎                  | 297391/464680 [5:49:42<1:41:30, 27.47it/s]"
     ]
    },
    {
     "name": "stdout",
     "output_type": "stream",
     "text": [
      "💾 Saved 1000 more entries (up to #299000) to the file...\n"
     ]
    },
    {
     "name": "stderr",
     "output_type": "stream",
     "text": [
      "Scraping (XPath):  64%|████████████████████████████████                  | 298000/464680 [5:50:31<106:38:34,  2.30s/it]"
     ]
    },
    {
     "name": "stdout",
     "output_type": "stream",
     "text": [
      "💾 Saved 1000 more entries (up to #300000) to the file...\n"
     ]
    },
    {
     "name": "stderr",
     "output_type": "stream",
     "text": [
      "Scraping (XPath):  64%|█████████████████████████████████▍                  | 299351/464680 [5:51:16<1:50:10, 25.01it/s]"
     ]
    },
    {
     "name": "stdout",
     "output_type": "stream",
     "text": [
      "💾 Saved 1000 more entries (up to #301000) to the file...\n"
     ]
    },
    {
     "name": "stderr",
     "output_type": "stream",
     "text": [
      "Scraping (XPath):  65%|█████████████████████████████████▋                  | 300620/464680 [5:52:05<1:13:45, 37.07it/s]"
     ]
    },
    {
     "name": "stdout",
     "output_type": "stream",
     "text": [
      "💾 Saved 1000 more entries (up to #302000) to the file...\n"
     ]
    },
    {
     "name": "stderr",
     "output_type": "stream",
     "text": [
      "Scraping (XPath):  65%|█████████████████████████████████▋                  | 301000/464680 [5:52:40<5:01:31,  9.05it/s]"
     ]
    },
    {
     "name": "stdout",
     "output_type": "stream",
     "text": [
      "💾 Saved 1000 more entries (up to #303000) to the file...\n"
     ]
    },
    {
     "name": "stderr",
     "output_type": "stream",
     "text": [
      "Scraping (XPath):  65%|█████████████████████████████████▊                  | 302329/464680 [5:53:35<1:56:38, 23.20it/s]"
     ]
    },
    {
     "name": "stdout",
     "output_type": "stream",
     "text": [
      "💾 Saved 1000 more entries (up to #304000) to the file...\n"
     ]
    },
    {
     "name": "stderr",
     "output_type": "stream",
     "text": [
      "Scraping (XPath):  65%|█████████████████████████████████▎                 | 303000/464680 [5:54:32<81:59:42,  1.83s/it]"
     ]
    },
    {
     "name": "stdout",
     "output_type": "stream",
     "text": [
      "💾 Saved 1000 more entries (up to #305000) to the file...\n"
     ]
    },
    {
     "name": "stderr",
     "output_type": "stream",
     "text": [
      "Scraping (XPath):  65%|█████████████████████████████████▎                 | 304000/464680 [5:55:37<89:46:47,  2.01s/it]"
     ]
    },
    {
     "name": "stdout",
     "output_type": "stream",
     "text": [
      "💾 Saved 1000 more entries (up to #306000) to the file...\n"
     ]
    },
    {
     "name": "stderr",
     "output_type": "stream",
     "text": [
      "Scraping (XPath):  66%|██████████████████████████████████▏                 | 305410/464680 [5:56:23<1:33:14, 28.47it/s]"
     ]
    },
    {
     "name": "stdout",
     "output_type": "stream",
     "text": [
      "💾 Saved 1000 more entries (up to #307000) to the file...\n"
     ]
    },
    {
     "name": "stderr",
     "output_type": "stream",
     "text": [
      "Scraping (XPath):  66%|██████████████████████████████████▎                 | 306385/464680 [5:57:10<1:40:03, 26.37it/s]"
     ]
    },
    {
     "name": "stdout",
     "output_type": "stream",
     "text": [
      "💾 Saved 1000 more entries (up to #308000) to the file...\n"
     ]
    },
    {
     "name": "stderr",
     "output_type": "stream",
     "text": [
      "Scraping (XPath):  66%|██████████████████████████████████▍                 | 307562/464680 [5:58:04<1:16:45, 34.12it/s]"
     ]
    },
    {
     "name": "stdout",
     "output_type": "stream",
     "text": [
      "💾 Saved 1000 more entries (up to #309000) to the file...\n"
     ]
    },
    {
     "name": "stderr",
     "output_type": "stream",
     "text": [
      "Scraping (XPath):  66%|██████████████████████████████████▌                 | 308446/464680 [5:58:48<1:37:14, 26.78it/s]"
     ]
    },
    {
     "name": "stdout",
     "output_type": "stream",
     "text": [
      "💾 Saved 1000 more entries (up to #310000) to the file...\n"
     ]
    },
    {
     "name": "stderr",
     "output_type": "stream",
     "text": [
      "Scraping (XPath):  66%|█████████████████████████████████▉                 | 309000/464680 [5:59:32<62:28:41,  1.44s/it]"
     ]
    },
    {
     "name": "stdout",
     "output_type": "stream",
     "text": [
      "💾 Saved 1000 more entries (up to #311000) to the file...\n"
     ]
    },
    {
     "name": "stderr",
     "output_type": "stream",
     "text": [
      "Scraping (XPath):  67%|██████████████████████████████████▋                 | 310000/464680 [5:59:57<1:50:31, 23.33it/s]"
     ]
    },
    {
     "name": "stdout",
     "output_type": "stream",
     "text": [
      "💾 Saved 1000 more entries (up to #312000) to the file...\n"
     ]
    },
    {
     "name": "stderr",
     "output_type": "stream",
     "text": [
      "Scraping (XPath):  67%|████████████████████████████████████▏                 | 311675/464680 [6:00:20<51:12, 49.80it/s]"
     ]
    },
    {
     "name": "stdout",
     "output_type": "stream",
     "text": [
      "💾 Saved 1000 more entries (up to #313000) to the file...\n"
     ]
    },
    {
     "name": "stderr",
     "output_type": "stream",
     "text": [
      "Scraping (XPath):  67%|██████████████████████████████████▉                 | 312709/464680 [6:01:09<1:10:03, 36.16it/s]"
     ]
    },
    {
     "name": "stdout",
     "output_type": "stream",
     "text": [
      "💾 Saved 1000 more entries (up to #314000) to the file...\n"
     ]
    },
    {
     "name": "stderr",
     "output_type": "stream",
     "text": [
      "Scraping (XPath):  67%|███████████████████████████████████                 | 313000/464680 [6:01:49<3:22:50, 12.46it/s]"
     ]
    },
    {
     "name": "stdout",
     "output_type": "stream",
     "text": [
      "💾 Saved 1000 more entries (up to #315000) to the file...\n"
     ]
    },
    {
     "name": "stderr",
     "output_type": "stream",
     "text": [
      "Scraping (XPath):  68%|███████████████████████████████████▏                | 314167/464680 [6:04:03<3:22:13, 12.40it/s]"
     ]
    },
    {
     "name": "stdout",
     "output_type": "stream",
     "text": [
      "💾 Saved 1000 more entries (up to #316000) to the file...\n"
     ]
    },
    {
     "name": "stderr",
     "output_type": "stream",
     "text": [
      "Scraping (XPath):  68%|███████████████████████████████████▎                | 315106/464680 [6:05:56<4:59:19,  8.33it/s]"
     ]
    },
    {
     "name": "stdout",
     "output_type": "stream",
     "text": [
      "💾 Saved 1000 more entries (up to #317000) to the file...\n"
     ]
    },
    {
     "name": "stderr",
     "output_type": "stream",
     "text": [
      "Scraping (XPath):  68%|██████████████████████████████████                | 316000/464680 [6:08:12<193:10:15,  4.68s/it]"
     ]
    },
    {
     "name": "stdout",
     "output_type": "stream",
     "text": [
      "💾 Saved 1000 more entries (up to #318000) to the file...\n"
     ]
    },
    {
     "name": "stderr",
     "output_type": "stream",
     "text": [
      "Scraping (XPath):  68%|███████████████████████████████████▍                | 317198/464680 [6:10:53<2:48:25, 14.59it/s]"
     ]
    },
    {
     "name": "stdout",
     "output_type": "stream",
     "text": [
      "💾 Saved 1000 more entries (up to #319000) to the file...\n"
     ]
    },
    {
     "name": "stderr",
     "output_type": "stream",
     "text": [
      "Scraping (XPath):  68%|███████████████████████████████████▌                | 318157/464680 [6:12:18<3:24:46, 11.93it/s]"
     ]
    },
    {
     "name": "stdout",
     "output_type": "stream",
     "text": [
      "💾 Saved 1000 more entries (up to #320000) to the file...\n"
     ]
    },
    {
     "name": "stderr",
     "output_type": "stream",
     "text": [
      "Scraping (XPath):  69%|██████████████████████████████████▎               | 319000/464680 [6:14:14<116:53:03,  2.89s/it]"
     ]
    },
    {
     "name": "stdout",
     "output_type": "stream",
     "text": [
      "💾 Saved 1000 more entries (up to #321000) to the file...\n"
     ]
    },
    {
     "name": "stderr",
     "output_type": "stream",
     "text": [
      "Scraping (XPath):  69%|█████████████████████████████████████▎                | 320691/464680 [6:15:12<55:36, 43.15it/s]"
     ]
    },
    {
     "name": "stdout",
     "output_type": "stream",
     "text": [
      "💾 Saved 1000 more entries (up to #322000) to the file...\n"
     ]
    },
    {
     "name": "stderr",
     "output_type": "stream",
     "text": [
      "Scraping (XPath):  69%|███████████████████████████████████▉                | 321000/464680 [6:15:45<2:38:17, 15.13it/s]"
     ]
    },
    {
     "name": "stdout",
     "output_type": "stream",
     "text": [
      "💾 Saved 1000 more entries (up to #323000) to the file...\n"
     ]
    },
    {
     "name": "stderr",
     "output_type": "stream",
     "text": [
      "Scraping (XPath):  69%|████████████████████████████████████                | 322539/464680 [6:16:31<1:07:25, 35.13it/s]"
     ]
    },
    {
     "name": "stdout",
     "output_type": "stream",
     "text": [
      "💾 Saved 1000 more entries (up to #324000) to the file...\n"
     ]
    },
    {
     "name": "stderr",
     "output_type": "stream",
     "text": [
      "Scraping (XPath):  70%|███████████████████████████████████▍               | 323016/464680 [6:18:28<21:22:34,  1.84it/s]"
     ]
    },
    {
     "name": "stdout",
     "output_type": "stream",
     "text": [
      "💾 Saved 1000 more entries (up to #325000) to the file...\n"
     ]
    },
    {
     "name": "stderr",
     "output_type": "stream",
     "text": [
      "Scraping (XPath):  70%|████████████████████████████████████▎               | 324275/464680 [6:21:18<2:19:46, 16.74it/s]"
     ]
    },
    {
     "name": "stdout",
     "output_type": "stream",
     "text": [
      "💾 Saved 1000 more entries (up to #326000) to the file...\n"
     ]
    },
    {
     "name": "stderr",
     "output_type": "stream",
     "text": [
      "Scraping (XPath):  70%|████████████████████████████████████▍               | 325294/464680 [6:22:36<2:09:04, 18.00it/s]"
     ]
    },
    {
     "name": "stdout",
     "output_type": "stream",
     "text": [
      "💾 Saved 1000 more entries (up to #327000) to the file...\n"
     ]
    },
    {
     "name": "stderr",
     "output_type": "stream",
     "text": [
      "Scraping (XPath):  70%|███████████████████████████████████               | 326000/464680 [6:24:00<136:18:05,  3.54s/it]"
     ]
    },
    {
     "name": "stdout",
     "output_type": "stream",
     "text": [
      "💾 Saved 1000 more entries (up to #328000) to the file...\n"
     ]
    },
    {
     "name": "stderr",
     "output_type": "stream",
     "text": [
      "Scraping (XPath):  70%|████████████████████████████████████▌               | 327250/464680 [6:25:20<2:27:09, 15.56it/s]"
     ]
    },
    {
     "name": "stdout",
     "output_type": "stream",
     "text": [
      "💾 Saved 1000 more entries (up to #329000) to the file...\n"
     ]
    },
    {
     "name": "stderr",
     "output_type": "stream",
     "text": [
      "Scraping (XPath):  71%|████████████████████████████████████▋               | 328352/464680 [6:26:36<1:51:45, 20.33it/s]"
     ]
    },
    {
     "name": "stdout",
     "output_type": "stream",
     "text": [
      "💾 Saved 1000 more entries (up to #330000) to the file...\n"
     ]
    },
    {
     "name": "stderr",
     "output_type": "stream",
     "text": [
      "Scraping (XPath):  71%|███████████████████████████████████▍              | 329000/464680 [6:27:49<140:36:38,  3.73s/it]"
     ]
    },
    {
     "name": "stdout",
     "output_type": "stream",
     "text": [
      "💾 Saved 1000 more entries (up to #331000) to the file...\n"
     ]
    },
    {
     "name": "stderr",
     "output_type": "stream",
     "text": [
      "Scraping (XPath):  71%|██████████████████████████████████████▍               | 330623/464680 [6:28:56<57:21, 38.96it/s]"
     ]
    },
    {
     "name": "stdout",
     "output_type": "stream",
     "text": [
      "💾 Saved 1000 more entries (up to #332000) to the file...\n"
     ]
    },
    {
     "name": "stderr",
     "output_type": "stream",
     "text": [
      "Scraping (XPath):  71%|██████████████████████████████████████▌               | 331719/464680 [6:29:34<56:48, 39.01it/s]"
     ]
    },
    {
     "name": "stdout",
     "output_type": "stream",
     "text": [
      "💾 Saved 1000 more entries (up to #333000) to the file...\n"
     ]
    },
    {
     "name": "stderr",
     "output_type": "stream",
     "text": [
      "Scraping (XPath):  72%|█████████████████████████████████████▏              | 332501/464680 [6:30:07<1:07:23, 32.69it/s]"
     ]
    },
    {
     "name": "stdout",
     "output_type": "stream",
     "text": [
      "💾 Saved 1000 more entries (up to #334000) to the file...\n"
     ]
    },
    {
     "name": "stderr",
     "output_type": "stream",
     "text": [
      "Scraping (XPath):  72%|██████████████████████████████████████▊               | 333789/464680 [6:30:49<51:51, 42.06it/s]"
     ]
    },
    {
     "name": "stdout",
     "output_type": "stream",
     "text": [
      "💾 Saved 1000 more entries (up to #335000) to the file...\n"
     ]
    },
    {
     "name": "stderr",
     "output_type": "stream",
     "text": [
      "Scraping (XPath):  72%|██████████████████████████████████████▉               | 334588/464680 [6:31:20<57:56, 37.42it/s]"
     ]
    },
    {
     "name": "stdout",
     "output_type": "stream",
     "text": [
      "💾 Saved 1000 more entries (up to #336000) to the file...\n"
     ]
    },
    {
     "name": "stderr",
     "output_type": "stream",
     "text": [
      "Scraping (XPath):  72%|█████████████████████████████████████▌              | 335549/464680 [6:31:58<1:05:20, 32.94it/s]"
     ]
    },
    {
     "name": "stdout",
     "output_type": "stream",
     "text": [
      "💾 Saved 1000 more entries (up to #337000) to the file...\n"
     ]
    },
    {
     "name": "stderr",
     "output_type": "stream",
     "text": [
      "Scraping (XPath):  72%|█████████████████████████████████████▌              | 336210/464680 [6:32:57<2:21:33, 15.13it/s]"
     ]
    },
    {
     "name": "stdout",
     "output_type": "stream",
     "text": [
      "💾 Saved 1000 more entries (up to #338000) to the file...\n"
     ]
    },
    {
     "name": "stderr",
     "output_type": "stream",
     "text": [
      "Scraping (XPath):  73%|█████████████████████████████████████▋              | 337220/464680 [6:34:32<2:04:49, 17.02it/s]"
     ]
    },
    {
     "name": "stdout",
     "output_type": "stream",
     "text": [
      "💾 Saved 1000 more entries (up to #339000) to the file...\n"
     ]
    },
    {
     "name": "stderr",
     "output_type": "stream",
     "text": [
      "Scraping (XPath):  73%|█████████████████████████████████████▊              | 338258/464680 [6:35:57<1:43:43, 20.31it/s]"
     ]
    },
    {
     "name": "stdout",
     "output_type": "stream",
     "text": [
      "💾 Saved 1000 more entries (up to #340000) to the file...\n"
     ]
    },
    {
     "name": "stderr",
     "output_type": "stream",
     "text": [
      "Scraping (XPath):  73%|█████████████████████████████████████▉              | 339240/464680 [6:37:16<1:49:46, 19.05it/s]"
     ]
    },
    {
     "name": "stdout",
     "output_type": "stream",
     "text": [
      "💾 Saved 1000 more entries (up to #341000) to the file...\n"
     ]
    },
    {
     "name": "stderr",
     "output_type": "stream",
     "text": [
      "Scraping (XPath):  73%|██████████████████████████████████████              | 340131/464680 [6:38:39<3:12:00, 10.81it/s]"
     ]
    },
    {
     "name": "stdout",
     "output_type": "stream",
     "text": [
      "💾 Saved 1000 more entries (up to #342000) to the file...\n"
     ]
    },
    {
     "name": "stderr",
     "output_type": "stream",
     "text": [
      "Scraping (XPath):  73%|██████████████████████████████████████▏             | 341241/464680 [6:40:10<1:51:33, 18.44it/s]"
     ]
    },
    {
     "name": "stdout",
     "output_type": "stream",
     "text": [
      "💾 Saved 1000 more entries (up to #343000) to the file...\n"
     ]
    },
    {
     "name": "stderr",
     "output_type": "stream",
     "text": [
      "Scraping (XPath):  74%|██████████████████████████████████████▎             | 342266/464680 [6:41:28<1:37:13, 20.98it/s]"
     ]
    },
    {
     "name": "stdout",
     "output_type": "stream",
     "text": [
      "💾 Saved 1000 more entries (up to #344000) to the file...\n"
     ]
    },
    {
     "name": "stderr",
     "output_type": "stream",
     "text": [
      "Scraping (XPath):  74%|██████████████████████████████████████▍             | 343455/464680 [6:42:19<1:01:16, 32.97it/s]"
     ]
    },
    {
     "name": "stdout",
     "output_type": "stream",
     "text": [
      "💾 Saved 1000 more entries (up to #345000) to the file...\n"
     ]
    },
    {
     "name": "stderr",
     "output_type": "stream",
     "text": [
      "Scraping (XPath):  74%|██████████████████████████████████████▌             | 344252/464680 [6:43:39<1:45:49, 18.97it/s]"
     ]
    },
    {
     "name": "stdout",
     "output_type": "stream",
     "text": [
      "💾 Saved 1000 more entries (up to #346000) to the file...\n"
     ]
    },
    {
     "name": "stderr",
     "output_type": "stream",
     "text": [
      "Scraping (XPath):  74%|█████████████████████████████████████▊             | 345000/464680 [6:44:39<72:54:04,  2.19s/it]"
     ]
    },
    {
     "name": "stdout",
     "output_type": "stream",
     "text": [
      "💾 Saved 1000 more entries (up to #347000) to the file...\n"
     ]
    },
    {
     "name": "stderr",
     "output_type": "stream",
     "text": [
      "Scraping (XPath):  75%|██████████████████████████████████████▊             | 346362/464680 [6:45:31<1:16:48, 25.68it/s]"
     ]
    },
    {
     "name": "stdout",
     "output_type": "stream",
     "text": [
      "💾 Saved 1000 more entries (up to #348000) to the file...\n"
     ]
    },
    {
     "name": "stderr",
     "output_type": "stream",
     "text": [
      "Scraping (XPath):  75%|██████████████████████████████████████▊             | 347363/464680 [6:46:11<1:10:19, 27.80it/s]"
     ]
    },
    {
     "name": "stdout",
     "output_type": "stream",
     "text": [
      "💾 Saved 1000 more entries (up to #349000) to the file...\n"
     ]
    },
    {
     "name": "stderr",
     "output_type": "stream",
     "text": [
      "Scraping (XPath):  75%|██████████████████████████████████████▉             | 348371/464680 [6:47:19<1:10:53, 27.34it/s]"
     ]
    },
    {
     "name": "stdout",
     "output_type": "stream",
     "text": [
      "💾 Saved 1000 more entries (up to #350000) to the file...\n"
     ]
    },
    {
     "name": "stderr",
     "output_type": "stream",
     "text": [
      "Scraping (XPath):  75%|███████████████████████████████████████             | 349207/464680 [6:48:03<2:02:18, 15.74it/s]"
     ]
    },
    {
     "name": "stdout",
     "output_type": "stream",
     "text": [
      "💾 Saved 1000 more entries (up to #351000) to the file...\n"
     ]
    },
    {
     "name": "stderr",
     "output_type": "stream",
     "text": [
      "Scraping (XPath):  75%|███████████████████████████████████████▏            | 350118/464680 [6:49:30<3:33:59,  8.92it/s]"
     ]
    },
    {
     "name": "stdout",
     "output_type": "stream",
     "text": [
      "💾 Saved 1000 more entries (up to #352000) to the file...\n"
     ]
    },
    {
     "name": "stderr",
     "output_type": "stream",
     "text": [
      "Scraping (XPath):  76%|███████████████████████████████████████▎            | 351440/464680 [6:50:43<1:00:15, 31.32it/s]"
     ]
    },
    {
     "name": "stdout",
     "output_type": "stream",
     "text": [
      "💾 Saved 1000 more entries (up to #353000) to the file...\n"
     ]
    },
    {
     "name": "stderr",
     "output_type": "stream",
     "text": [
      "Scraping (XPath):  76%|██████████████████████████████████████▋            | 352000/464680 [6:51:25<48:38:56,  1.55s/it]"
     ]
    },
    {
     "name": "stdout",
     "output_type": "stream",
     "text": [
      "💾 Saved 1000 more entries (up to #354000) to the file...\n"
     ]
    },
    {
     "name": "stderr",
     "output_type": "stream",
     "text": [
      "Scraping (XPath):  76%|███████████████████████████████████████▌            | 353101/464680 [6:53:25<4:01:40,  7.69it/s]"
     ]
    },
    {
     "name": "stdout",
     "output_type": "stream",
     "text": [
      "💾 Saved 1000 more entries (up to #355000) to the file...\n"
     ]
    },
    {
     "name": "stderr",
     "output_type": "stream",
     "text": [
      "Scraping (XPath):  76%|███████████████████████████████████████▋            | 354234/464680 [6:55:46<2:00:58, 15.22it/s]"
     ]
    },
    {
     "name": "stdout",
     "output_type": "stream",
     "text": [
      "💾 Saved 1000 more entries (up to #356000) to the file...\n"
     ]
    },
    {
     "name": "stderr",
     "output_type": "stream",
     "text": [
      "Scraping (XPath):  76%|██████████████████████████████████████▉            | 355034/464680 [6:58:10<10:45:08,  2.83it/s]"
     ]
    },
    {
     "name": "stdout",
     "output_type": "stream",
     "text": [
      "💾 Saved 1000 more entries (up to #357000) to the file...\n"
     ]
    },
    {
     "name": "stderr",
     "output_type": "stream",
     "text": [
      "Scraping (XPath):  77%|███████████████████████████████████████▊            | 356053/464680 [7:00:17<7:34:10,  3.99it/s]"
     ]
    },
    {
     "name": "stdout",
     "output_type": "stream",
     "text": [
      "💾 Saved 1000 more entries (up to #358000) to the file...\n"
     ]
    },
    {
     "name": "stderr",
     "output_type": "stream",
     "text": [
      "Scraping (XPath):  77%|███████████████████████████████████████▏           | 357000/464680 [7:01:28<60:02:06,  2.01s/it]"
     ]
    },
    {
     "name": "stdout",
     "output_type": "stream",
     "text": [
      "💾 Saved 1000 more entries (up to #359000) to the file...\n"
     ]
    },
    {
     "name": "stderr",
     "output_type": "stream",
     "text": [
      "Scraping (XPath):  77%|█████████████████████████████████████████▋            | 358453/464680 [7:03:36<57:35, 30.74it/s]"
     ]
    },
    {
     "name": "stdout",
     "output_type": "stream",
     "text": [
      "💾 Saved 1000 more entries (up to #360000) to the file...\n"
     ]
    },
    {
     "name": "stderr",
     "output_type": "stream",
     "text": [
      "Scraping (XPath):  77%|███████████████████████████████████████▍           | 359000/464680 [7:04:38<64:00:38,  2.18s/it]"
     ]
    },
    {
     "name": "stdout",
     "output_type": "stream",
     "text": [
      "💾 Saved 1000 more entries (up to #361000) to the file...\n"
     ]
    },
    {
     "name": "stderr",
     "output_type": "stream",
     "text": [
      "Scraping (XPath):  77%|███████████████████████████████████████▌           | 360000/464680 [7:05:42<60:18:45,  2.07s/it]"
     ]
    },
    {
     "name": "stdout",
     "output_type": "stream",
     "text": [
      "💾 Saved 1000 more entries (up to #362000) to the file...\n"
     ]
    },
    {
     "name": "stderr",
     "output_type": "stream",
     "text": [
      "Scraping (XPath):  78%|████████████████████████████████████████▍           | 361255/464680 [7:06:36<1:33:19, 18.47it/s]"
     ]
    },
    {
     "name": "stdout",
     "output_type": "stream",
     "text": [
      "💾 Saved 1000 more entries (up to #363000) to the file...\n"
     ]
    },
    {
     "name": "stderr",
     "output_type": "stream",
     "text": [
      "Scraping (XPath):  78%|███████████████████████████████████████▋           | 362000/464680 [7:07:53<66:54:45,  2.35s/it]"
     ]
    },
    {
     "name": "stdout",
     "output_type": "stream",
     "text": [
      "💾 Saved 1000 more entries (up to #364000) to the file...\n"
     ]
    },
    {
     "name": "stderr",
     "output_type": "stream",
     "text": [
      "Scraping (XPath):  78%|██████████████████████████████████████████▎           | 363869/464680 [7:08:58<32:31, 51.65it/s]"
     ]
    },
    {
     "name": "stdout",
     "output_type": "stream",
     "text": [
      "💾 Saved 1000 more entries (up to #365000) to the file...\n"
     ]
    },
    {
     "name": "stderr",
     "output_type": "stream",
     "text": [
      "Scraping (XPath):  78%|██████████████████████████████████████████▎           | 364456/464680 [7:09:24<45:23, 36.79it/s]"
     ]
    },
    {
     "name": "stdout",
     "output_type": "stream",
     "text": [
      "💾 Saved 1000 more entries (up to #366000) to the file...\n"
     ]
    },
    {
     "name": "stderr",
     "output_type": "stream",
     "text": [
      "Scraping (XPath):  79%|████████████████████████████████████████▉           | 365300/464680 [7:10:07<1:05:10, 25.41it/s]"
     ]
    },
    {
     "name": "stdout",
     "output_type": "stream",
     "text": [
      "💾 Saved 1000 more entries (up to #367000) to the file...\n"
     ]
    },
    {
     "name": "stderr",
     "output_type": "stream",
     "text": [
      "Scraping (XPath):  79%|████████████████████████████████████████▏          | 366000/464680 [7:11:03<53:33:47,  1.95s/it]"
     ]
    },
    {
     "name": "stdout",
     "output_type": "stream",
     "text": [
      "💾 Saved 1000 more entries (up to #368000) to the file...\n"
     ]
    },
    {
     "name": "stderr",
     "output_type": "stream",
     "text": [
      "Scraping (XPath):  79%|█████████████████████████████████████████           | 367271/464680 [7:12:06<1:33:00, 17.46it/s]"
     ]
    },
    {
     "name": "stdout",
     "output_type": "stream",
     "text": [
      "💾 Saved 1000 more entries (up to #369000) to the file...\n"
     ]
    },
    {
     "name": "stderr",
     "output_type": "stream",
     "text": [
      "Scraping (XPath):  79%|█████████████████████████████████████████▏          | 368263/464680 [7:13:30<1:35:05, 16.90it/s]"
     ]
    },
    {
     "name": "stdout",
     "output_type": "stream",
     "text": [
      "💾 Saved 1000 more entries (up to #370000) to the file...\n"
     ]
    },
    {
     "name": "stderr",
     "output_type": "stream",
     "text": [
      "Scraping (XPath):  79%|████████████████████████████████████████▍          | 369000/464680 [7:14:59<85:39:53,  3.22s/it]"
     ]
    },
    {
     "name": "stdout",
     "output_type": "stream",
     "text": [
      "💾 Saved 1000 more entries (up to #371000) to the file...\n"
     ]
    },
    {
     "name": "stderr",
     "output_type": "stream",
     "text": [
      "Scraping (XPath):  80%|████████████████████████████████████████▌          | 370000/464680 [7:16:34<66:10:39,  2.52s/it]"
     ]
    },
    {
     "name": "stdout",
     "output_type": "stream",
     "text": [
      "💾 Saved 1000 more entries (up to #372000) to the file...\n"
     ]
    },
    {
     "name": "stderr",
     "output_type": "stream",
     "text": [
      "Scraping (XPath):  80%|████████████████████████████████████████▋          | 371000/464680 [7:18:29<70:41:56,  2.72s/it]"
     ]
    },
    {
     "name": "stdout",
     "output_type": "stream",
     "text": [
      "💾 Saved 1000 more entries (up to #373000) to the file...\n"
     ]
    },
    {
     "name": "stderr",
     "output_type": "stream",
     "text": [
      "Scraping (XPath):  80%|███████████████████████████████████████████▎          | 372572/464680 [7:19:55<51:28, 29.83it/s]"
     ]
    },
    {
     "name": "stdout",
     "output_type": "stream",
     "text": [
      "💾 Saved 1000 more entries (up to #374000) to the file...\n"
     ]
    },
    {
     "name": "stderr",
     "output_type": "stream",
     "text": [
      "Scraping (XPath):  80%|█████████████████████████████████████████▊          | 373403/464680 [7:20:38<1:03:12, 24.07it/s]"
     ]
    },
    {
     "name": "stdout",
     "output_type": "stream",
     "text": [
      "💾 Saved 1000 more entries (up to #375000) to the file...\n"
     ]
    },
    {
     "name": "stderr",
     "output_type": "stream",
     "text": [
      "Scraping (XPath):  81%|███████████████████████████████████████████▌          | 374778/464680 [7:21:27<40:51, 36.68it/s]"
     ]
    },
    {
     "name": "stdout",
     "output_type": "stream",
     "text": [
      "💾 Saved 1000 more entries (up to #376000) to the file...\n"
     ]
    },
    {
     "name": "stderr",
     "output_type": "stream",
     "text": [
      "Scraping (XPath):  81%|███████████████████████████████████████████▋          | 375452/464680 [7:21:59<49:11, 30.23it/s]"
     ]
    },
    {
     "name": "stdout",
     "output_type": "stream",
     "text": [
      "💾 Saved 1000 more entries (up to #377000) to the file...\n"
     ]
    },
    {
     "name": "stderr",
     "output_type": "stream",
     "text": [
      "Scraping (XPath):  81%|███████████████████████████████████████████▊          | 376642/464680 [7:22:46<37:54, 38.70it/s]"
     ]
    },
    {
     "name": "stdout",
     "output_type": "stream",
     "text": [
      "💾 Saved 1000 more entries (up to #378000) to the file...\n"
     ]
    },
    {
     "name": "stderr",
     "output_type": "stream",
     "text": [
      "Scraping (XPath):  81%|██████████████████████████████████████████▏         | 377229/464680 [7:23:19<1:10:45, 20.60it/s]"
     ]
    },
    {
     "name": "stdout",
     "output_type": "stream",
     "text": [
      "💾 Saved 1000 more entries (up to #379000) to the file...\n"
     ]
    },
    {
     "name": "stderr",
     "output_type": "stream",
     "text": [
      "Scraping (XPath):  81%|█████████████████████████████████████████▍         | 378000/464680 [7:24:20<46:43:12,  1.94s/it]"
     ]
    },
    {
     "name": "stdout",
     "output_type": "stream",
     "text": [
      "💾 Saved 1000 more entries (up to #380000) to the file...\n"
     ]
    },
    {
     "name": "stderr",
     "output_type": "stream",
     "text": [
      "Scraping (XPath):  82%|████████████████████████████████████████████▏         | 379727/464680 [7:25:02<32:10, 44.01it/s]"
     ]
    },
    {
     "name": "stdout",
     "output_type": "stream",
     "text": [
      "💾 Saved 1000 more entries (up to #381000) to the file...\n"
     ]
    },
    {
     "name": "stderr",
     "output_type": "stream",
     "text": [
      "Scraping (XPath):  82%|████████████████████████████████████████████▏         | 380581/464680 [7:25:35<38:26, 36.47it/s]"
     ]
    },
    {
     "name": "stdout",
     "output_type": "stream",
     "text": [
      "💾 Saved 1000 more entries (up to #382000) to the file...\n"
     ]
    },
    {
     "name": "stderr",
     "output_type": "stream",
     "text": [
      "Scraping (XPath):  82%|██████████████████████████████████████████▋         | 381273/464680 [7:26:20<1:07:36, 20.56it/s]"
     ]
    },
    {
     "name": "stdout",
     "output_type": "stream",
     "text": [
      "💾 Saved 1000 more entries (up to #383000) to the file...\n"
     ]
    },
    {
     "name": "stderr",
     "output_type": "stream",
     "text": [
      "Scraping (XPath):  82%|█████████████████████████████████████████▉         | 382000/464680 [7:27:25<54:21:51,  2.37s/it]"
     ]
    },
    {
     "name": "stdout",
     "output_type": "stream",
     "text": [
      "💾 Saved 1000 more entries (up to #384000) to the file...\n"
     ]
    },
    {
     "name": "stderr",
     "output_type": "stream",
     "text": [
      "Scraping (XPath):  82%|██████████████████████████████████████████▉         | 383345/464680 [7:28:42<1:03:41, 21.29it/s]"
     ]
    },
    {
     "name": "stdout",
     "output_type": "stream",
     "text": [
      "💾 Saved 1000 more entries (up to #385000) to the file...\n"
     ]
    },
    {
     "name": "stderr",
     "output_type": "stream",
     "text": [
      "Scraping (XPath):  83%|██████████████████████████████████████████▏        | 384000/464680 [7:29:55<92:53:41,  4.15s/it]"
     ]
    },
    {
     "name": "stdout",
     "output_type": "stream",
     "text": [
      "💾 Saved 1000 more entries (up to #386000) to the file...\n"
     ]
    },
    {
     "name": "stderr",
     "output_type": "stream",
     "text": [
      "Scraping (XPath):  83%|████████████████████████████████████████████▊         | 385385/464680 [7:31:15<57:11, 23.11it/s]"
     ]
    },
    {
     "name": "stdout",
     "output_type": "stream",
     "text": [
      "💾 Saved 1000 more entries (up to #387000) to the file...\n"
     ]
    },
    {
     "name": "stderr",
     "output_type": "stream",
     "text": [
      "Scraping (XPath):  83%|███████████████████████████████████████████▏        | 386292/464680 [7:32:38<1:17:43, 16.81it/s]"
     ]
    },
    {
     "name": "stdout",
     "output_type": "stream",
     "text": [
      "💾 Saved 1000 more entries (up to #388000) to the file...\n"
     ]
    },
    {
     "name": "stderr",
     "output_type": "stream",
     "text": [
      "Scraping (XPath):  83%|██████████████████████████████████████████▍        | 387000/464680 [7:33:48<51:27:36,  2.38s/it]"
     ]
    },
    {
     "name": "stdout",
     "output_type": "stream",
     "text": [
      "💾 Saved 1000 more entries (up to #389000) to the file...\n"
     ]
    },
    {
     "name": "stderr",
     "output_type": "stream",
     "text": [
      "Scraping (XPath):  84%|█████████████████████████████████████████████▏        | 388886/464680 [7:34:48<30:31, 41.38it/s]"
     ]
    },
    {
     "name": "stdout",
     "output_type": "stream",
     "text": [
      "💾 Saved 1000 more entries (up to #390000) to the file...\n"
     ]
    },
    {
     "name": "stderr",
     "output_type": "stream",
     "text": [
      "Scraping (XPath):  84%|█████████████████████████████████████████████▎        | 389404/464680 [7:35:16<40:30, 30.97it/s]"
     ]
    },
    {
     "name": "stdout",
     "output_type": "stream",
     "text": [
      "💾 Saved 1000 more entries (up to #391000) to the file...\n"
     ]
    },
    {
     "name": "stderr",
     "output_type": "stream",
     "text": [
      "Scraping (XPath):  84%|███████████████████████████████████████████▋        | 390370/464680 [7:36:41<1:01:00, 20.30it/s]"
     ]
    },
    {
     "name": "stdout",
     "output_type": "stream",
     "text": [
      "💾 Saved 1000 more entries (up to #392000) to the file...\n"
     ]
    },
    {
     "name": "stderr",
     "output_type": "stream",
     "text": [
      "Scraping (XPath):  84%|██████████████████████████████████████████▉        | 391000/464680 [7:38:01<84:40:56,  4.14s/it]"
     ]
    },
    {
     "name": "stdout",
     "output_type": "stream",
     "text": [
      "💾 Saved 1000 more entries (up to #393000) to the file...\n"
     ]
    },
    {
     "name": "stderr",
     "output_type": "stream",
     "text": [
      "Scraping (XPath):  84%|███████████████████████████████████████████        | 392000/464680 [7:39:32<80:51:56,  4.01s/it]"
     ]
    },
    {
     "name": "stdout",
     "output_type": "stream",
     "text": [
      "💾 Saved 1000 more entries (up to #394000) to the file...\n"
     ]
    },
    {
     "name": "stderr",
     "output_type": "stream",
     "text": [
      "Scraping (XPath):  85%|████████████████████████████████████████████        | 393231/464680 [7:41:00<1:28:43, 13.42it/s]"
     ]
    },
    {
     "name": "stdout",
     "output_type": "stream",
     "text": [
      "💾 Saved 1000 more entries (up to #395000) to the file...\n"
     ]
    },
    {
     "name": "stderr",
     "output_type": "stream",
     "text": [
      "Scraping (XPath):  85%|████████████████████████████████████████████        | 394144/464680 [7:43:05<2:06:44,  9.28it/s]"
     ]
    },
    {
     "name": "stdout",
     "output_type": "stream",
     "text": [
      "💾 Saved 1000 more entries (up to #396000) to the file...\n"
     ]
    },
    {
     "name": "stderr",
     "output_type": "stream",
     "text": [
      "Scraping (XPath):  85%|████████████████████████████████████████████▏       | 395228/464680 [7:45:07<1:24:44, 13.66it/s]"
     ]
    },
    {
     "name": "stdout",
     "output_type": "stream",
     "text": [
      "💾 Saved 1000 more entries (up to #397000) to the file...\n"
     ]
    },
    {
     "name": "stderr",
     "output_type": "stream",
     "text": [
      "Scraping (XPath):  85%|███████████████████████████████████████████▍       | 396000/464680 [7:47:32<60:00:47,  3.15s/it]"
     ]
    },
    {
     "name": "stdout",
     "output_type": "stream",
     "text": [
      "💾 Saved 1000 more entries (up to #398000) to the file...\n"
     ]
    },
    {
     "name": "stderr",
     "output_type": "stream",
     "text": [
      "Scraping (XPath):  86%|██████████████████████████████████████████████▏       | 397654/464680 [7:49:12<31:35, 35.36it/s]"
     ]
    },
    {
     "name": "stdout",
     "output_type": "stream",
     "text": [
      "💾 Saved 1000 more entries (up to #399000) to the file...\n"
     ]
    },
    {
     "name": "stderr",
     "output_type": "stream",
     "text": [
      "Scraping (XPath):  86%|██████████████████████████████████████████████▎       | 398754/464680 [7:49:53<30:18, 36.25it/s]"
     ]
    },
    {
     "name": "stdout",
     "output_type": "stream",
     "text": [
      "💾 Saved 1000 more entries (up to #400000) to the file...\n"
     ]
    },
    {
     "name": "stderr",
     "output_type": "stream",
     "text": [
      "Scraping (XPath):  86%|████████████████████████████████████████████▋       | 399000/464680 [7:50:30<1:18:00, 14.03it/s]"
     ]
    },
    {
     "name": "stdout",
     "output_type": "stream",
     "text": [
      "💾 Saved 1000 more entries (up to #401000) to the file...\n"
     ]
    },
    {
     "name": "stderr",
     "output_type": "stream",
     "text": [
      "Scraping (XPath):  86%|██████████████████████████████████████████████▍       | 400000/464680 [7:50:59<46:04, 23.39it/s]"
     ]
    },
    {
     "name": "stdout",
     "output_type": "stream",
     "text": [
      "💾 Saved 1000 more entries (up to #402000) to the file...\n"
     ]
    },
    {
     "name": "stderr",
     "output_type": "stream",
     "text": [
      "Scraping (XPath):  86%|██████████████████████████████████████████████▌       | 401000/464680 [7:51:27<37:50, 28.05it/s]"
     ]
    },
    {
     "name": "stdout",
     "output_type": "stream",
     "text": [
      "💾 Saved 1000 more entries (up to #403000) to the file...\n"
     ]
    },
    {
     "name": "stderr",
     "output_type": "stream",
     "text": [
      "Scraping (XPath):  87%|██████████████████████████████████████████████▋       | 402000/464680 [7:51:54<33:28, 31.21it/s]"
     ]
    },
    {
     "name": "stdout",
     "output_type": "stream",
     "text": [
      "💾 Saved 1000 more entries (up to #404000) to the file...\n"
     ]
    },
    {
     "name": "stderr",
     "output_type": "stream",
     "text": [
      "Scraping (XPath):  87%|██████████████████████████████████████████████▊       | 403000/464680 [7:52:20<30:32, 33.65it/s]"
     ]
    },
    {
     "name": "stdout",
     "output_type": "stream",
     "text": [
      "💾 Saved 1000 more entries (up to #405000) to the file...\n"
     ]
    },
    {
     "name": "stderr",
     "output_type": "stream",
     "text": [
      "Scraping (XPath):  87%|███████████████████████████████████████████████       | 404563/464680 [7:53:05<30:49, 32.50it/s]"
     ]
    },
    {
     "name": "stdout",
     "output_type": "stream",
     "text": [
      "💾 Saved 1000 more entries (up to #406000) to the file...\n"
     ]
    },
    {
     "name": "stderr",
     "output_type": "stream",
     "text": [
      "Scraping (XPath):  87%|███████████████████████████████████████████████▏      | 405591/464680 [7:53:45<30:27, 32.33it/s]"
     ]
    },
    {
     "name": "stdout",
     "output_type": "stream",
     "text": [
      "💾 Saved 1000 more entries (up to #407000) to the file...\n"
     ]
    },
    {
     "name": "stderr",
     "output_type": "stream",
     "text": [
      "Scraping (XPath):  88%|███████████████████████████████████████████████▎      | 406749/464680 [7:54:28<27:41, 34.86it/s]"
     ]
    },
    {
     "name": "stdout",
     "output_type": "stream",
     "text": [
      "💾 Saved 1000 more entries (up to #408000) to the file...\n"
     ]
    },
    {
     "name": "stderr",
     "output_type": "stream",
     "text": [
      "Scraping (XPath):  88%|███████████████████████████████████████████████▎      | 407626/464680 [7:55:08<30:28, 31.19it/s]"
     ]
    },
    {
     "name": "stdout",
     "output_type": "stream",
     "text": [
      "💾 Saved 1000 more entries (up to #409000) to the file...\n"
     ]
    },
    {
     "name": "stderr",
     "output_type": "stream",
     "text": [
      "Scraping (XPath):  88%|███████████████████████████████████████████████▍      | 408246/464680 [7:55:56<51:30, 18.26it/s]"
     ]
    },
    {
     "name": "stdout",
     "output_type": "stream",
     "text": [
      "💾 Saved 1000 more entries (up to #410000) to the file...\n"
     ]
    },
    {
     "name": "stderr",
     "output_type": "stream",
     "text": [
      "Scraping (XPath):  88%|████████████████████████████████████████████▉      | 409000/464680 [7:57:30<62:39:30,  4.05s/it]"
     ]
    },
    {
     "name": "stdout",
     "output_type": "stream",
     "text": [
      "💾 Saved 1000 more entries (up to #411000) to the file...\n"
     ]
    },
    {
     "name": "stderr",
     "output_type": "stream",
     "text": [
      "Scraping (XPath):  88%|███████████████████████████████████████████████▋      | 410598/464680 [7:58:44<31:04, 29.01it/s]"
     ]
    },
    {
     "name": "stdout",
     "output_type": "stream",
     "text": [
      "💾 Saved 1000 more entries (up to #412000) to the file...\n"
     ]
    },
    {
     "name": "stderr",
     "output_type": "stream",
     "text": [
      "Scraping (XPath):  89%|███████████████████████████████████████████████▊      | 411936/464680 [7:59:43<22:35, 38.92it/s]"
     ]
    },
    {
     "name": "stdout",
     "output_type": "stream",
     "text": [
      "💾 Saved 1000 more entries (up to #413000) to the file...\n"
     ]
    },
    {
     "name": "stderr",
     "output_type": "stream",
     "text": [
      "Scraping (XPath):  89%|███████████████████████████████████████████████▉      | 412761/464680 [8:00:13<22:12, 38.96it/s]"
     ]
    },
    {
     "name": "stdout",
     "output_type": "stream",
     "text": [
      "💾 Saved 1000 more entries (up to #414000) to the file...\n"
     ]
    },
    {
     "name": "stderr",
     "output_type": "stream",
     "text": [
      "Scraping (XPath):  89%|████████████████████████████████████████████████      | 413950/464680 [8:00:49<20:13, 41.80it/s]"
     ]
    },
    {
     "name": "stdout",
     "output_type": "stream",
     "text": [
      "💾 Saved 1000 more entries (up to #415000) to the file...\n"
     ]
    },
    {
     "name": "stderr",
     "output_type": "stream",
     "text": [
      "Scraping (XPath):  89%|████████████████████████████████████████████████▏     | 414913/464680 [8:01:20<19:16, 43.05it/s]"
     ]
    },
    {
     "name": "stdout",
     "output_type": "stream",
     "text": [
      "💾 Saved 1000 more entries (up to #416000) to the file...\n"
     ]
    },
    {
     "name": "stderr",
     "output_type": "stream",
     "text": [
      "Scraping (XPath):  89%|████████████████████████████████████████████████▎     | 415263/464680 [8:01:47<26:47, 30.74it/s]"
     ]
    },
    {
     "name": "stdout",
     "output_type": "stream",
     "text": [
      "💾 Saved 1000 more entries (up to #417000) to the file...\n"
     ]
    },
    {
     "name": "stderr",
     "output_type": "stream",
     "text": [
      "Scraping (XPath):  90%|████████████████████████████████████████████████▍     | 416296/464680 [8:03:17<52:33, 15.34it/s]"
     ]
    },
    {
     "name": "stdout",
     "output_type": "stream",
     "text": [
      "💾 Saved 1000 more entries (up to #418000) to the file...\n"
     ]
    },
    {
     "name": "stderr",
     "output_type": "stream",
     "text": [
      "Scraping (XPath):  90%|████████████████████████████████████████████████▌     | 417710/464680 [8:04:32<21:18, 36.75it/s]"
     ]
    },
    {
     "name": "stdout",
     "output_type": "stream",
     "text": [
      "💾 Saved 1000 more entries (up to #419000) to the file...\n"
     ]
    },
    {
     "name": "stderr",
     "output_type": "stream",
     "text": [
      "Scraping (XPath):  90%|████████████████████████████████████████████████▋     | 418775/464680 [8:05:09<20:18, 37.67it/s]"
     ]
    },
    {
     "name": "stdout",
     "output_type": "stream",
     "text": [
      "💾 Saved 1000 more entries (up to #420000) to the file...\n"
     ]
    },
    {
     "name": "stderr",
     "output_type": "stream",
     "text": [
      "Scraping (XPath):  90%|██████████████████████████████████████████████▉     | 419000/464680 [8:06:04<1:23:32,  9.11it/s]"
     ]
    },
    {
     "name": "stdout",
     "output_type": "stream",
     "text": [
      "💾 Saved 1000 more entries (up to #421000) to the file...\n"
     ]
    },
    {
     "name": "stderr",
     "output_type": "stream",
     "text": [
      "Scraping (XPath):  90%|██████████████████████████████████████████████     | 420000/464680 [8:07:23<22:33:08,  1.82s/it]"
     ]
    },
    {
     "name": "stdout",
     "output_type": "stream",
     "text": [
      "💾 Saved 1000 more entries (up to #422000) to the file...\n"
     ]
    },
    {
     "name": "stderr",
     "output_type": "stream",
     "text": [
      "Scraping (XPath):  91%|████████████████████████████████████████████████▉     | 421000/464680 [8:07:54<38:35, 18.87it/s]"
     ]
    },
    {
     "name": "stdout",
     "output_type": "stream",
     "text": [
      "💾 Saved 1000 more entries (up to #423000) to the file...\n"
     ]
    },
    {
     "name": "stderr",
     "output_type": "stream",
     "text": [
      "Scraping (XPath):  91%|█████████████████████████████████████████████████     | 422000/464680 [8:08:25<28:19, 25.11it/s]"
     ]
    },
    {
     "name": "stdout",
     "output_type": "stream",
     "text": [
      "💾 Saved 1000 more entries (up to #424000) to the file...\n"
     ]
    },
    {
     "name": "stderr",
     "output_type": "stream",
     "text": [
      "Scraping (XPath):  91%|█████████████████████████████████████████████████▏    | 423000/464680 [8:08:53<24:00, 28.93it/s]"
     ]
    },
    {
     "name": "stdout",
     "output_type": "stream",
     "text": [
      "💾 Saved 1000 more entries (up to #425000) to the file...\n"
     ]
    },
    {
     "name": "stderr",
     "output_type": "stream",
     "text": [
      "Scraping (XPath):  91%|█████████████████████████████████████████████████▎    | 424000/464680 [8:09:22<21:55, 30.92it/s]"
     ]
    },
    {
     "name": "stdout",
     "output_type": "stream",
     "text": [
      "💾 Saved 1000 more entries (up to #426000) to the file...\n"
     ]
    },
    {
     "name": "stderr",
     "output_type": "stream",
     "text": [
      "Scraping (XPath):  91%|█████████████████████████████████████████████████▍    | 425000/464680 [8:09:52<20:52, 31.67it/s]"
     ]
    },
    {
     "name": "stdout",
     "output_type": "stream",
     "text": [
      "💾 Saved 1000 more entries (up to #427000) to the file...\n"
     ]
    },
    {
     "name": "stderr",
     "output_type": "stream",
     "text": [
      "Scraping (XPath):  92%|█████████████████████████████████████████████████▌    | 426000/464680 [8:10:28<21:21, 30.19it/s]"
     ]
    },
    {
     "name": "stdout",
     "output_type": "stream",
     "text": [
      "💾 Saved 1000 more entries (up to #428000) to the file...\n"
     ]
    },
    {
     "name": "stderr",
     "output_type": "stream",
     "text": [
      "Scraping (XPath):  92%|█████████████████████████████████████████████████▌    | 427000/464680 [8:11:03<21:04, 29.80it/s]"
     ]
    },
    {
     "name": "stdout",
     "output_type": "stream",
     "text": [
      "💾 Saved 1000 more entries (up to #429000) to the file...\n"
     ]
    },
    {
     "name": "stderr",
     "output_type": "stream",
     "text": [
      "Scraping (XPath):  92%|█████████████████████████████████████████████████▊    | 428831/464680 [8:11:33<14:03, 42.49it/s]"
     ]
    },
    {
     "name": "stdout",
     "output_type": "stream",
     "text": [
      "💾 Saved 1000 more entries (up to #430000) to the file...\n"
     ]
    },
    {
     "name": "stderr",
     "output_type": "stream",
     "text": [
      "Scraping (XPath):  93%|█████████████████████████████████████████████████▉    | 429841/464680 [8:12:07<14:05, 41.19it/s]"
     ]
    },
    {
     "name": "stdout",
     "output_type": "stream",
     "text": [
      "💾 Saved 1000 more entries (up to #431000) to the file...\n"
     ]
    },
    {
     "name": "stderr",
     "output_type": "stream",
     "text": [
      "Scraping (XPath):  93%|██████████████████████████████████████████████████    | 430942/464680 [8:12:43<13:24, 41.94it/s]"
     ]
    },
    {
     "name": "stdout",
     "output_type": "stream",
     "text": [
      "💾 Saved 1000 more entries (up to #432000) to the file...\n"
     ]
    },
    {
     "name": "stderr",
     "output_type": "stream",
     "text": [
      "Scraping (XPath):  93%|██████████████████████████████████████████████████▏   | 431768/464680 [8:13:14<13:50, 39.65it/s]"
     ]
    },
    {
     "name": "stdout",
     "output_type": "stream",
     "text": [
      "💾 Saved 1000 more entries (up to #433000) to the file...\n"
     ]
    },
    {
     "name": "stderr",
     "output_type": "stream",
     "text": [
      "Scraping (XPath):  93%|██████████████████████████████████████████████████▎   | 432687/464680 [8:13:50<14:41, 36.28it/s]"
     ]
    },
    {
     "name": "stdout",
     "output_type": "stream",
     "text": [
      "💾 Saved 1000 more entries (up to #434000) to the file...\n"
     ]
    },
    {
     "name": "stderr",
     "output_type": "stream",
     "text": [
      "Scraping (XPath):  93%|██████████████████████████████████████████████████▍   | 433826/464680 [8:14:29<13:45, 37.38it/s]"
     ]
    },
    {
     "name": "stdout",
     "output_type": "stream",
     "text": [
      "💾 Saved 1000 more entries (up to #435000) to the file...\n"
     ]
    },
    {
     "name": "stderr",
     "output_type": "stream",
     "text": [
      "Scraping (XPath):  94%|██████████████████████████████████████████████████▌   | 434755/464680 [8:15:03<13:24, 37.21it/s]"
     ]
    },
    {
     "name": "stdout",
     "output_type": "stream",
     "text": [
      "💾 Saved 1000 more entries (up to #436000) to the file...\n"
     ]
    },
    {
     "name": "stderr",
     "output_type": "stream",
     "text": [
      "Scraping (XPath):  94%|██████████████████████████████████████████████████▌   | 435000/464680 [8:15:41<23:34, 20.98it/s]"
     ]
    },
    {
     "name": "stdout",
     "output_type": "stream",
     "text": [
      "💾 Saved 1000 more entries (up to #437000) to the file...\n"
     ]
    },
    {
     "name": "stderr",
     "output_type": "stream",
     "text": [
      "Scraping (XPath):  94%|██████████████████████████████████████████████████▊   | 436768/464680 [8:16:22<13:28, 34.53it/s]"
     ]
    },
    {
     "name": "stdout",
     "output_type": "stream",
     "text": [
      "💾 Saved 1000 more entries (up to #438000) to the file...\n"
     ]
    },
    {
     "name": "stderr",
     "output_type": "stream",
     "text": [
      "Scraping (XPath):  94%|██████████████████████████████████████████████████▊   | 437000/464680 [8:17:04<23:57, 19.26it/s]"
     ]
    },
    {
     "name": "stdout",
     "output_type": "stream",
     "text": [
      "💾 Saved 1000 more entries (up to #439000) to the file...\n"
     ]
    },
    {
     "name": "stderr",
     "output_type": "stream",
     "text": [
      "Scraping (XPath):  94%|██████████████████████████████████████████████████▉   | 438607/464680 [8:17:31<12:14, 35.49it/s]"
     ]
    },
    {
     "name": "stdout",
     "output_type": "stream",
     "text": [
      "💾 Saved 1000 more entries (up to #440000) to the file...\n"
     ]
    },
    {
     "name": "stderr",
     "output_type": "stream",
     "text": [
      "Scraping (XPath):  95%|███████████████████████████████████████████████████   | 439936/464680 [8:18:30<12:34, 32.78it/s]"
     ]
    },
    {
     "name": "stdout",
     "output_type": "stream",
     "text": [
      "💾 Saved 1000 more entries (up to #441000) to the file...\n"
     ]
    },
    {
     "name": "stderr",
     "output_type": "stream",
     "text": [
      "Scraping (XPath):  95%|███████████████████████████████████████████████████▏  | 440903/464680 [8:19:02<10:37, 37.29it/s]"
     ]
    },
    {
     "name": "stdout",
     "output_type": "stream",
     "text": [
      "💾 Saved 1000 more entries (up to #442000) to the file...\n"
     ]
    },
    {
     "name": "stderr",
     "output_type": "stream",
     "text": [
      "Scraping (XPath):  95%|███████████████████████████████████████████████████▏  | 441000/464680 [8:19:34<19:21, 20.38it/s]"
     ]
    },
    {
     "name": "stdout",
     "output_type": "stream",
     "text": [
      "💾 Saved 1000 more entries (up to #443000) to the file...\n"
     ]
    },
    {
     "name": "stderr",
     "output_type": "stream",
     "text": [
      "Scraping (XPath):  95%|███████████████████████████████████████████████████▍  | 442557/464680 [8:20:20<13:41, 26.93it/s]"
     ]
    },
    {
     "name": "stdout",
     "output_type": "stream",
     "text": [
      "💾 Saved 1000 more entries (up to #444000) to the file...\n"
     ]
    },
    {
     "name": "stderr",
     "output_type": "stream",
     "text": [
      "Scraping (XPath):  95%|███████████████████████████████████████████████████▌  | 443372/464680 [8:21:19<18:34, 19.12it/s]"
     ]
    },
    {
     "name": "stdout",
     "output_type": "stream",
     "text": [
      "💾 Saved 1000 more entries (up to #445000) to the file...\n"
     ]
    },
    {
     "name": "stderr",
     "output_type": "stream",
     "text": [
      "Scraping (XPath):  96%|█████████████████████████████████████████████████▋  | 444000/464680 [8:22:44<1:05:59,  5.22it/s]"
     ]
    },
    {
     "name": "stdout",
     "output_type": "stream",
     "text": [
      "💾 Saved 1000 more entries (up to #446000) to the file...\n"
     ]
    },
    {
     "name": "stderr",
     "output_type": "stream",
     "text": [
      "Scraping (XPath):  96%|███████████████████████████████████████████████████▊  | 445684/464680 [8:23:39<08:57, 35.34it/s]"
     ]
    },
    {
     "name": "stdout",
     "output_type": "stream",
     "text": [
      "💾 Saved 1000 more entries (up to #447000) to the file...\n"
     ]
    },
    {
     "name": "stderr",
     "output_type": "stream",
     "text": [
      "Scraping (XPath):  96%|███████████████████████████████████████████████████▉  | 446666/464680 [8:24:18<09:05, 33.03it/s]"
     ]
    },
    {
     "name": "stdout",
     "output_type": "stream",
     "text": [
      "💾 Saved 1000 more entries (up to #448000) to the file...\n"
     ]
    },
    {
     "name": "stderr",
     "output_type": "stream",
     "text": [
      "Scraping (XPath):  96%|███████████████████████████████████████████████████▉  | 447436/464680 [8:25:11<13:13, 21.74it/s]"
     ]
    },
    {
     "name": "stdout",
     "output_type": "stream",
     "text": [
      "💾 Saved 1000 more entries (up to #449000) to the file...\n"
     ]
    },
    {
     "name": "stderr",
     "output_type": "stream",
     "text": [
      "Scraping (XPath):  97%|████████████████████████████████████████████████████▏ | 448904/464680 [8:26:16<06:13, 42.27it/s]"
     ]
    },
    {
     "name": "stdout",
     "output_type": "stream",
     "text": [
      "💾 Saved 1000 more entries (up to #450000) to the file...\n"
     ]
    },
    {
     "name": "stderr",
     "output_type": "stream",
     "text": [
      "Scraping (XPath):  97%|████████████████████████████████████████████████████▎ | 449813/464680 [8:26:50<06:18, 39.29it/s]"
     ]
    },
    {
     "name": "stdout",
     "output_type": "stream",
     "text": [
      "💾 Saved 1000 more entries (up to #451000) to the file...\n"
     ]
    },
    {
     "name": "stderr",
     "output_type": "stream",
     "text": [
      "Scraping (XPath):  97%|████████████████████████████████████████████████████▎ | 450352/464680 [8:27:34<10:03, 23.73it/s]"
     ]
    },
    {
     "name": "stdout",
     "output_type": "stream",
     "text": [
      "💾 Saved 1000 more entries (up to #452000) to the file...\n"
     ]
    },
    {
     "name": "stderr",
     "output_type": "stream",
     "text": [
      "Scraping (XPath):  97%|████████████████████████████████████████████████████▍ | 451360/464680 [8:29:00<14:26, 15.38it/s]"
     ]
    },
    {
     "name": "stdout",
     "output_type": "stream",
     "text": [
      "💾 Saved 1000 more entries (up to #453000) to the file...\n"
     ]
    },
    {
     "name": "stderr",
     "output_type": "stream",
     "text": [
      "Scraping (XPath):  97%|████████████████████████████████████████████████████▌ | 452403/464680 [8:30:27<11:02, 18.54it/s]"
     ]
    },
    {
     "name": "stdout",
     "output_type": "stream",
     "text": [
      "💾 Saved 1000 more entries (up to #454000) to the file...\n"
     ]
    },
    {
     "name": "stderr",
     "output_type": "stream",
     "text": [
      "Scraping (XPath):  98%|████████████████████████████████████████████████████▋ | 453737/464680 [8:31:22<05:13, 34.91it/s]"
     ]
    },
    {
     "name": "stdout",
     "output_type": "stream",
     "text": [
      "💾 Saved 1000 more entries (up to #455000) to the file...\n"
     ]
    },
    {
     "name": "stderr",
     "output_type": "stream",
     "text": [
      "Scraping (XPath):  98%|████████████████████████████████████████████████████▊ | 454000/464680 [8:32:02<14:57, 11.89it/s]"
     ]
    },
    {
     "name": "stdout",
     "output_type": "stream",
     "text": [
      "💾 Saved 1000 more entries (up to #456000) to the file...\n"
     ]
    },
    {
     "name": "stderr",
     "output_type": "stream",
     "text": [
      "Scraping (XPath):  98%|████████████████████████████████████████████████████▉ | 455812/464680 [8:32:36<03:56, 37.46it/s]"
     ]
    },
    {
     "name": "stdout",
     "output_type": "stream",
     "text": [
      "💾 Saved 1000 more entries (up to #457000) to the file...\n"
     ]
    },
    {
     "name": "stderr",
     "output_type": "stream",
     "text": [
      "Scraping (XPath):  98%|█████████████████████████████████████████████████████ | 456777/464680 [8:33:12<03:35, 36.69it/s]"
     ]
    },
    {
     "name": "stdout",
     "output_type": "stream",
     "text": [
      "💾 Saved 1000 more entries (up to #458000) to the file...\n"
     ]
    },
    {
     "name": "stderr",
     "output_type": "stream",
     "text": [
      "Scraping (XPath):  98%|█████████████████████████████████████████████████████ | 457000/464680 [8:33:51<06:31, 19.64it/s]"
     ]
    },
    {
     "name": "stdout",
     "output_type": "stream",
     "text": [
      "💾 Saved 1000 more entries (up to #459000) to the file...\n"
     ]
    },
    {
     "name": "stderr",
     "output_type": "stream",
     "text": [
      "Scraping (XPath):  99%|█████████████████████████████████████████████████████▎| 458532/464680 [8:34:17<02:49, 36.26it/s]"
     ]
    },
    {
     "name": "stdout",
     "output_type": "stream",
     "text": [
      "💾 Saved 1000 more entries (up to #460000) to the file...\n"
     ]
    },
    {
     "name": "stderr",
     "output_type": "stream",
     "text": [
      "Scraping (XPath):  99%|█████████████████████████████████████████████████████▎| 459026/464680 [8:35:26<09:15, 10.17it/s]"
     ]
    },
    {
     "name": "stdout",
     "output_type": "stream",
     "text": [
      "💾 Saved 1000 more entries (up to #461000) to the file...\n"
     ]
    },
    {
     "name": "stderr",
     "output_type": "stream",
     "text": [
      "Scraping (XPath):  99%|█████████████████████████████████████████████████████▍| 460161/464680 [8:39:26<07:45,  9.70it/s]"
     ]
    },
    {
     "name": "stdout",
     "output_type": "stream",
     "text": [
      "💾 Saved 1000 more entries (up to #462000) to the file...\n"
     ]
    },
    {
     "name": "stderr",
     "output_type": "stream",
     "text": [
      "Scraping (XPath):  99%|█████████████████████████████████████████████████████▌| 461149/464680 [8:41:35<06:41,  8.80it/s]"
     ]
    },
    {
     "name": "stdout",
     "output_type": "stream",
     "text": [
      "💾 Saved 1000 more entries (up to #463000) to the file...\n"
     ]
    },
    {
     "name": "stderr",
     "output_type": "stream",
     "text": [
      "Scraping (XPath): 100%|█████████████████████████████████████████████████████▋| 462372/464680 [8:44:00<01:55, 19.99it/s]"
     ]
    },
    {
     "name": "stdout",
     "output_type": "stream",
     "text": [
      "💾 Saved 1000 more entries (up to #464000) to the file...\n"
     ]
    },
    {
     "name": "stderr",
     "output_type": "stream",
     "text": [
      "Scraping (XPath): 100%|█████████████████████████████████████████████████████▉| 463782/464680 [8:45:50<00:25, 35.28it/s]"
     ]
    },
    {
     "name": "stdout",
     "output_type": "stream",
     "text": [
      "💾 Saved 1000 more entries (up to #465000) to the file...\n"
     ]
    },
    {
     "name": "stderr",
     "output_type": "stream",
     "text": [
      "Scraping (XPath): 100%|██████████████████████████████████████████████████████| 464680/464680 [8:46:24<00:00, 14.71it/s]"
     ]
    },
    {
     "name": "stdout",
     "output_type": "stream",
     "text": [
      "💾 Saved 1000 more entries (up to #466000) to the file...\n"
     ]
    },
    {
     "name": "stderr",
     "output_type": "stream",
     "text": [
      "\n"
     ]
    },
    {
     "name": "stdout",
     "output_type": "stream",
     "text": [
      "\n",
      "✅ Done! Final enriched dataset saved to: bloomberght_articles_enriched_xpath.json\n"
     ]
    }
   ],
   "source": [
    "import requests\n",
    "import json\n",
    "import time\n",
    "import os\n",
    "from lxml import html\n",
    "from concurrent.futures import ThreadPoolExecutor, as_completed\n",
    "from tqdm import tqdm\n",
    "\n",
    "# === CONFIGURATION ===\n",
    "INPUT_FILE = \"bloomberght_2011_2025_links_with_wayback.json\"\n",
    "OUTPUT_FILE = \"bloomberght_articles_enriched_xpath.json\"\n",
    "TEMP_FILE = \"bloomberght_articles_partial_xpath.json\"\n",
    "MAX_RETRIES = 2\n",
    "SLEEP_BETWEEN_REQUESTS = 0.5\n",
    "SAVE_EVERY = 1000\n",
    "NUM_THREADS = 20\n",
    "\n",
    "# === Load input file ===\n",
    "with open(INPUT_FILE, \"r\", encoding=\"utf-8\") as f:\n",
    "    data = json.load(f)\n",
    "\n",
    "# === Resume from checkpoint if exists ===\n",
    "enriched_data = []\n",
    "start_index = 0\n",
    "if os.path.exists(TEMP_FILE):\n",
    "    with open(TEMP_FILE, \"r\", encoding=\"utf-8\") as f:\n",
    "        enriched_data = json.load(f)\n",
    "        start_index = len(enriched_data)\n",
    "    print(f\"🔁 Resuming from index {start_index}...\")\n",
    "\n",
    "# === Headers for requests ===\n",
    "headers = {\n",
    "    \"User-Agent\": \"Mozilla/5.0 (compatible; ArticleScraper/1.0)\"\n",
    "}\n",
    "\n",
    "# === Scraping Function (XPath using original_url) ===\n",
    "def scrape_article(entry):\n",
    "    url = entry[\"original_url\"]\n",
    "    for _ in range(MAX_RETRIES):\n",
    "        try:\n",
    "            response = requests.get(url, headers=headers, timeout=15)\n",
    "            if response.status_code == 200:\n",
    "                tree = html.fromstring(response.content)\n",
    "\n",
    "                title = tree.xpath(\"/html/body/main/div[1]/div[2]/div[1]/article/div[1]/div[2]/h1/text()\")\n",
    "                summary = tree.xpath(\"/html/body/main/div[1]/div[2]/div[1]/article/div[1]/div[2]/ul/li/h2/text()\")\n",
    "                body = tree.xpath(\"/html/body/main/div[1]/div[2]/div[1]/article/div[2]//text()\")\n",
    "                date = tree.xpath(\"/html/body/main/div[1]/div[2]/div[1]/article/div[1]/div[4]/div/div[1]/div[1]/text()\")\n",
    "\n",
    "                return {\n",
    "                    \"title\": title[0].strip() if title else \"\",\n",
    "                    \"subarticle\": summary[0].strip() if summary else \"\",\n",
    "                    \"article_time\": date[0].strip() if date else \"\",\n",
    "                    \"article_body\": \"\\n\".join([t.strip() for t in body if t.strip()])\n",
    "                }\n",
    "        except Exception:\n",
    "            pass\n",
    "        time.sleep(SLEEP_BETWEEN_REQUESTS)\n",
    "\n",
    "    return {\n",
    "        \"title\": \"\",\n",
    "        \"subarticle\": \"\",\n",
    "        \"article_time\": \"\",\n",
    "        \"article_body\": \"\"\n",
    "    }\n",
    "\n",
    "# === Multithreaded Processing ===\n",
    "to_process = data[start_index:]\n",
    "with ThreadPoolExecutor(max_workers=NUM_THREADS) as executor:\n",
    "    futures = {executor.submit(scrape_article, entry): i for i, entry in enumerate(to_process)}\n",
    "    temp_batch = []\n",
    "\n",
    "    for count, future in enumerate(tqdm(as_completed(futures), total=len(futures), desc=\"Scraping (XPath)\")):\n",
    "        index = futures[future]\n",
    "        entry = to_process[index]\n",
    "        result = future.result()\n",
    "        enriched_entry = {**entry, **result}\n",
    "        enriched_data.append(enriched_entry)\n",
    "        temp_batch.append(enriched_entry)\n",
    "\n",
    "        # Save every 1000\n",
    "        if len(enriched_data) % SAVE_EVERY == 0:\n",
    "            with open(TEMP_FILE, \"w\", encoding=\"utf-8\") as f:\n",
    "                json.dump(enriched_data, f, ensure_ascii=False, indent=2)\n",
    "            print(f\"💾 Saved 1000 more entries (up to #{start_index + len(enriched_data)}) to the file...\")\n",
    "\n",
    "# === Final Save ===\n",
    "with open(OUTPUT_FILE, \"w\", encoding=\"utf-8\") as f:\n",
    "    json.dump(enriched_data, f, ensure_ascii=False, indent=2)\n",
    "\n",
    "print(f\"\\n✅ Done! Final enriched dataset saved to: {OUTPUT_FILE}\")\n"
   ]
  },
  {
   "cell_type": "code",
   "execution_count": null,
   "id": "6de9d9d9-f4da-42a1-b51e-1396b1dfddf2",
   "metadata": {},
   "outputs": [],
   "source": []
  }
 ],
 "metadata": {
  "kernelspec": {
   "display_name": "Python 3 (ipykernel)",
   "language": "python",
   "name": "python3"
  },
  "language_info": {
   "codemirror_mode": {
    "name": "ipython",
    "version": 3
   },
   "file_extension": ".py",
   "mimetype": "text/x-python",
   "name": "python",
   "nbconvert_exporter": "python",
   "pygments_lexer": "ipython3",
   "version": "3.12.4"
  }
 },
 "nbformat": 4,
 "nbformat_minor": 5
}
