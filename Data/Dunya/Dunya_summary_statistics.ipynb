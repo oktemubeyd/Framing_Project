{
  "cells": [
    {
      "cell_type": "code",
      "execution_count": 1,
      "id": "9b46d0d6-f8fa-46ee-95fd-c3c9dd5618a3",
      "metadata": {
        "colab": {
          "base_uri": "https://localhost:8080/"
        },
        "id": "9b46d0d6-f8fa-46ee-95fd-c3c9dd5618a3",
        "outputId": "548e69b8-d4b8-4dc1-f900-01c6972ea4bc"
      },
      "outputs": [
        {
          "output_type": "stream",
          "name": "stdout",
          "text": [
            "✅ Total articles with non-empty article_body: 278992\n",
            "🔢 Min length: 1 words\n",
            "🔢 Max length: 11547 words\n",
            "📊 Average length: 271.17 words\n"
          ]
        }
      ],
      "source": [
        "import json\n",
        "\n",
        "# Load your enriched dataset\n",
        "with open(\"dunya_output_file_ALL.json\", \"r\", encoding=\"utf-8\") as f:\n",
        "    data = json.load(f)\n",
        "\n",
        "# Filter and measure article_body lengths (in words)\n",
        "lengths = [\n",
        "    len(entry[\"content\"].split())\n",
        "    for entry in data\n",
        "    if entry.get(\"content\") and entry[\"content\"].strip()\n",
        "]\n",
        "\n",
        "print(f\"✅ Total articles with non-empty article_body: {len(lengths)}\")\n",
        "print(f\"🔢 Min length: {min(lengths)} words\")\n",
        "print(f\"🔢 Max length: {max(lengths)} words\")\n",
        "print(f\"📊 Average length: {sum(lengths) / len(lengths):.2f} words\")\n"
      ]
    },
    {
      "cell_type": "code",
      "source": [
        "import pandas as pd\n",
        "\n",
        "data = pd.DataFrame(data)"
      ],
      "metadata": {
        "id": "3KLeARk2Fxy9"
      },
      "id": "3KLeARk2Fxy9",
      "execution_count": 2,
      "outputs": []
    },
    {
      "cell_type": "code",
      "source": [
        "print(data.head())\n",
        "\n",
        "print(len(data))"
      ],
      "metadata": {
        "colab": {
          "base_uri": "https://localhost:8080/"
        },
        "id": "GUH3MsqdF7Tn",
        "outputId": "54c403dd-b460-41c6-c333-62e3bd36d9c8"
      },
      "id": "GUH3MsqdF7Tn",
      "execution_count": 3,
      "outputs": [
        {
          "output_type": "stream",
          "name": "stdout",
          "text": [
            "              published_date                     update         category  \\\n",
            "0  2020-08-12T12:25:00+03:00  2020-08-12T12:25:00+03:00  sektorler_emlak   \n",
            "1  2015-07-23T13:51:37+03:00  2015-07-23T13:51:37+03:00  finans_haberler   \n",
            "2  2015-03-31T08:58:48+03:00  2015-03-31T08:58:48+03:00            dunya   \n",
            "3  2018-10-21T14:32:00+03:00  2018-10-21T14:32:00+03:00          ekonomi   \n",
            "4  2009-05-08T15:13:09+03:00  2009-05-08T15:13:09+03:00            dunya   \n",
            "\n",
            "                                                 url  \\\n",
            "0  https://www.dunya.com/sektorler/emlak/menkulle...   \n",
            "1  https://www.dunya.com/finans/haberler/merkez-b...   \n",
            "2  https://www.dunya.com/dunya/arap-ucaklari-bask...   \n",
            "3  https://www.dunya.com/ekonomi/sonbaharda-bir-n...   \n",
            "4  https://www.dunya.com/dunya/turkiyeli-ab-buyuk...   \n",
            "\n",
            "                                               title  \\\n",
            "0    'Menkulleşmeyle, milli gelir 25 bin $ olabilir'   \n",
            "1        Merkez Bankası faiz oranlarını değiştirmedi   \n",
            "2        Arap uçakları başkenti vurdu: 40 sivil öldü   \n",
            "3                       Sonbaharda bir nefes Silifke   \n",
            "4  ”Türkiyeli AB, büyük medeniyetlerin köprüsü olur”   \n",
            "\n",
            "                                            abstract  \\\n",
            "0  GABORAS CEO’su Kurtuluş Altun, gayrimenkul sek...   \n",
            "1  Merkez Bankası, politika faizinde ve faiz kori...   \n",
            "2  Yemen'e yönelik saldırıların 6. gününde başket...   \n",
            "3  Mersin’in doğası, tarihi, kültürü ve mağaralar...   \n",
            "4  Rehn, AB açısından Türkiye'nin öneminin sadece...   \n",
            "\n",
            "                                             content language     docname  \\\n",
            "0  \\nGayrimenkul sektörünün teknoloji ve güvenli ...  turkish  text165993   \n",
            "1  \\nTürkiye Cumhuriyet Merkez Bankası (TCMB) Par...  turkish  text165994   \n",
            "2  \\nSuudi Arabistan öncülüğündeki koalisyona bağ...  turkish  text165995   \n",
            "3  \\nDÜRDANE KIRÇUVAL\\nDoğayla kültürel zenginlik...  turkish  text165996   \n",
            "4  \\n  BRÜKSEL - AB Komisyonu'nun genişlemeden so...  turkish  text165997   \n",
            "\n",
            "   yatırım  predicted_label1  \n",
            "0   0.8133                 1  \n",
            "1   1.9636                 1  \n",
            "2  -0.6758                 1  \n",
            "3  -0.9051                 1  \n",
            "4   0.1368                 1  \n",
            "278992\n"
          ]
        }
      ]
    },
    {
      "cell_type": "code",
      "source": [
        "# Force parsing to datetime, assuming UTC for consistency\n",
        "data['published_date'] = pd.to_datetime(data['published_date'], utc=True)\n",
        "\n",
        "# Now extract the year safely\n",
        "data['year'] = data['published_date'].dt.year\n",
        "\n",
        "# Preview the result\n",
        "print(data[['published_date', 'year']].head())\n"
      ],
      "metadata": {
        "colab": {
          "base_uri": "https://localhost:8080/"
        },
        "id": "dhWhY55uFTTq",
        "outputId": "c51a7ece-906e-427a-fb78-681be188037c"
      },
      "id": "dhWhY55uFTTq",
      "execution_count": 4,
      "outputs": [
        {
          "output_type": "stream",
          "name": "stdout",
          "text": [
            "             published_date  year\n",
            "0 2020-08-12 09:25:00+00:00  2020\n",
            "1 2015-07-23 10:51:37+00:00  2015\n",
            "2 2015-03-31 05:58:48+00:00  2015\n",
            "3 2018-10-21 11:32:00+00:00  2018\n",
            "4 2009-05-08 12:13:09+00:00  2009\n"
          ]
        }
      ]
    },
    {
      "cell_type": "code",
      "source": [
        "data.tail()"
      ],
      "metadata": {
        "colab": {
          "base_uri": "https://localhost:8080/",
          "height": 293
        },
        "id": "uk1NUnROGZ83",
        "outputId": "3c4eea1c-0a53-4f4f-daa8-51c14b432d22"
      },
      "id": "uk1NUnROGZ83",
      "execution_count": 5,
      "outputs": [
        {
          "output_type": "execute_result",
          "data": {
            "text/plain": [
              "                  published_date                     update          category  \\\n",
              "278987 2015-01-05 09:11:37+00:00  2015-01-05T11:11:37+02:00            gundem   \n",
              "278988 2016-11-25 07:45:00+00:00  2016-11-25T10:45:00+03:00  sektorler_enerji   \n",
              "278989 2016-12-30 14:36:00+00:00  2016-12-30T17:36:00+03:00  sektorler_enerji   \n",
              "278990 2016-04-11 08:02:30+00:00  2016-04-11T11:02:30+03:00        is-dunyasi   \n",
              "278991 2022-03-09 17:54:00+00:00  2022-03-09T20:54:00+03:00           ekonomi   \n",
              "\n",
              "                                                      url  \\\n",
              "278987  https://www.dunya.com/gundem/kabine-ataturk-or...   \n",
              "278988  https://www.dunya.com/sektorler/enerji/brent-p...   \n",
              "278989  https://www.dunya.com/sektorler/enerji/bakanli...   \n",
              "278990  https://www.dunya.com/is-dunyasi/039risklere-d...   \n",
              "278991  https://www.dunya.com/ekonomi/benzin-ve-motori...   \n",
              "\n",
              "                                                  title  \\\n",
              "278987              Kabine, Atatürk Orman Çiftliği'nde!   \n",
              "278988      Brent petrol 48 dolar seviyelerine geriledi   \n",
              "278989       Bakanlık'tan elektrik kesintisi açıklaması   \n",
              "278990         'Risklere değil, fırsatlara odaklanalım'   \n",
              "278991  Benzin ve motorine yapılan son zam iptal edildi   \n",
              "\n",
              "                                                 abstract  \\\n",
              "278987  Başbakan Ahmet Davutoğlu, Bakanlar Kurulu üyel...   \n",
              "278988  Brent petrolün varil fiyatı, uluslararası piya...   \n",
              "278989  Enerji ve Tabii Kaynaklar Bakanlığı tarafından...   \n",
              "278990  TOBB Başkanı Hisarcıklıoğlu, \"Odaklanmamız ger...   \n",
              "278991  Enerji Petrol Gaz İkmal İstasyonları İşveren S...   \n",
              "\n",
              "                                                  content language  \\\n",
              "278987  \\nBaşbakan Ahmet Davutoğlu, 2015 yılının ilk B...  turkish   \n",
              "278988  \\nHafta başından bu yana Petrol İhraç Eden Ülk...  turkish   \n",
              "278989  \\nİstanbul Avrupa Yakası’nın elektrik dağıtımı...  turkish   \n",
              "278990  \\nTürkiye Odalar ve Borsalar Birliği (TOBB) Ba...  turkish   \n",
              "278991  \\nBenzin ve motorine yapılan ve 10 Mart 2022'd...  turkish   \n",
              "\n",
              "           docname  yatırım  predicted_label1  year  \n",
              "278987  text165988  -0.7873                 1  2015  \n",
              "278988  text165989  -0.4462                 1  2016  \n",
              "278989  text165990  -2.0414                 0  2016  \n",
              "278990  text165991   0.3966                 1  2016  \n",
              "278991  text165992   0.0883                 1  2022  "
            ],
            "text/html": [
              "\n",
              "  <div id=\"df-15ae6c10-b704-45b7-ba4a-5d96dc41736b\" class=\"colab-df-container\">\n",
              "    <div>\n",
              "<style scoped>\n",
              "    .dataframe tbody tr th:only-of-type {\n",
              "        vertical-align: middle;\n",
              "    }\n",
              "\n",
              "    .dataframe tbody tr th {\n",
              "        vertical-align: top;\n",
              "    }\n",
              "\n",
              "    .dataframe thead th {\n",
              "        text-align: right;\n",
              "    }\n",
              "</style>\n",
              "<table border=\"1\" class=\"dataframe\">\n",
              "  <thead>\n",
              "    <tr style=\"text-align: right;\">\n",
              "      <th></th>\n",
              "      <th>published_date</th>\n",
              "      <th>update</th>\n",
              "      <th>category</th>\n",
              "      <th>url</th>\n",
              "      <th>title</th>\n",
              "      <th>abstract</th>\n",
              "      <th>content</th>\n",
              "      <th>language</th>\n",
              "      <th>docname</th>\n",
              "      <th>yatırım</th>\n",
              "      <th>predicted_label1</th>\n",
              "      <th>year</th>\n",
              "    </tr>\n",
              "  </thead>\n",
              "  <tbody>\n",
              "    <tr>\n",
              "      <th>278987</th>\n",
              "      <td>2015-01-05 09:11:37+00:00</td>\n",
              "      <td>2015-01-05T11:11:37+02:00</td>\n",
              "      <td>gundem</td>\n",
              "      <td>https://www.dunya.com/gundem/kabine-ataturk-or...</td>\n",
              "      <td>Kabine, Atatürk Orman Çiftliği'nde!</td>\n",
              "      <td>Başbakan Ahmet Davutoğlu, Bakanlar Kurulu üyel...</td>\n",
              "      <td>\\nBaşbakan Ahmet Davutoğlu, 2015 yılının ilk B...</td>\n",
              "      <td>turkish</td>\n",
              "      <td>text165988</td>\n",
              "      <td>-0.7873</td>\n",
              "      <td>1</td>\n",
              "      <td>2015</td>\n",
              "    </tr>\n",
              "    <tr>\n",
              "      <th>278988</th>\n",
              "      <td>2016-11-25 07:45:00+00:00</td>\n",
              "      <td>2016-11-25T10:45:00+03:00</td>\n",
              "      <td>sektorler_enerji</td>\n",
              "      <td>https://www.dunya.com/sektorler/enerji/brent-p...</td>\n",
              "      <td>Brent petrol 48 dolar seviyelerine geriledi</td>\n",
              "      <td>Brent petrolün varil fiyatı, uluslararası piya...</td>\n",
              "      <td>\\nHafta başından bu yana Petrol İhraç Eden Ülk...</td>\n",
              "      <td>turkish</td>\n",
              "      <td>text165989</td>\n",
              "      <td>-0.4462</td>\n",
              "      <td>1</td>\n",
              "      <td>2016</td>\n",
              "    </tr>\n",
              "    <tr>\n",
              "      <th>278989</th>\n",
              "      <td>2016-12-30 14:36:00+00:00</td>\n",
              "      <td>2016-12-30T17:36:00+03:00</td>\n",
              "      <td>sektorler_enerji</td>\n",
              "      <td>https://www.dunya.com/sektorler/enerji/bakanli...</td>\n",
              "      <td>Bakanlık'tan elektrik kesintisi açıklaması</td>\n",
              "      <td>Enerji ve Tabii Kaynaklar Bakanlığı tarafından...</td>\n",
              "      <td>\\nİstanbul Avrupa Yakası’nın elektrik dağıtımı...</td>\n",
              "      <td>turkish</td>\n",
              "      <td>text165990</td>\n",
              "      <td>-2.0414</td>\n",
              "      <td>0</td>\n",
              "      <td>2016</td>\n",
              "    </tr>\n",
              "    <tr>\n",
              "      <th>278990</th>\n",
              "      <td>2016-04-11 08:02:30+00:00</td>\n",
              "      <td>2016-04-11T11:02:30+03:00</td>\n",
              "      <td>is-dunyasi</td>\n",
              "      <td>https://www.dunya.com/is-dunyasi/039risklere-d...</td>\n",
              "      <td>'Risklere değil, fırsatlara odaklanalım'</td>\n",
              "      <td>TOBB Başkanı Hisarcıklıoğlu, \"Odaklanmamız ger...</td>\n",
              "      <td>\\nTürkiye Odalar ve Borsalar Birliği (TOBB) Ba...</td>\n",
              "      <td>turkish</td>\n",
              "      <td>text165991</td>\n",
              "      <td>0.3966</td>\n",
              "      <td>1</td>\n",
              "      <td>2016</td>\n",
              "    </tr>\n",
              "    <tr>\n",
              "      <th>278991</th>\n",
              "      <td>2022-03-09 17:54:00+00:00</td>\n",
              "      <td>2022-03-09T20:54:00+03:00</td>\n",
              "      <td>ekonomi</td>\n",
              "      <td>https://www.dunya.com/ekonomi/benzin-ve-motori...</td>\n",
              "      <td>Benzin ve motorine yapılan son zam iptal edildi</td>\n",
              "      <td>Enerji Petrol Gaz İkmal İstasyonları İşveren S...</td>\n",
              "      <td>\\nBenzin ve motorine yapılan ve 10 Mart 2022'd...</td>\n",
              "      <td>turkish</td>\n",
              "      <td>text165992</td>\n",
              "      <td>0.0883</td>\n",
              "      <td>1</td>\n",
              "      <td>2022</td>\n",
              "    </tr>\n",
              "  </tbody>\n",
              "</table>\n",
              "</div>\n",
              "    <div class=\"colab-df-buttons\">\n",
              "\n",
              "  <div class=\"colab-df-container\">\n",
              "    <button class=\"colab-df-convert\" onclick=\"convertToInteractive('df-15ae6c10-b704-45b7-ba4a-5d96dc41736b')\"\n",
              "            title=\"Convert this dataframe to an interactive table.\"\n",
              "            style=\"display:none;\">\n",
              "\n",
              "  <svg xmlns=\"http://www.w3.org/2000/svg\" height=\"24px\" viewBox=\"0 -960 960 960\">\n",
              "    <path d=\"M120-120v-720h720v720H120Zm60-500h600v-160H180v160Zm220 220h160v-160H400v160Zm0 220h160v-160H400v160ZM180-400h160v-160H180v160Zm440 0h160v-160H620v160ZM180-180h160v-160H180v160Zm440 0h160v-160H620v160Z\"/>\n",
              "  </svg>\n",
              "    </button>\n",
              "\n",
              "  <style>\n",
              "    .colab-df-container {\n",
              "      display:flex;\n",
              "      gap: 12px;\n",
              "    }\n",
              "\n",
              "    .colab-df-convert {\n",
              "      background-color: #E8F0FE;\n",
              "      border: none;\n",
              "      border-radius: 50%;\n",
              "      cursor: pointer;\n",
              "      display: none;\n",
              "      fill: #1967D2;\n",
              "      height: 32px;\n",
              "      padding: 0 0 0 0;\n",
              "      width: 32px;\n",
              "    }\n",
              "\n",
              "    .colab-df-convert:hover {\n",
              "      background-color: #E2EBFA;\n",
              "      box-shadow: 0px 1px 2px rgba(60, 64, 67, 0.3), 0px 1px 3px 1px rgba(60, 64, 67, 0.15);\n",
              "      fill: #174EA6;\n",
              "    }\n",
              "\n",
              "    .colab-df-buttons div {\n",
              "      margin-bottom: 4px;\n",
              "    }\n",
              "\n",
              "    [theme=dark] .colab-df-convert {\n",
              "      background-color: #3B4455;\n",
              "      fill: #D2E3FC;\n",
              "    }\n",
              "\n",
              "    [theme=dark] .colab-df-convert:hover {\n",
              "      background-color: #434B5C;\n",
              "      box-shadow: 0px 1px 3px 1px rgba(0, 0, 0, 0.15);\n",
              "      filter: drop-shadow(0px 1px 2px rgba(0, 0, 0, 0.3));\n",
              "      fill: #FFFFFF;\n",
              "    }\n",
              "  </style>\n",
              "\n",
              "    <script>\n",
              "      const buttonEl =\n",
              "        document.querySelector('#df-15ae6c10-b704-45b7-ba4a-5d96dc41736b button.colab-df-convert');\n",
              "      buttonEl.style.display =\n",
              "        google.colab.kernel.accessAllowed ? 'block' : 'none';\n",
              "\n",
              "      async function convertToInteractive(key) {\n",
              "        const element = document.querySelector('#df-15ae6c10-b704-45b7-ba4a-5d96dc41736b');\n",
              "        const dataTable =\n",
              "          await google.colab.kernel.invokeFunction('convertToInteractive',\n",
              "                                                    [key], {});\n",
              "        if (!dataTable) return;\n",
              "\n",
              "        const docLinkHtml = 'Like what you see? Visit the ' +\n",
              "          '<a target=\"_blank\" href=https://colab.research.google.com/notebooks/data_table.ipynb>data table notebook</a>'\n",
              "          + ' to learn more about interactive tables.';\n",
              "        element.innerHTML = '';\n",
              "        dataTable['output_type'] = 'display_data';\n",
              "        await google.colab.output.renderOutput(dataTable, element);\n",
              "        const docLink = document.createElement('div');\n",
              "        docLink.innerHTML = docLinkHtml;\n",
              "        element.appendChild(docLink);\n",
              "      }\n",
              "    </script>\n",
              "  </div>\n",
              "\n",
              "\n",
              "<div id=\"df-4c3b6cae-cdff-4c47-9178-d147ab59aa3f\">\n",
              "  <button class=\"colab-df-quickchart\" onclick=\"quickchart('df-4c3b6cae-cdff-4c47-9178-d147ab59aa3f')\"\n",
              "            title=\"Suggest charts\"\n",
              "            style=\"display:none;\">\n",
              "\n",
              "<svg xmlns=\"http://www.w3.org/2000/svg\" height=\"24px\"viewBox=\"0 0 24 24\"\n",
              "     width=\"24px\">\n",
              "    <g>\n",
              "        <path d=\"M19 3H5c-1.1 0-2 .9-2 2v14c0 1.1.9 2 2 2h14c1.1 0 2-.9 2-2V5c0-1.1-.9-2-2-2zM9 17H7v-7h2v7zm4 0h-2V7h2v10zm4 0h-2v-4h2v4z\"/>\n",
              "    </g>\n",
              "</svg>\n",
              "  </button>\n",
              "\n",
              "<style>\n",
              "  .colab-df-quickchart {\n",
              "      --bg-color: #E8F0FE;\n",
              "      --fill-color: #1967D2;\n",
              "      --hover-bg-color: #E2EBFA;\n",
              "      --hover-fill-color: #174EA6;\n",
              "      --disabled-fill-color: #AAA;\n",
              "      --disabled-bg-color: #DDD;\n",
              "  }\n",
              "\n",
              "  [theme=dark] .colab-df-quickchart {\n",
              "      --bg-color: #3B4455;\n",
              "      --fill-color: #D2E3FC;\n",
              "      --hover-bg-color: #434B5C;\n",
              "      --hover-fill-color: #FFFFFF;\n",
              "      --disabled-bg-color: #3B4455;\n",
              "      --disabled-fill-color: #666;\n",
              "  }\n",
              "\n",
              "  .colab-df-quickchart {\n",
              "    background-color: var(--bg-color);\n",
              "    border: none;\n",
              "    border-radius: 50%;\n",
              "    cursor: pointer;\n",
              "    display: none;\n",
              "    fill: var(--fill-color);\n",
              "    height: 32px;\n",
              "    padding: 0;\n",
              "    width: 32px;\n",
              "  }\n",
              "\n",
              "  .colab-df-quickchart:hover {\n",
              "    background-color: var(--hover-bg-color);\n",
              "    box-shadow: 0 1px 2px rgba(60, 64, 67, 0.3), 0 1px 3px 1px rgba(60, 64, 67, 0.15);\n",
              "    fill: var(--button-hover-fill-color);\n",
              "  }\n",
              "\n",
              "  .colab-df-quickchart-complete:disabled,\n",
              "  .colab-df-quickchart-complete:disabled:hover {\n",
              "    background-color: var(--disabled-bg-color);\n",
              "    fill: var(--disabled-fill-color);\n",
              "    box-shadow: none;\n",
              "  }\n",
              "\n",
              "  .colab-df-spinner {\n",
              "    border: 2px solid var(--fill-color);\n",
              "    border-color: transparent;\n",
              "    border-bottom-color: var(--fill-color);\n",
              "    animation:\n",
              "      spin 1s steps(1) infinite;\n",
              "  }\n",
              "\n",
              "  @keyframes spin {\n",
              "    0% {\n",
              "      border-color: transparent;\n",
              "      border-bottom-color: var(--fill-color);\n",
              "      border-left-color: var(--fill-color);\n",
              "    }\n",
              "    20% {\n",
              "      border-color: transparent;\n",
              "      border-left-color: var(--fill-color);\n",
              "      border-top-color: var(--fill-color);\n",
              "    }\n",
              "    30% {\n",
              "      border-color: transparent;\n",
              "      border-left-color: var(--fill-color);\n",
              "      border-top-color: var(--fill-color);\n",
              "      border-right-color: var(--fill-color);\n",
              "    }\n",
              "    40% {\n",
              "      border-color: transparent;\n",
              "      border-right-color: var(--fill-color);\n",
              "      border-top-color: var(--fill-color);\n",
              "    }\n",
              "    60% {\n",
              "      border-color: transparent;\n",
              "      border-right-color: var(--fill-color);\n",
              "    }\n",
              "    80% {\n",
              "      border-color: transparent;\n",
              "      border-right-color: var(--fill-color);\n",
              "      border-bottom-color: var(--fill-color);\n",
              "    }\n",
              "    90% {\n",
              "      border-color: transparent;\n",
              "      border-bottom-color: var(--fill-color);\n",
              "    }\n",
              "  }\n",
              "</style>\n",
              "\n",
              "  <script>\n",
              "    async function quickchart(key) {\n",
              "      const quickchartButtonEl =\n",
              "        document.querySelector('#' + key + ' button');\n",
              "      quickchartButtonEl.disabled = true;  // To prevent multiple clicks.\n",
              "      quickchartButtonEl.classList.add('colab-df-spinner');\n",
              "      try {\n",
              "        const charts = await google.colab.kernel.invokeFunction(\n",
              "            'suggestCharts', [key], {});\n",
              "      } catch (error) {\n",
              "        console.error('Error during call to suggestCharts:', error);\n",
              "      }\n",
              "      quickchartButtonEl.classList.remove('colab-df-spinner');\n",
              "      quickchartButtonEl.classList.add('colab-df-quickchart-complete');\n",
              "    }\n",
              "    (() => {\n",
              "      let quickchartButtonEl =\n",
              "        document.querySelector('#df-4c3b6cae-cdff-4c47-9178-d147ab59aa3f button');\n",
              "      quickchartButtonEl.style.display =\n",
              "        google.colab.kernel.accessAllowed ? 'block' : 'none';\n",
              "    })();\n",
              "  </script>\n",
              "</div>\n",
              "\n",
              "    </div>\n",
              "  </div>\n"
            ],
            "application/vnd.google.colaboratory.intrinsic+json": {
              "type": "dataframe",
              "repr_error": "0"
            }
          },
          "metadata": {},
          "execution_count": 5
        }
      ]
    },
    {
      "cell_type": "code",
      "execution_count": 6,
      "id": "b4463f1f-8084-469b-bc6f-a710dbadc3f6",
      "metadata": {
        "colab": {
          "base_uri": "https://localhost:8080/",
          "height": 607
        },
        "id": "b4463f1f-8084-469b-bc6f-a710dbadc3f6",
        "outputId": "e625f108-a863-43a6-bb7e-863d87b79383"
      },
      "outputs": [
        {
          "output_type": "display_data",
          "data": {
            "text/plain": [
              "<Figure size 1000x600 with 1 Axes>"
            ],
            "image/png": "[encoded data removed]"
          },
          "metadata": {}
        }
      ],
      "source": [
        "import matplotlib.pyplot as plt\n",
        "\n",
        "# Group and count by year\n",
        "year_counts = data['year'].value_counts().sort_index()\n",
        "\n",
        "# Plot\n",
        "plt.figure(figsize=(10, 6))\n",
        "plt.bar(year_counts.index, year_counts.values)\n",
        "plt.xlabel('Year', fontsize=14)\n",
        "plt.ylabel('Number of Articles', fontsize=14)\n",
        "plt.title('Number of Articles Published per Year', fontsize=16)\n",
        "plt.xticks(rotation=45)\n",
        "plt.tight_layout()\n",
        "plt.show()"
      ]
    },
    {
      "cell_type": "markdown",
      "id": "e15f1332-ef45-4ff5-b7d3-03f6c0e60898",
      "metadata": {
        "id": "e15f1332-ef45-4ff5-b7d3-03f6c0e60898"
      },
      "source": [
        "## Filtering the Articles"
      ]
    },
    {
      "cell_type": "code",
      "source": [
        "import json\n",
        "import re\n",
        "\n",
        "OUTPUT_FILE = \"dunya_china_framed_articles_with_all_texts.json\"\n",
        "\n",
        "# Define your keyword pattern\n",
        "keyword_patterns = [\n",
        "    r\"(?<!\\w)Çin(?:['’]?[a-zA-ZçğıöşüÇĞİÖŞÜ]*)?(?!\\w)\",\n",
        "    r\"(?<!\\w)Pekin(?:['’]?[a-zA-ZçğıöşüÇĞİÖŞÜ]*)?(?!\\w)\",\n",
        "    r\"(?<!\\w)Huawei(?!\\w)\",\n",
        "    r\"Kuşak ve Yol\",\n",
        "    r\"İpek Yolu\",\n",
        "    r\"(?<!\\w)Taiwan(?!\\w)\",\n",
        "    r\"(?<!\\w)Tayvan(?!\\w)\",\n",
        "    r\"(?<!\\w)China(?!\\w)\",\n",
        "    r\"(?<!\\w)Beijing(?!\\w)\",\n",
        "    r\"Belt and Road\"\n",
        "]\n",
        "pattern = re.compile(\"|\".join(keyword_patterns), re.IGNORECASE)\n",
        "\n",
        "# Filter and collect rows\n",
        "filtered = []\n",
        "\n",
        "for _, row in data.iterrows():\n",
        "    title = str(row.get(\"title\", \"\"))\n",
        "    abstract = str(row.get(\"abstract\", \"\"))\n",
        "    content = str(row.get(\"content\", \"\"))\n",
        "\n",
        "    all_texts = f\"{title}\\n{abstract}\\n{content}\".strip()\n",
        "\n",
        "    if pattern.search(all_texts):\n",
        "        row_dict = row.astype(str).to_dict()  # convert every value to string\n",
        "        row_dict[\"all_texts\"] = all_texts\n",
        "        filtered.append(row_dict)\n",
        "\n",
        "# Now save to JSON safely\n",
        "with open(OUTPUT_FILE, \"w\", encoding=\"utf-8\") as f:\n",
        "    json.dump(filtered, f, ensure_ascii=False, indent=2)\n",
        "\n",
        "# Show result summary\n",
        "print(f\"✅ Found {len(filtered)} China-related articles\")\n",
        "for article in filtered[:5]:\n",
        "    print(\"-\", article[\"title\"])\n"
      ],
      "metadata": {
        "colab": {
          "base_uri": "https://localhost:8080/"
        },
        "id": "UrwK5wY-JInp",
        "outputId": "184eba10-4e58-47a1-f011-9cca05f91473"
      },
      "id": "UrwK5wY-JInp",
      "execution_count": 7,
      "outputs": [
        {
          "output_type": "stream",
          "name": "stdout",
          "text": [
            "✅ Found 22277 China-related articles\n",
            "- New York borsası sert düşüşle açıldı\n",
            "- Dış borsalarda Noel rehaveti\n",
            "- ABD'de endeksler düşüşle açıldı\n",
            "- Çin'de lüks tüketiminin artması, Türk hazır giyimine yaradı\n",
            "- Nepal’de Türk işadamları için 7 yatırım fırsatı\n"
          ]
        }
      ]
    },
    {
      "cell_type": "markdown",
      "id": "4896083b-64d7-4d20-b30a-56cb84787035",
      "metadata": {
        "id": "4896083b-64d7-4d20-b30a-56cb84787035"
      },
      "source": [
        "## Removing duplicates with respect to url"
      ]
    },
    {
      "cell_type": "code",
      "execution_count": 8,
      "id": "86362954-1986-49ef-bf56-ad981cac880e",
      "metadata": {
        "colab": {
          "base_uri": "https://localhost:8080/"
        },
        "id": "86362954-1986-49ef-bf56-ad981cac880e",
        "outputId": "32130589-6146-4f4e-a827-798d4303ab4f"
      },
      "outputs": [
        {
          "output_type": "stream",
          "name": "stdout",
          "text": [
            "✅ Final deduplicated dataset saved as 'dunya_china_framed_articles_final.json'\n",
            "📦 Total unique articles: 22277\n"
          ]
        }
      ],
      "source": [
        "import json\n",
        "\n",
        "INPUT_FILE = \"dunya_china_framed_articles_with_all_texts.json\"\n",
        "OUTPUT_FILE = \"dunya_china_framed_articles_final.json\"\n",
        "\n",
        "# Load data\n",
        "with open(INPUT_FILE, \"r\", encoding=\"utf-8\") as f:\n",
        "    data = json.load(f)\n",
        "\n",
        "# Remove duplicates by url\n",
        "unique_articles = {}\n",
        "for article in data:\n",
        "    url = article.get(\"url\")\n",
        "    if url and url not in unique_articles:\n",
        "        unique_articles[url] = article\n",
        "\n",
        "# Convert back to list\n",
        "deduplicated = list(unique_articles.values())\n",
        "\n",
        "# Save final JSON\n",
        "with open(OUTPUT_FILE, \"w\", encoding=\"utf-8\") as f:\n",
        "    json.dump(deduplicated, f, ensure_ascii=False, indent=2)\n",
        "\n",
        "print(f\"✅ Final deduplicated dataset saved as '{OUTPUT_FILE}'\")\n",
        "print(f\"📦 Total unique articles: {len(deduplicated)}\")\n"
      ]
    },
    {
      "cell_type": "markdown",
      "id": "33207a58-985d-4aa1-ba66-56425205c297",
      "metadata": {
        "id": "33207a58-985d-4aa1-ba66-56425205c297"
      },
      "source": [
        "## Removing duplicates with respect to docname"
      ]
    },
    {
      "cell_type": "code",
      "execution_count": 9,
      "id": "4fdbc3dc-508c-4fc2-b315-b1a6733c5019",
      "metadata": {
        "colab": {
          "base_uri": "https://localhost:8080/"
        },
        "id": "4fdbc3dc-508c-4fc2-b315-b1a6733c5019",
        "outputId": "5b8d1350-ae6c-4cdf-e047-bc61856882a4"
      },
      "outputs": [
        {
          "output_type": "stream",
          "name": "stdout",
          "text": [
            "✅ Final deduplicated dataset saved as 'dunya_china_framed_articles_final.json'\n",
            "📦 Total unique articles: 22277\n"
          ]
        }
      ],
      "source": [
        "import json\n",
        "\n",
        "INPUT_FILE = \"dunya_china_framed_articles_with_all_texts.json\"\n",
        "OUTPUT_FILE = \"dunya_china_framed_articles_final.json\"\n",
        "\n",
        "# Load data\n",
        "with open(INPUT_FILE, \"r\", encoding=\"utf-8\") as f:\n",
        "    data = json.load(f)\n",
        "\n",
        "# Remove duplicates by docname\n",
        "unique_articles = {}\n",
        "for article in data:\n",
        "    url = article.get(\"docname\")\n",
        "    if url and url not in unique_articles:\n",
        "        unique_articles[url] = article\n",
        "\n",
        "# Convert back to list\n",
        "deduplicated = list(unique_articles.values())\n",
        "\n",
        "# Save final JSON\n",
        "with open(OUTPUT_FILE, \"w\", encoding=\"utf-8\") as f:\n",
        "    json.dump(deduplicated, f, ensure_ascii=False, indent=2)\n",
        "\n",
        "print(f\"✅ Final deduplicated dataset saved as '{OUTPUT_FILE}'\")\n",
        "print(f\"📦 Total unique articles: {len(deduplicated)}\")\n"
      ]
    },
    {
      "cell_type": "markdown",
      "id": "d12ca494-b184-4d3d-85f4-b9c9e6b104fb",
      "metadata": {
        "id": "d12ca494-b184-4d3d-85f4-b9c9e6b104fb"
      },
      "source": [
        "## Visualising by year"
      ]
    },
    {
      "cell_type": "code",
      "execution_count": 10,
      "id": "9fd96a65-c263-4cba-bd6c-4aca8cacae80",
      "metadata": {
        "colab": {
          "base_uri": "https://localhost:8080/",
          "height": 676
        },
        "id": "9fd96a65-c263-4cba-bd6c-4aca8cacae80",
        "outputId": "27d6b38a-ea66-4f85-f917-300a099571ac"
      },
      "outputs": [
        {
          "output_type": "stream",
          "name": "stderr",
          "text": [
            "<ipython-input-10-91b4486cb3a1>:24: UserWarning: Glyph 128202 (\\N{BAR CHART}) missing from font(s) DejaVu Sans.\n",
            "  plt.tight_layout()\n",
            "/usr/local/lib/python3.11/dist-packages/IPython/core/pylabtools.py:151: UserWarning: Glyph 128202 (\\N{BAR CHART}) missing from font(s) DejaVu Sans.\n",
            "  fig.canvas.print_figure(bytes_io, **kw)\n"
          ]
        },
        {
          "output_type": "display_data",
          "data": {
            "text/plain": [
              "<Figure size 1200x600 with 1 Axes>"
            ],
            "image/png": "[encoded data removed]"
          },
          "metadata": {}
        }
      ],
      "source": [
        "import json\n",
        "from collections import Counter\n",
        "import matplotlib.pyplot as plt\n",
        "\n",
        "INPUT_FILE = \"dunya_china_framed_articles_final.json\"\n",
        "\n",
        "# Load deduplicated dataset\n",
        "with open(INPUT_FILE, \"r\", encoding=\"utf-8\") as f:\n",
        "    data = json.load(f)\n",
        "\n",
        "# Count articles per year\n",
        "year_counts = Counter(article[\"year\"] for article in data if \"year\" in article)\n",
        "\n",
        "sorted_years = sorted(year_counts.items())\n",
        "\n",
        "# Plotting\n",
        "labels, values = zip(*sorted_years)\n",
        "plt.figure(figsize=(12, 6))\n",
        "plt.bar(labels, values, color=\"steelblue\")\n",
        "plt.xlabel(\"Year\")\n",
        "plt.ylabel(\"Number of China-Framed Articles\")\n",
        "plt.title(\"📊 Number of China-Framed Articles by Year (Using timestamp)\")\n",
        "plt.xticks(rotation=45)\n",
        "plt.tight_layout()\n",
        "plt.show()\n"
      ]
    }
  ],
  "metadata": {
    "kernelspec": {
      "display_name": "Python 3",
      "name": "python3"
    },
    "language_info": {
      "codemirror_mode": {
        "name": "ipython",
        "version": 3
      },
      "file_extension": ".py",
      "mimetype": "text/x-python",
      "name": "python",
      "nbconvert_exporter": "python",
      "pygments_lexer": "ipython3",
      "version": "3.12.4"
    },
    "colab": {
      "provenance": [],
      "machine_shape": "hm"
    }
  },
  "nbformat": 4,
  "nbformat_minor": 5
}