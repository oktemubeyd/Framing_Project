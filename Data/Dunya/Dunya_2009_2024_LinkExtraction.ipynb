{
 "cells": [
  {
   "cell_type": "markdown",
   "id": "847df41e-7594-4e53-8c96-01e05438d8d6",
   "metadata": {},
   "source": [
    "## Dunya 2009-2025 "
   ]
  },
  {
   "cell_type": "code",
   "execution_count": 2,
   "id": "5cfa4648-4fb2-43b8-ab4d-fca1225f76b6",
   "metadata": {},
   "outputs": [
    {
     "name": "stdout",
     "output_type": "stream",
     "text": [
      "🔍 Fetching 2009–2025 data from the Wayback Machine for dunya.com...\n",
      "📄 Found 1325706 links. Adding Wayback URLs and saving to JSON...\n"
     ]
    },
    {
     "name": "stderr",
     "output_type": "stream",
     "text": [
      "Processing: 100%|████████████████████████████████████████████████████████| 1325706/1325706 [00:04<00:00, 303341.94it/s]\n"
     ]
    },
    {
     "name": "stdout",
     "output_type": "stream",
     "text": [
      "\n",
      "✅ Saved 1325706 entries to 'dunya_2009_2025_links_with_wayback.json'\n",
      "⏱️ Time taken: 577.76 seconds\n"
     ]
    }
   ],
   "source": [
    "import requests\n",
    "import json\n",
    "from tqdm import tqdm\n",
    "import time\n",
    "\n",
    "# Start timer\n",
    "start_time = time.time()\n",
    "\n",
    "# Define the CDX API URL and parameters for Jan 2011 – Jan 2025\n",
    "cdx_url = \"http://web.archive.org/cdx/search/cdx\"\n",
    "params = {\n",
    "    \"url\": \"dunya.com/*\",\n",
    "    \"from\": \"20090101\",\n",
    "    \"to\": \"20250101\",\n",
    "    \"output\": \"json\",\n",
    "    \"fl\": \"timestamp,original\",\n",
    "    \"collapse\": \"urlkey\"\n",
    "}\n",
    "\n",
    "# Make the request\n",
    "print(\"🔍 Fetching 2009–2025 data from the Wayback Machine for dunya.com...\")\n",
    "response = requests.get(cdx_url, params=params)\n",
    "\n",
    "if response.status_code == 200:\n",
    "    data = response.json()\n",
    "    links = data[1:]  # Skip the header\n",
    "\n",
    "    print(f\"📄 Found {len(links)} links. Adding Wayback URLs and saving to JSON...\")\n",
    "\n",
    "    result = []\n",
    "    for ts, url in tqdm(links, desc=\"Processing\"):\n",
    "        result.append({\n",
    "            \"timestamp\": ts,\n",
    "            \"original_url\": url,\n",
    "            \"wayback_url\": f\"https://web.archive.org/web/{ts}/{url}\",\n",
    "            \"wayback_raw_url\": f\"https://web.archive.org/web/{ts}id_/{url}\"\n",
    "        })\n",
    "\n",
    "    # Save to JSON file\n",
    "    with open(\"dunya_2009_2025_links_with_wayback.json\", \"w\", encoding=\"utf-8\") as f:\n",
    "        json.dump(result, f, ensure_ascii=False, indent=2)\n",
    "\n",
    "    end_time = time.time()\n",
    "    print(f\"\\n✅ Saved {len(result)} entries to 'dunya_2009_2025_links_with_wayback.json'\")\n",
    "    print(f\"⏱️ Time taken: {end_time - start_time:.2f} seconds\")\n",
    "\n",
    "else:\n",
    "    print(\"❌ Failed to retrieve data:\", response.status_code)"
   ]
  },
  {
   "cell_type": "code",
   "execution_count": null,
   "id": "d65c710d-3a66-4bed-9270-a4fea8eb6eff",
   "metadata": {},
   "outputs": [],
   "source": []
  },
  {
   "cell_type": "code",
   "execution_count": null,
   "id": "ff35f1b1-833c-44c0-9764-934c9725efff",
   "metadata": {},
   "outputs": [],
   "source": []
  }
 ],
 "metadata": {
  "kernelspec": {
   "display_name": "Python 3 (ipykernel)",
   "language": "python",
   "name": "python3"
  },
  "language_info": {
   "codemirror_mode": {
    "name": "ipython",
    "version": 3
   },
   "file_extension": ".py",
   "mimetype": "text/x-python",
   "name": "python",
   "nbconvert_exporter": "python",
   "pygments_lexer": "ipython3",
   "version": "3.12.4"
  }
 },
 "nbformat": 4,
 "nbformat_minor": 5
}
